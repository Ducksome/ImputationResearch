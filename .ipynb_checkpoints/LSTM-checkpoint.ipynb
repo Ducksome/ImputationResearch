{
 "cells": [
  {
   "cell_type": "code",
   "execution_count": 1,
   "metadata": {},
   "outputs": [],
   "source": [
    "import matplotlib.pyplot as plt\n",
    "import seaborn as sns\n",
    "import numpy as np\n",
    "import pandas as pd"
   ]
  },
  {
   "cell_type": "code",
   "execution_count": 2,
   "metadata": {},
   "outputs": [],
   "source": [
    "df = pd.read_csv(\"dataport-export_gas_oct2015-mar2016.csv\")"
   ]
  },
  {
   "cell_type": "code",
   "execution_count": 3,
   "metadata": {},
   "outputs": [
    {
     "data": {
      "text/html": [
       "<div>\n",
       "<style scoped>\n",
       "    .dataframe tbody tr th:only-of-type {\n",
       "        vertical-align: middle;\n",
       "    }\n",
       "\n",
       "    .dataframe tbody tr th {\n",
       "        vertical-align: top;\n",
       "    }\n",
       "\n",
       "    .dataframe thead th {\n",
       "        text-align: right;\n",
       "    }\n",
       "</style>\n",
       "<table border=\"1\" class=\"dataframe\">\n",
       "  <thead>\n",
       "    <tr style=\"text-align: right;\">\n",
       "      <th></th>\n",
       "      <th>localminute</th>\n",
       "      <th>dataid</th>\n",
       "      <th>meter_value</th>\n",
       "    </tr>\n",
       "  </thead>\n",
       "  <tbody>\n",
       "    <tr>\n",
       "      <th>0</th>\n",
       "      <td>2015-10-01 00:00:10-05</td>\n",
       "      <td>739</td>\n",
       "      <td>88858</td>\n",
       "    </tr>\n",
       "    <tr>\n",
       "      <th>1</th>\n",
       "      <td>2015-10-01 00:00:13-05</td>\n",
       "      <td>8890</td>\n",
       "      <td>197164</td>\n",
       "    </tr>\n",
       "    <tr>\n",
       "      <th>2</th>\n",
       "      <td>2015-10-01 00:00:20-05</td>\n",
       "      <td>6910</td>\n",
       "      <td>179118</td>\n",
       "    </tr>\n",
       "    <tr>\n",
       "      <th>3</th>\n",
       "      <td>2015-10-01 00:00:22-05</td>\n",
       "      <td>3635</td>\n",
       "      <td>151318</td>\n",
       "    </tr>\n",
       "    <tr>\n",
       "      <th>4</th>\n",
       "      <td>2015-10-01 00:00:22-05</td>\n",
       "      <td>1507</td>\n",
       "      <td>390354</td>\n",
       "    </tr>\n",
       "  </tbody>\n",
       "</table>\n",
       "</div>"
      ],
      "text/plain": [
       "              localminute  dataid  meter_value\n",
       "0  2015-10-01 00:00:10-05     739        88858\n",
       "1  2015-10-01 00:00:13-05    8890       197164\n",
       "2  2015-10-01 00:00:20-05    6910       179118\n",
       "3  2015-10-01 00:00:22-05    3635       151318\n",
       "4  2015-10-01 00:00:22-05    1507       390354"
      ]
     },
     "execution_count": 3,
     "metadata": {},
     "output_type": "execute_result"
    }
   ],
   "source": [
    "df.head()"
   ]
  },
  {
   "cell_type": "code",
   "execution_count": 4,
   "metadata": {},
   "outputs": [
    {
     "data": {
      "text/plain": [
       "localminute    object\n",
       "dataid          int64\n",
       "meter_value     int64\n",
       "dtype: object"
      ]
     },
     "execution_count": 4,
     "metadata": {},
     "output_type": "execute_result"
    }
   ],
   "source": [
    "df.dtypes"
   ]
  },
  {
   "cell_type": "code",
   "execution_count": 5,
   "metadata": {},
   "outputs": [
    {
     "data": {
      "text/html": [
       "<div>\n",
       "<style scoped>\n",
       "    .dataframe tbody tr th:only-of-type {\n",
       "        vertical-align: middle;\n",
       "    }\n",
       "\n",
       "    .dataframe tbody tr th {\n",
       "        vertical-align: top;\n",
       "    }\n",
       "\n",
       "    .dataframe thead th {\n",
       "        text-align: right;\n",
       "    }\n",
       "</style>\n",
       "<table border=\"1\" class=\"dataframe\">\n",
       "  <thead>\n",
       "    <tr style=\"text-align: right;\">\n",
       "      <th></th>\n",
       "      <th>count</th>\n",
       "      <th>mean</th>\n",
       "      <th>std</th>\n",
       "      <th>min</th>\n",
       "      <th>25%</th>\n",
       "      <th>50%</th>\n",
       "      <th>75%</th>\n",
       "      <th>max</th>\n",
       "    </tr>\n",
       "    <tr>\n",
       "      <th>dataid</th>\n",
       "      <th></th>\n",
       "      <th></th>\n",
       "      <th></th>\n",
       "      <th></th>\n",
       "      <th></th>\n",
       "      <th></th>\n",
       "      <th></th>\n",
       "      <th></th>\n",
       "    </tr>\n",
       "  </thead>\n",
       "  <tbody>\n",
       "    <tr>\n",
       "      <th>35</th>\n",
       "      <td>11872.0</td>\n",
       "      <td>98799.541779</td>\n",
       "      <td>3585.696685</td>\n",
       "      <td>93470.0</td>\n",
       "      <td>95402.0</td>\n",
       "      <td>98397.0</td>\n",
       "      <td>102309.0</td>\n",
       "      <td>104692.0</td>\n",
       "    </tr>\n",
       "    <tr>\n",
       "      <th>44</th>\n",
       "      <td>1549.0</td>\n",
       "      <td>168857.252421</td>\n",
       "      <td>1621.907607</td>\n",
       "      <td>165674.0</td>\n",
       "      <td>167868.0</td>\n",
       "      <td>168188.0</td>\n",
       "      <td>169672.0</td>\n",
       "      <td>175070.0</td>\n",
       "    </tr>\n",
       "    <tr>\n",
       "      <th>77</th>\n",
       "      <td>10683.0</td>\n",
       "      <td>61162.735748</td>\n",
       "      <td>1655.197037</td>\n",
       "      <td>58832.0</td>\n",
       "      <td>59790.0</td>\n",
       "      <td>60742.0</td>\n",
       "      <td>62590.0</td>\n",
       "      <td>64652.0</td>\n",
       "    </tr>\n",
       "    <tr>\n",
       "      <th>94</th>\n",
       "      <td>36335.0</td>\n",
       "      <td>126452.122086</td>\n",
       "      <td>8260.652894</td>\n",
       "      <td>116642.0</td>\n",
       "      <td>117894.0</td>\n",
       "      <td>124482.0</td>\n",
       "      <td>134538.0</td>\n",
       "      <td>140358.0</td>\n",
       "    </tr>\n",
       "    <tr>\n",
       "      <th>114</th>\n",
       "      <td>2597.0</td>\n",
       "      <td>136067.471698</td>\n",
       "      <td>6187.644319</td>\n",
       "      <td>128294.0</td>\n",
       "      <td>129930.0</td>\n",
       "      <td>134774.0</td>\n",
       "      <td>143072.0</td>\n",
       "      <td>145298.0</td>\n",
       "    </tr>\n",
       "    <tr>\n",
       "      <th>...</th>\n",
       "      <td>...</td>\n",
       "      <td>...</td>\n",
       "      <td>...</td>\n",
       "      <td>...</td>\n",
       "      <td>...</td>\n",
       "      <td>...</td>\n",
       "      <td>...</td>\n",
       "      <td>...</td>\n",
       "    </tr>\n",
       "    <tr>\n",
       "      <th>9729</th>\n",
       "      <td>12361.0</td>\n",
       "      <td>129427.883019</td>\n",
       "      <td>5794.697171</td>\n",
       "      <td>122186.0</td>\n",
       "      <td>123380.0</td>\n",
       "      <td>128152.0</td>\n",
       "      <td>135684.0</td>\n",
       "      <td>138146.0</td>\n",
       "    </tr>\n",
       "    <tr>\n",
       "      <th>9766</th>\n",
       "      <td>2282.0</td>\n",
       "      <td>171690.504820</td>\n",
       "      <td>7682.217141</td>\n",
       "      <td>158512.0</td>\n",
       "      <td>161656.0</td>\n",
       "      <td>176406.0</td>\n",
       "      <td>177428.0</td>\n",
       "      <td>179902.0</td>\n",
       "    </tr>\n",
       "    <tr>\n",
       "      <th>9849</th>\n",
       "      <td>2741.0</td>\n",
       "      <td>35566.648668</td>\n",
       "      <td>1675.226417</td>\n",
       "      <td>33632.0</td>\n",
       "      <td>34070.0</td>\n",
       "      <td>35172.0</td>\n",
       "      <td>36632.0</td>\n",
       "      <td>39292.0</td>\n",
       "    </tr>\n",
       "    <tr>\n",
       "      <th>9956</th>\n",
       "      <td>1292.0</td>\n",
       "      <td>99377.100619</td>\n",
       "      <td>2762.759712</td>\n",
       "      <td>95860.0</td>\n",
       "      <td>96164.0</td>\n",
       "      <td>100438.0</td>\n",
       "      <td>101822.5</td>\n",
       "      <td>107042.0</td>\n",
       "    </tr>\n",
       "    <tr>\n",
       "      <th>9982</th>\n",
       "      <td>1540.0</td>\n",
       "      <td>111574.022078</td>\n",
       "      <td>3887.218866</td>\n",
       "      <td>105946.0</td>\n",
       "      <td>108470.5</td>\n",
       "      <td>110451.0</td>\n",
       "      <td>115046.5</td>\n",
       "      <td>123708.0</td>\n",
       "    </tr>\n",
       "  </tbody>\n",
       "</table>\n",
       "<p>157 rows × 8 columns</p>\n",
       "</div>"
      ],
      "text/plain": [
       "          count           mean          std       min       25%       50%  \\\n",
       "dataid                                                                      \n",
       "35      11872.0   98799.541779  3585.696685   93470.0   95402.0   98397.0   \n",
       "44       1549.0  168857.252421  1621.907607  165674.0  167868.0  168188.0   \n",
       "77      10683.0   61162.735748  1655.197037   58832.0   59790.0   60742.0   \n",
       "94      36335.0  126452.122086  8260.652894  116642.0  117894.0  124482.0   \n",
       "114      2597.0  136067.471698  6187.644319  128294.0  129930.0  134774.0   \n",
       "...         ...            ...          ...       ...       ...       ...   \n",
       "9729    12361.0  129427.883019  5794.697171  122186.0  123380.0  128152.0   \n",
       "9766     2282.0  171690.504820  7682.217141  158512.0  161656.0  176406.0   \n",
       "9849     2741.0   35566.648668  1675.226417   33632.0   34070.0   35172.0   \n",
       "9956     1292.0   99377.100619  2762.759712   95860.0   96164.0  100438.0   \n",
       "9982     1540.0  111574.022078  3887.218866  105946.0  108470.5  110451.0   \n",
       "\n",
       "             75%       max  \n",
       "dataid                      \n",
       "35      102309.0  104692.0  \n",
       "44      169672.0  175070.0  \n",
       "77       62590.0   64652.0  \n",
       "94      134538.0  140358.0  \n",
       "114     143072.0  145298.0  \n",
       "...          ...       ...  \n",
       "9729    135684.0  138146.0  \n",
       "9766    177428.0  179902.0  \n",
       "9849     36632.0   39292.0  \n",
       "9956    101822.5  107042.0  \n",
       "9982    115046.5  123708.0  \n",
       "\n",
       "[157 rows x 8 columns]"
      ]
     },
     "execution_count": 5,
     "metadata": {},
     "output_type": "execute_result"
    }
   ],
   "source": [
    "df.groupby('dataid')['meter_value'].describe()"
   ]
  },
  {
   "cell_type": "code",
   "execution_count": 6,
   "metadata": {},
   "outputs": [
    {
     "data": {
      "text/plain": [
       "0    2015-10-01 00:00:10-05\n",
       "1    2015-10-01 00:00:13-05\n",
       "2    2015-10-01 00:00:20-05\n",
       "3    2015-10-01 00:00:22-05\n",
       "4    2015-10-01 00:00:22-05\n",
       "Name: localminute, dtype: object"
      ]
     },
     "execution_count": 6,
     "metadata": {},
     "output_type": "execute_result"
    }
   ],
   "source": [
    "df['localminute'].head()"
   ]
  },
  {
   "cell_type": "markdown",
   "metadata": {},
   "source": [
    "As we can see, the localminute column containing the timestamp for each meter reading is:\n",
    "1. Incorrectly formatted - the the \"-05\" or \"-06\" at the end is timezone data, indicating when Daylight Savings Time begins and ends. We can extract this to create a new feature\n",
    "2. Not in the datetime datatype"
   ]
  },
  {
   "cell_type": "code",
   "execution_count": 7,
   "metadata": {},
   "outputs": [
    {
     "data": {
      "text/html": [
       "<div>\n",
       "<style scoped>\n",
       "    .dataframe tbody tr th:only-of-type {\n",
       "        vertical-align: middle;\n",
       "    }\n",
       "\n",
       "    .dataframe tbody tr th {\n",
       "        vertical-align: top;\n",
       "    }\n",
       "\n",
       "    .dataframe thead th {\n",
       "        text-align: right;\n",
       "    }\n",
       "</style>\n",
       "<table border=\"1\" class=\"dataframe\">\n",
       "  <thead>\n",
       "    <tr style=\"text-align: right;\">\n",
       "      <th></th>\n",
       "      <th>localminute</th>\n",
       "      <th>dataid</th>\n",
       "      <th>meter_value</th>\n",
       "      <th>DST</th>\n",
       "    </tr>\n",
       "  </thead>\n",
       "  <tbody>\n",
       "    <tr>\n",
       "      <th>0</th>\n",
       "      <td>2015-10-01 00:00:10-05</td>\n",
       "      <td>739</td>\n",
       "      <td>88858</td>\n",
       "      <td>True</td>\n",
       "    </tr>\n",
       "    <tr>\n",
       "      <th>1</th>\n",
       "      <td>2015-10-01 00:00:13-05</td>\n",
       "      <td>8890</td>\n",
       "      <td>197164</td>\n",
       "      <td>True</td>\n",
       "    </tr>\n",
       "    <tr>\n",
       "      <th>2</th>\n",
       "      <td>2015-10-01 00:00:20-05</td>\n",
       "      <td>6910</td>\n",
       "      <td>179118</td>\n",
       "      <td>True</td>\n",
       "    </tr>\n",
       "    <tr>\n",
       "      <th>3</th>\n",
       "      <td>2015-10-01 00:00:22-05</td>\n",
       "      <td>3635</td>\n",
       "      <td>151318</td>\n",
       "      <td>True</td>\n",
       "    </tr>\n",
       "    <tr>\n",
       "      <th>4</th>\n",
       "      <td>2015-10-01 00:00:22-05</td>\n",
       "      <td>1507</td>\n",
       "      <td>390354</td>\n",
       "      <td>True</td>\n",
       "    </tr>\n",
       "    <tr>\n",
       "      <th>...</th>\n",
       "      <td>...</td>\n",
       "      <td>...</td>\n",
       "      <td>...</td>\n",
       "      <td>...</td>\n",
       "    </tr>\n",
       "    <tr>\n",
       "      <th>1584818</th>\n",
       "      <td>2016-03-31 23:59:14.336743-05</td>\n",
       "      <td>2129</td>\n",
       "      <td>201726</td>\n",
       "      <td>True</td>\n",
       "    </tr>\n",
       "    <tr>\n",
       "      <th>1584819</th>\n",
       "      <td>2016-03-31 23:59:17.427165-05</td>\n",
       "      <td>2945</td>\n",
       "      <td>161232</td>\n",
       "      <td>True</td>\n",
       "    </tr>\n",
       "    <tr>\n",
       "      <th>1584820</th>\n",
       "      <td>2016-03-31 23:59:35.370782-05</td>\n",
       "      <td>9729</td>\n",
       "      <td>138146</td>\n",
       "      <td>True</td>\n",
       "    </tr>\n",
       "    <tr>\n",
       "      <th>1584821</th>\n",
       "      <td>2016-03-31 23:59:47.816286-05</td>\n",
       "      <td>5129</td>\n",
       "      <td>166488</td>\n",
       "      <td>True</td>\n",
       "    </tr>\n",
       "    <tr>\n",
       "      <th>1584822</th>\n",
       "      <td>2016-03-31 23:59:58.92308-05</td>\n",
       "      <td>484</td>\n",
       "      <td>114174</td>\n",
       "      <td>True</td>\n",
       "    </tr>\n",
       "  </tbody>\n",
       "</table>\n",
       "<p>1584823 rows × 4 columns</p>\n",
       "</div>"
      ],
      "text/plain": [
       "                           localminute  dataid  meter_value   DST\n",
       "0               2015-10-01 00:00:10-05     739        88858  True\n",
       "1               2015-10-01 00:00:13-05    8890       197164  True\n",
       "2               2015-10-01 00:00:20-05    6910       179118  True\n",
       "3               2015-10-01 00:00:22-05    3635       151318  True\n",
       "4               2015-10-01 00:00:22-05    1507       390354  True\n",
       "...                                ...     ...          ...   ...\n",
       "1584818  2016-03-31 23:59:14.336743-05    2129       201726  True\n",
       "1584819  2016-03-31 23:59:17.427165-05    2945       161232  True\n",
       "1584820  2016-03-31 23:59:35.370782-05    9729       138146  True\n",
       "1584821  2016-03-31 23:59:47.816286-05    5129       166488  True\n",
       "1584822   2016-03-31 23:59:58.92308-05     484       114174  True\n",
       "\n",
       "[1584823 rows x 4 columns]"
      ]
     },
     "execution_count": 7,
     "metadata": {},
     "output_type": "execute_result"
    }
   ],
   "source": [
    "df['DST'] = pd.to_numeric(df['localminute'].str[-2:]) == 5\n",
    "df"
   ]
  },
  {
   "cell_type": "code",
   "execution_count": 8,
   "metadata": {},
   "outputs": [],
   "source": [
    "df['localminute'] = df['localminute'].str[:-3]\n",
    "df['localminute'] = pd.to_datetime(df['localminute'], format='mixed').dt.strftime('%Y-%m-%d %H:%M:%S')\n",
    "df['localminute'] = pd.to_datetime(df['localminute'])"
   ]
  },
  {
   "cell_type": "code",
   "execution_count": 9,
   "metadata": {},
   "outputs": [
    {
     "data": {
      "text/html": [
       "<div>\n",
       "<style scoped>\n",
       "    .dataframe tbody tr th:only-of-type {\n",
       "        vertical-align: middle;\n",
       "    }\n",
       "\n",
       "    .dataframe tbody tr th {\n",
       "        vertical-align: top;\n",
       "    }\n",
       "\n",
       "    .dataframe thead th {\n",
       "        text-align: right;\n",
       "    }\n",
       "</style>\n",
       "<table border=\"1\" class=\"dataframe\">\n",
       "  <thead>\n",
       "    <tr style=\"text-align: right;\">\n",
       "      <th></th>\n",
       "      <th>localminute</th>\n",
       "      <th>dataid</th>\n",
       "      <th>meter_value</th>\n",
       "      <th>DST</th>\n",
       "    </tr>\n",
       "  </thead>\n",
       "  <tbody>\n",
       "    <tr>\n",
       "      <th>0</th>\n",
       "      <td>2015-10-01 00:00:10</td>\n",
       "      <td>739</td>\n",
       "      <td>88858</td>\n",
       "      <td>True</td>\n",
       "    </tr>\n",
       "    <tr>\n",
       "      <th>1</th>\n",
       "      <td>2015-10-01 00:00:13</td>\n",
       "      <td>8890</td>\n",
       "      <td>197164</td>\n",
       "      <td>True</td>\n",
       "    </tr>\n",
       "    <tr>\n",
       "      <th>2</th>\n",
       "      <td>2015-10-01 00:00:20</td>\n",
       "      <td>6910</td>\n",
       "      <td>179118</td>\n",
       "      <td>True</td>\n",
       "    </tr>\n",
       "    <tr>\n",
       "      <th>3</th>\n",
       "      <td>2015-10-01 00:00:22</td>\n",
       "      <td>3635</td>\n",
       "      <td>151318</td>\n",
       "      <td>True</td>\n",
       "    </tr>\n",
       "    <tr>\n",
       "      <th>4</th>\n",
       "      <td>2015-10-01 00:00:22</td>\n",
       "      <td>1507</td>\n",
       "      <td>390354</td>\n",
       "      <td>True</td>\n",
       "    </tr>\n",
       "    <tr>\n",
       "      <th>...</th>\n",
       "      <td>...</td>\n",
       "      <td>...</td>\n",
       "      <td>...</td>\n",
       "      <td>...</td>\n",
       "    </tr>\n",
       "    <tr>\n",
       "      <th>1584818</th>\n",
       "      <td>2016-03-31 23:59:14</td>\n",
       "      <td>2129</td>\n",
       "      <td>201726</td>\n",
       "      <td>True</td>\n",
       "    </tr>\n",
       "    <tr>\n",
       "      <th>1584819</th>\n",
       "      <td>2016-03-31 23:59:17</td>\n",
       "      <td>2945</td>\n",
       "      <td>161232</td>\n",
       "      <td>True</td>\n",
       "    </tr>\n",
       "    <tr>\n",
       "      <th>1584820</th>\n",
       "      <td>2016-03-31 23:59:35</td>\n",
       "      <td>9729</td>\n",
       "      <td>138146</td>\n",
       "      <td>True</td>\n",
       "    </tr>\n",
       "    <tr>\n",
       "      <th>1584821</th>\n",
       "      <td>2016-03-31 23:59:47</td>\n",
       "      <td>5129</td>\n",
       "      <td>166488</td>\n",
       "      <td>True</td>\n",
       "    </tr>\n",
       "    <tr>\n",
       "      <th>1584822</th>\n",
       "      <td>2016-03-31 23:59:58</td>\n",
       "      <td>484</td>\n",
       "      <td>114174</td>\n",
       "      <td>True</td>\n",
       "    </tr>\n",
       "  </tbody>\n",
       "</table>\n",
       "<p>1584823 rows × 4 columns</p>\n",
       "</div>"
      ],
      "text/plain": [
       "                localminute  dataid  meter_value   DST\n",
       "0       2015-10-01 00:00:10     739        88858  True\n",
       "1       2015-10-01 00:00:13    8890       197164  True\n",
       "2       2015-10-01 00:00:20    6910       179118  True\n",
       "3       2015-10-01 00:00:22    3635       151318  True\n",
       "4       2015-10-01 00:00:22    1507       390354  True\n",
       "...                     ...     ...          ...   ...\n",
       "1584818 2016-03-31 23:59:14    2129       201726  True\n",
       "1584819 2016-03-31 23:59:17    2945       161232  True\n",
       "1584820 2016-03-31 23:59:35    9729       138146  True\n",
       "1584821 2016-03-31 23:59:47    5129       166488  True\n",
       "1584822 2016-03-31 23:59:58     484       114174  True\n",
       "\n",
       "[1584823 rows x 4 columns]"
      ]
     },
     "execution_count": 9,
     "metadata": {},
     "output_type": "execute_result"
    }
   ],
   "source": [
    "df"
   ]
  },
  {
   "cell_type": "code",
   "execution_count": 10,
   "metadata": {},
   "outputs": [
    {
     "data": {
      "text/plain": [
       "localminute    datetime64[ns]\n",
       "dataid                  int64\n",
       "meter_value             int64\n",
       "DST                      bool\n",
       "dtype: object"
      ]
     },
     "execution_count": 10,
     "metadata": {},
     "output_type": "execute_result"
    }
   ],
   "source": [
    "df.dtypes"
   ]
  },
  {
   "cell_type": "code",
   "execution_count": 11,
   "metadata": {},
   "outputs": [
    {
     "data": {
      "text/plain": [
       "dataid\n",
       "2034    75991\n",
       "6910    69349\n",
       "484     44034\n",
       "5814    42424\n",
       "5810    42234\n",
       "        ...  \n",
       "7566       32\n",
       "9620       23\n",
       "4671       21\n",
       "6101        3\n",
       "4874        2\n",
       "Name: count, Length: 157, dtype: int64"
      ]
     },
     "execution_count": 11,
     "metadata": {},
     "output_type": "execute_result"
    }
   ],
   "source": [
    "df['dataid'].value_counts()"
   ]
  },
  {
   "cell_type": "markdown",
   "metadata": {},
   "source": [
    "Let's plot a time series graph for each dataid and try to see if there are any outliers, anomalies, or any patterns in the data. The meter values we have currently measure cumulative consumption and not marginal consumption."
   ]
  },
  {
   "cell_type": "code",
   "execution_count": 12,
   "metadata": {},
   "outputs": [],
   "source": [
    "df = df.set_index(df['dataid'])\n",
    "df = df.drop(columns='dataid')"
   ]
  },
  {
   "cell_type": "code",
   "execution_count": 13,
   "metadata": {},
   "outputs": [
    {
     "data": {
      "text/plain": [
       "dataid\n",
       "2034    75991\n",
       "6910    69349\n",
       "484     44034\n",
       "5814    42424\n",
       "5810    42234\n",
       "        ...  \n",
       "7566       32\n",
       "9620       23\n",
       "4671       21\n",
       "6101        3\n",
       "4874        2\n",
       "Name: count, Length: 157, dtype: int64"
      ]
     },
     "execution_count": 13,
     "metadata": {},
     "output_type": "execute_result"
    }
   ],
   "source": [
    "df.index.value_counts()"
   ]
  },
  {
   "cell_type": "code",
   "execution_count": 14,
   "metadata": {},
   "outputs": [
    {
     "data": {
      "text/plain": [
       "dataid\n",
       "2034    75991\n",
       "6910    69349\n",
       "484     44034\n",
       "5814    42424\n",
       "5810    42234\n",
       "        ...  \n",
       "8059      529\n",
       "5658      493\n",
       "3036      336\n",
       "9600      330\n",
       "8703      258\n",
       "Name: count, Length: 144, dtype: int64"
      ]
     },
     "execution_count": 14,
     "metadata": {},
     "output_type": "execute_result"
    }
   ],
   "source": [
    "df = df.drop([7566, 9620, 4671, 6101, 4874, 9160, 2755, 2946, 2814, 5545, 2645, 6685, 1403])\n",
    "df.index.value_counts()"
   ]
  },
  {
   "cell_type": "markdown",
   "metadata": {},
   "source": [
    "I've gone ahead and dropped all the dataids that have less than 250 readings. I've seen later that these end up being quite problematic and irregular, so I've decided that they don't have enough data to be included in our investigation"
   ]
  },
  {
   "cell_type": "code",
   "execution_count": 15,
   "metadata": {},
   "outputs": [
    {
     "data": {
      "text/html": [
       "<div>\n",
       "<style scoped>\n",
       "    .dataframe tbody tr th:only-of-type {\n",
       "        vertical-align: middle;\n",
       "    }\n",
       "\n",
       "    .dataframe tbody tr th {\n",
       "        vertical-align: top;\n",
       "    }\n",
       "\n",
       "    .dataframe thead th {\n",
       "        text-align: right;\n",
       "    }\n",
       "</style>\n",
       "<table border=\"1\" class=\"dataframe\">\n",
       "  <thead>\n",
       "    <tr style=\"text-align: right;\">\n",
       "      <th></th>\n",
       "      <th>dataid</th>\n",
       "      <th>localminute</th>\n",
       "      <th>meter_value</th>\n",
       "      <th>DST</th>\n",
       "    </tr>\n",
       "  </thead>\n",
       "  <tbody>\n",
       "    <tr>\n",
       "      <th>0</th>\n",
       "      <td>739</td>\n",
       "      <td>2015-10-01 00:00:10</td>\n",
       "      <td>88858</td>\n",
       "      <td>True</td>\n",
       "    </tr>\n",
       "    <tr>\n",
       "      <th>1</th>\n",
       "      <td>8890</td>\n",
       "      <td>2015-10-01 00:00:13</td>\n",
       "      <td>197164</td>\n",
       "      <td>True</td>\n",
       "    </tr>\n",
       "    <tr>\n",
       "      <th>2</th>\n",
       "      <td>6910</td>\n",
       "      <td>2015-10-01 00:00:20</td>\n",
       "      <td>179118</td>\n",
       "      <td>True</td>\n",
       "    </tr>\n",
       "    <tr>\n",
       "      <th>3</th>\n",
       "      <td>3635</td>\n",
       "      <td>2015-10-01 00:00:22</td>\n",
       "      <td>151318</td>\n",
       "      <td>True</td>\n",
       "    </tr>\n",
       "    <tr>\n",
       "      <th>4</th>\n",
       "      <td>1507</td>\n",
       "      <td>2015-10-01 00:00:22</td>\n",
       "      <td>390354</td>\n",
       "      <td>True</td>\n",
       "    </tr>\n",
       "    <tr>\n",
       "      <th>...</th>\n",
       "      <td>...</td>\n",
       "      <td>...</td>\n",
       "      <td>...</td>\n",
       "      <td>...</td>\n",
       "    </tr>\n",
       "    <tr>\n",
       "      <th>1584128</th>\n",
       "      <td>2129</td>\n",
       "      <td>2016-03-31 23:59:14</td>\n",
       "      <td>201726</td>\n",
       "      <td>True</td>\n",
       "    </tr>\n",
       "    <tr>\n",
       "      <th>1584129</th>\n",
       "      <td>2945</td>\n",
       "      <td>2016-03-31 23:59:17</td>\n",
       "      <td>161232</td>\n",
       "      <td>True</td>\n",
       "    </tr>\n",
       "    <tr>\n",
       "      <th>1584130</th>\n",
       "      <td>9729</td>\n",
       "      <td>2016-03-31 23:59:35</td>\n",
       "      <td>138146</td>\n",
       "      <td>True</td>\n",
       "    </tr>\n",
       "    <tr>\n",
       "      <th>1584131</th>\n",
       "      <td>5129</td>\n",
       "      <td>2016-03-31 23:59:47</td>\n",
       "      <td>166488</td>\n",
       "      <td>True</td>\n",
       "    </tr>\n",
       "    <tr>\n",
       "      <th>1584132</th>\n",
       "      <td>484</td>\n",
       "      <td>2016-03-31 23:59:58</td>\n",
       "      <td>114174</td>\n",
       "      <td>True</td>\n",
       "    </tr>\n",
       "  </tbody>\n",
       "</table>\n",
       "<p>1584133 rows × 4 columns</p>\n",
       "</div>"
      ],
      "text/plain": [
       "         dataid         localminute  meter_value   DST\n",
       "0           739 2015-10-01 00:00:10        88858  True\n",
       "1          8890 2015-10-01 00:00:13       197164  True\n",
       "2          6910 2015-10-01 00:00:20       179118  True\n",
       "3          3635 2015-10-01 00:00:22       151318  True\n",
       "4          1507 2015-10-01 00:00:22       390354  True\n",
       "...         ...                 ...          ...   ...\n",
       "1584128    2129 2016-03-31 23:59:14       201726  True\n",
       "1584129    2945 2016-03-31 23:59:17       161232  True\n",
       "1584130    9729 2016-03-31 23:59:35       138146  True\n",
       "1584131    5129 2016-03-31 23:59:47       166488  True\n",
       "1584132     484 2016-03-31 23:59:58       114174  True\n",
       "\n",
       "[1584133 rows x 4 columns]"
      ]
     },
     "execution_count": 15,
     "metadata": {},
     "output_type": "execute_result"
    }
   ],
   "source": [
    "df = df.reset_index()\n",
    "df"
   ]
  },
  {
   "cell_type": "code",
   "execution_count": 16,
   "metadata": {},
   "outputs": [],
   "source": [
    "df = df.sort_values(by=['dataid', 'localminute'])"
   ]
  },
  {
   "cell_type": "raw",
   "metadata": {},
   "source": [
    "df"
   ]
  },
  {
   "cell_type": "markdown",
   "metadata": {},
   "source": [
    "As we can see, the data is irregularly sampled, which is inconvenient to handle and creates a lot of uneccesary noise, especially as there is barely any difference at small intervals. Therefore we will extract the marginal consumption per hour from the cumulative readings using resampling."
   ]
  },
  {
   "cell_type": "code",
   "execution_count": 17,
   "metadata": {},
   "outputs": [],
   "source": [
    "# for dataid, group in df.groupby('dataid'):\n",
    "#     fig, ax = plt.subplots(figsize=(10,5))\n",
    "#     plt.plot(df[df['dataid'] == dataid].set_index(\"localminute\")['meter_value'].diff())\n",
    "#     ax.set_title(f'meter value by time for dataid {dataid}')\n",
    "#     plt.show()"
   ]
  },
  {
   "cell_type": "code",
   "execution_count": 18,
   "metadata": {},
   "outputs": [],
   "source": [
    "marginal_consumption = []\n",
    "for dataid, group in df.groupby('dataid'):\n",
    "    meter_value_diff = group['meter_value'].diff()\n",
    "    marginal_consumption.append(meter_value_diff)\n"
   ]
  },
  {
   "cell_type": "code",
   "execution_count": 19,
   "metadata": {},
   "outputs": [
    {
     "data": {
      "text/plain": [
       "83          NaN\n",
       "244         0.0\n",
       "723         0.0\n",
       "790         0.0\n",
       "829         0.0\n",
       "           ... \n",
       "1560987     0.0\n",
       "1561582     2.0\n",
       "1566451    48.0\n",
       "1576619    68.0\n",
       "1580897    72.0\n",
       "Name: marginal_consumption, Length: 1584133, dtype: float64"
      ]
     },
     "execution_count": 19,
     "metadata": {},
     "output_type": "execute_result"
    }
   ],
   "source": [
    "marginal_consumption = pd.concat(marginal_consumption)\n",
    "df['marginal_consumption'] = marginal_consumption\n",
    "df['marginal_consumption']"
   ]
  },
  {
   "cell_type": "code",
   "execution_count": 20,
   "metadata": {},
   "outputs": [],
   "source": [
    "df['marginal_consumption'] = df['marginal_consumption'].fillna(0)"
   ]
  },
  {
   "cell_type": "code",
   "execution_count": 21,
   "metadata": {},
   "outputs": [
    {
     "data": {
      "text/html": [
       "<div>\n",
       "<style scoped>\n",
       "    .dataframe tbody tr th:only-of-type {\n",
       "        vertical-align: middle;\n",
       "    }\n",
       "\n",
       "    .dataframe tbody tr th {\n",
       "        vertical-align: top;\n",
       "    }\n",
       "\n",
       "    .dataframe thead th {\n",
       "        text-align: right;\n",
       "    }\n",
       "</style>\n",
       "<table border=\"1\" class=\"dataframe\">\n",
       "  <thead>\n",
       "    <tr style=\"text-align: right;\">\n",
       "      <th></th>\n",
       "      <th>dataid</th>\n",
       "      <th>localminute</th>\n",
       "      <th>meter_value</th>\n",
       "      <th>DST</th>\n",
       "      <th>marginal_consumption</th>\n",
       "    </tr>\n",
       "  </thead>\n",
       "  <tbody>\n",
       "    <tr>\n",
       "      <th>83</th>\n",
       "      <td>35</td>\n",
       "      <td>2015-10-01 00:14:44</td>\n",
       "      <td>93470</td>\n",
       "      <td>True</td>\n",
       "      <td>0.0</td>\n",
       "    </tr>\n",
       "    <tr>\n",
       "      <th>244</th>\n",
       "      <td>35</td>\n",
       "      <td>2015-10-01 00:42:34</td>\n",
       "      <td>93470</td>\n",
       "      <td>True</td>\n",
       "      <td>0.0</td>\n",
       "    </tr>\n",
       "    <tr>\n",
       "      <th>723</th>\n",
       "      <td>35</td>\n",
       "      <td>2015-10-01 02:02:37</td>\n",
       "      <td>93470</td>\n",
       "      <td>True</td>\n",
       "      <td>0.0</td>\n",
       "    </tr>\n",
       "    <tr>\n",
       "      <th>790</th>\n",
       "      <td>35</td>\n",
       "      <td>2015-10-01 02:12:38</td>\n",
       "      <td>93470</td>\n",
       "      <td>True</td>\n",
       "      <td>0.0</td>\n",
       "    </tr>\n",
       "    <tr>\n",
       "      <th>829</th>\n",
       "      <td>35</td>\n",
       "      <td>2015-10-01 02:20:36</td>\n",
       "      <td>93470</td>\n",
       "      <td>True</td>\n",
       "      <td>0.0</td>\n",
       "    </tr>\n",
       "    <tr>\n",
       "      <th>...</th>\n",
       "      <td>...</td>\n",
       "      <td>...</td>\n",
       "      <td>...</td>\n",
       "      <td>...</td>\n",
       "      <td>...</td>\n",
       "    </tr>\n",
       "    <tr>\n",
       "      <th>1560987</th>\n",
       "      <td>9982</td>\n",
       "      <td>2016-03-28 09:25:54</td>\n",
       "      <td>119734</td>\n",
       "      <td>True</td>\n",
       "      <td>0.0</td>\n",
       "    </tr>\n",
       "    <tr>\n",
       "      <th>1561582</th>\n",
       "      <td>9982</td>\n",
       "      <td>2016-03-28 11:29:41</td>\n",
       "      <td>119736</td>\n",
       "      <td>True</td>\n",
       "      <td>2.0</td>\n",
       "    </tr>\n",
       "    <tr>\n",
       "      <th>1566451</th>\n",
       "      <td>9982</td>\n",
       "      <td>2016-03-29 04:38:38</td>\n",
       "      <td>119784</td>\n",
       "      <td>True</td>\n",
       "      <td>48.0</td>\n",
       "    </tr>\n",
       "    <tr>\n",
       "      <th>1576619</th>\n",
       "      <td>9982</td>\n",
       "      <td>2016-03-30 17:46:42</td>\n",
       "      <td>119852</td>\n",
       "      <td>True</td>\n",
       "      <td>68.0</td>\n",
       "    </tr>\n",
       "    <tr>\n",
       "      <th>1580897</th>\n",
       "      <td>9982</td>\n",
       "      <td>2016-03-31 11:09:42</td>\n",
       "      <td>119924</td>\n",
       "      <td>True</td>\n",
       "      <td>72.0</td>\n",
       "    </tr>\n",
       "  </tbody>\n",
       "</table>\n",
       "<p>1584133 rows × 5 columns</p>\n",
       "</div>"
      ],
      "text/plain": [
       "         dataid         localminute  meter_value   DST  marginal_consumption\n",
       "83           35 2015-10-01 00:14:44        93470  True                   0.0\n",
       "244          35 2015-10-01 00:42:34        93470  True                   0.0\n",
       "723          35 2015-10-01 02:02:37        93470  True                   0.0\n",
       "790          35 2015-10-01 02:12:38        93470  True                   0.0\n",
       "829          35 2015-10-01 02:20:36        93470  True                   0.0\n",
       "...         ...                 ...          ...   ...                   ...\n",
       "1560987    9982 2016-03-28 09:25:54       119734  True                   0.0\n",
       "1561582    9982 2016-03-28 11:29:41       119736  True                   2.0\n",
       "1566451    9982 2016-03-29 04:38:38       119784  True                  48.0\n",
       "1576619    9982 2016-03-30 17:46:42       119852  True                  68.0\n",
       "1580897    9982 2016-03-31 11:09:42       119924  True                  72.0\n",
       "\n",
       "[1584133 rows x 5 columns]"
      ]
     },
     "execution_count": 21,
     "metadata": {},
     "output_type": "execute_result"
    }
   ],
   "source": [
    "df"
   ]
  },
  {
   "cell_type": "code",
   "execution_count": 22,
   "metadata": {},
   "outputs": [],
   "source": [
    "resampled_consumption = []\n",
    "dataid_column = []\n",
    "table = []\n",
    "\n",
    "for dataid, group in df.groupby('dataid'):\n",
    "    resample = group.resample('h', on='localminute')['marginal_consumption'].sum()\n",
    "    resampled_consumption.append(resample)\n",
    "    for i in range(len(resample)):\n",
    "        dataid_column.append(dataid)"
   ]
  },
  {
   "cell_type": "code",
   "execution_count": 23,
   "metadata": {},
   "outputs": [
    {
     "data": {
      "text/plain": [
       "localminute\n",
       "2015-10-01 00:00:00     0.0\n",
       "2015-10-01 01:00:00     0.0\n",
       "2015-10-01 02:00:00     0.0\n",
       "2015-10-01 03:00:00     0.0\n",
       "2015-10-01 04:00:00     0.0\n",
       "                       ... \n",
       "2016-03-31 07:00:00     0.0\n",
       "2016-03-31 08:00:00     0.0\n",
       "2016-03-31 09:00:00     0.0\n",
       "2016-03-31 10:00:00     0.0\n",
       "2016-03-31 11:00:00    72.0\n",
       "Name: marginal_consumption, Length: 591478, dtype: float64"
      ]
     },
     "execution_count": 23,
     "metadata": {},
     "output_type": "execute_result"
    }
   ],
   "source": [
    "consumption_series = pd.concat(resampled_consumption)\n",
    "consumption_series"
   ]
  },
  {
   "cell_type": "code",
   "execution_count": 24,
   "metadata": {},
   "outputs": [],
   "source": [
    "df = pd.DataFrame(consumption_series)"
   ]
  },
  {
   "cell_type": "code",
   "execution_count": 25,
   "metadata": {},
   "outputs": [
    {
     "data": {
      "text/plain": [
       "591478"
      ]
     },
     "execution_count": 25,
     "metadata": {},
     "output_type": "execute_result"
    }
   ],
   "source": [
    "len(dataid_column)"
   ]
  },
  {
   "cell_type": "code",
   "execution_count": 26,
   "metadata": {},
   "outputs": [
    {
     "data": {
      "text/html": [
       "<div>\n",
       "<style scoped>\n",
       "    .dataframe tbody tr th:only-of-type {\n",
       "        vertical-align: middle;\n",
       "    }\n",
       "\n",
       "    .dataframe tbody tr th {\n",
       "        vertical-align: top;\n",
       "    }\n",
       "\n",
       "    .dataframe thead th {\n",
       "        text-align: right;\n",
       "    }\n",
       "</style>\n",
       "<table border=\"1\" class=\"dataframe\">\n",
       "  <thead>\n",
       "    <tr style=\"text-align: right;\">\n",
       "      <th></th>\n",
       "      <th>marginal_consumption</th>\n",
       "      <th>dataid</th>\n",
       "    </tr>\n",
       "    <tr>\n",
       "      <th>localminute</th>\n",
       "      <th></th>\n",
       "      <th></th>\n",
       "    </tr>\n",
       "  </thead>\n",
       "  <tbody>\n",
       "    <tr>\n",
       "      <th>2015-10-01 00:00:00</th>\n",
       "      <td>0.0</td>\n",
       "      <td>35</td>\n",
       "    </tr>\n",
       "    <tr>\n",
       "      <th>2015-10-01 01:00:00</th>\n",
       "      <td>0.0</td>\n",
       "      <td>35</td>\n",
       "    </tr>\n",
       "    <tr>\n",
       "      <th>2015-10-01 02:00:00</th>\n",
       "      <td>0.0</td>\n",
       "      <td>35</td>\n",
       "    </tr>\n",
       "    <tr>\n",
       "      <th>2015-10-01 03:00:00</th>\n",
       "      <td>0.0</td>\n",
       "      <td>35</td>\n",
       "    </tr>\n",
       "    <tr>\n",
       "      <th>2015-10-01 04:00:00</th>\n",
       "      <td>0.0</td>\n",
       "      <td>35</td>\n",
       "    </tr>\n",
       "    <tr>\n",
       "      <th>...</th>\n",
       "      <td>...</td>\n",
       "      <td>...</td>\n",
       "    </tr>\n",
       "    <tr>\n",
       "      <th>2016-03-31 07:00:00</th>\n",
       "      <td>0.0</td>\n",
       "      <td>9982</td>\n",
       "    </tr>\n",
       "    <tr>\n",
       "      <th>2016-03-31 08:00:00</th>\n",
       "      <td>0.0</td>\n",
       "      <td>9982</td>\n",
       "    </tr>\n",
       "    <tr>\n",
       "      <th>2016-03-31 09:00:00</th>\n",
       "      <td>0.0</td>\n",
       "      <td>9982</td>\n",
       "    </tr>\n",
       "    <tr>\n",
       "      <th>2016-03-31 10:00:00</th>\n",
       "      <td>0.0</td>\n",
       "      <td>9982</td>\n",
       "    </tr>\n",
       "    <tr>\n",
       "      <th>2016-03-31 11:00:00</th>\n",
       "      <td>72.0</td>\n",
       "      <td>9982</td>\n",
       "    </tr>\n",
       "  </tbody>\n",
       "</table>\n",
       "<p>591478 rows × 2 columns</p>\n",
       "</div>"
      ],
      "text/plain": [
       "                     marginal_consumption  dataid\n",
       "localminute                                      \n",
       "2015-10-01 00:00:00                   0.0      35\n",
       "2015-10-01 01:00:00                   0.0      35\n",
       "2015-10-01 02:00:00                   0.0      35\n",
       "2015-10-01 03:00:00                   0.0      35\n",
       "2015-10-01 04:00:00                   0.0      35\n",
       "...                                   ...     ...\n",
       "2016-03-31 07:00:00                   0.0    9982\n",
       "2016-03-31 08:00:00                   0.0    9982\n",
       "2016-03-31 09:00:00                   0.0    9982\n",
       "2016-03-31 10:00:00                   0.0    9982\n",
       "2016-03-31 11:00:00                  72.0    9982\n",
       "\n",
       "[591478 rows x 2 columns]"
      ]
     },
     "execution_count": 26,
     "metadata": {},
     "output_type": "execute_result"
    }
   ],
   "source": [
    "df['dataid'] = dataid_column\n",
    "df"
   ]
  },
  {
   "cell_type": "code",
   "execution_count": 27,
   "metadata": {},
   "outputs": [],
   "source": [
    "df['DST'] = df.index.map( lambda x: 1 if x < pd.to_datetime('2015-11-01 01:00:00', format='mixed') or x > pd.to_datetime('2016-03-13 02:00:00', format='mixed') else 0 )"
   ]
  },
  {
   "cell_type": "code",
   "execution_count": 28,
   "metadata": {},
   "outputs": [
    {
     "data": {
      "text/html": [
       "<div>\n",
       "<style scoped>\n",
       "    .dataframe tbody tr th:only-of-type {\n",
       "        vertical-align: middle;\n",
       "    }\n",
       "\n",
       "    .dataframe tbody tr th {\n",
       "        vertical-align: top;\n",
       "    }\n",
       "\n",
       "    .dataframe thead th {\n",
       "        text-align: right;\n",
       "    }\n",
       "</style>\n",
       "<table border=\"1\" class=\"dataframe\">\n",
       "  <thead>\n",
       "    <tr style=\"text-align: right;\">\n",
       "      <th></th>\n",
       "      <th>marginal_consumption</th>\n",
       "      <th>dataid</th>\n",
       "      <th>DST</th>\n",
       "    </tr>\n",
       "    <tr>\n",
       "      <th>localminute</th>\n",
       "      <th></th>\n",
       "      <th></th>\n",
       "      <th></th>\n",
       "    </tr>\n",
       "  </thead>\n",
       "  <tbody>\n",
       "    <tr>\n",
       "      <th>2015-10-01 00:00:00</th>\n",
       "      <td>0.0</td>\n",
       "      <td>35</td>\n",
       "      <td>1</td>\n",
       "    </tr>\n",
       "    <tr>\n",
       "      <th>2015-10-01 01:00:00</th>\n",
       "      <td>0.0</td>\n",
       "      <td>35</td>\n",
       "      <td>1</td>\n",
       "    </tr>\n",
       "    <tr>\n",
       "      <th>2015-10-01 02:00:00</th>\n",
       "      <td>0.0</td>\n",
       "      <td>35</td>\n",
       "      <td>1</td>\n",
       "    </tr>\n",
       "    <tr>\n",
       "      <th>2015-10-01 03:00:00</th>\n",
       "      <td>0.0</td>\n",
       "      <td>35</td>\n",
       "      <td>1</td>\n",
       "    </tr>\n",
       "    <tr>\n",
       "      <th>2015-10-01 04:00:00</th>\n",
       "      <td>0.0</td>\n",
       "      <td>35</td>\n",
       "      <td>1</td>\n",
       "    </tr>\n",
       "    <tr>\n",
       "      <th>...</th>\n",
       "      <td>...</td>\n",
       "      <td>...</td>\n",
       "      <td>...</td>\n",
       "    </tr>\n",
       "    <tr>\n",
       "      <th>2016-03-31 07:00:00</th>\n",
       "      <td>0.0</td>\n",
       "      <td>9982</td>\n",
       "      <td>1</td>\n",
       "    </tr>\n",
       "    <tr>\n",
       "      <th>2016-03-31 08:00:00</th>\n",
       "      <td>0.0</td>\n",
       "      <td>9982</td>\n",
       "      <td>1</td>\n",
       "    </tr>\n",
       "    <tr>\n",
       "      <th>2016-03-31 09:00:00</th>\n",
       "      <td>0.0</td>\n",
       "      <td>9982</td>\n",
       "      <td>1</td>\n",
       "    </tr>\n",
       "    <tr>\n",
       "      <th>2016-03-31 10:00:00</th>\n",
       "      <td>0.0</td>\n",
       "      <td>9982</td>\n",
       "      <td>1</td>\n",
       "    </tr>\n",
       "    <tr>\n",
       "      <th>2016-03-31 11:00:00</th>\n",
       "      <td>72.0</td>\n",
       "      <td>9982</td>\n",
       "      <td>1</td>\n",
       "    </tr>\n",
       "  </tbody>\n",
       "</table>\n",
       "<p>591478 rows × 3 columns</p>\n",
       "</div>"
      ],
      "text/plain": [
       "                     marginal_consumption  dataid  DST\n",
       "localminute                                           \n",
       "2015-10-01 00:00:00                   0.0      35    1\n",
       "2015-10-01 01:00:00                   0.0      35    1\n",
       "2015-10-01 02:00:00                   0.0      35    1\n",
       "2015-10-01 03:00:00                   0.0      35    1\n",
       "2015-10-01 04:00:00                   0.0      35    1\n",
       "...                                   ...     ...  ...\n",
       "2016-03-31 07:00:00                   0.0    9982    1\n",
       "2016-03-31 08:00:00                   0.0    9982    1\n",
       "2016-03-31 09:00:00                   0.0    9982    1\n",
       "2016-03-31 10:00:00                   0.0    9982    1\n",
       "2016-03-31 11:00:00                  72.0    9982    1\n",
       "\n",
       "[591478 rows x 3 columns]"
      ]
     },
     "execution_count": 28,
     "metadata": {},
     "output_type": "execute_result"
    }
   ],
   "source": [
    "df"
   ]
  },
  {
   "cell_type": "markdown",
   "metadata": {},
   "source": [
    "Now we have our new dataset resampled by the hour, with marginal consumption extracted. Let's have a look at the time series graphs now."
   ]
  },
  {
   "cell_type": "markdown",
   "metadata": {},
   "source": [
    "It seems there are outliers present that could hamper our model performance. Let us try and remove them. Firstly, let's start with the ones with a large negative marginal consumption. Since our meter value data is cumulative, the marginal consumption cannot be negative"
   ]
  },
  {
   "cell_type": "code",
   "execution_count": 29,
   "metadata": {},
   "outputs": [],
   "source": [
    "df = df[~df['dataid'].isin(df[df['marginal_consumption'] < -50]['dataid'].unique())]   "
   ]
  },
  {
   "cell_type": "code",
   "execution_count": 30,
   "metadata": {},
   "outputs": [
    {
     "data": {
      "text/plain": [
       "0"
      ]
     },
     "execution_count": 30,
     "metadata": {},
     "output_type": "execute_result"
    }
   ],
   "source": [
    "len(df[df['marginal_consumption'] < -50]['dataid'].unique())"
   ]
  },
  {
   "cell_type": "code",
   "execution_count": 31,
   "metadata": {},
   "outputs": [
    {
     "data": {
      "text/plain": [
       "129"
      ]
     },
     "execution_count": 31,
     "metadata": {},
     "output_type": "execute_result"
    }
   ],
   "source": [
    "len(df['dataid'].unique())"
   ]
  },
  {
   "cell_type": "code",
   "execution_count": 32,
   "metadata": {},
   "outputs": [],
   "source": [
    "extreme = df[df['marginal_consumption'] > 5000]['dataid'].unique()"
   ]
  },
  {
   "cell_type": "code",
   "execution_count": 33,
   "metadata": {},
   "outputs": [
    {
     "data": {
      "text/plain": [
       "0"
      ]
     },
     "execution_count": 33,
     "metadata": {},
     "output_type": "execute_result"
    }
   ],
   "source": [
    "len(df[df['dataid'] == 4874])"
   ]
  },
  {
   "cell_type": "code",
   "execution_count": 34,
   "metadata": {},
   "outputs": [
    {
     "data": {
      "text/plain": [
       "0.0"
      ]
     },
     "execution_count": 34,
     "metadata": {},
     "output_type": "execute_result"
    }
   ],
   "source": [
    "df['marginal_consumption'].min()"
   ]
  },
  {
   "cell_type": "code",
   "execution_count": 35,
   "metadata": {},
   "outputs": [
    {
     "data": {
      "text/plain": [
       "22"
      ]
     },
     "execution_count": 35,
     "metadata": {},
     "output_type": "execute_result"
    }
   ],
   "source": [
    "len(df[df['marginal_consumption'] > 1000]['dataid'].unique())"
   ]
  },
  {
   "cell_type": "code",
   "execution_count": 36,
   "metadata": {},
   "outputs": [
    {
     "data": {
      "text/plain": [
       "13982.0"
      ]
     },
     "execution_count": 36,
     "metadata": {},
     "output_type": "execute_result"
    }
   ],
   "source": [
    "df['marginal_consumption'].max()"
   ]
  },
  {
   "cell_type": "code",
   "execution_count": 37,
   "metadata": {},
   "outputs": [],
   "source": [
    "removed = []\n",
    "for dataid, group in df.groupby('dataid'): \n",
    "    ub = group['marginal_consumption'].quantile(0.99)\n",
    "    # outliers = group['marginal_consumption'][group['marginal_consumption'] > ub]\n",
    "    group.loc[group['marginal_consumption'] > ub] = np.nan\n",
    "    group = group.interpolate()\n",
    "    removed.append(group['marginal_consumption'])"
   ]
  },
  {
   "cell_type": "code",
   "execution_count": 38,
   "metadata": {},
   "outputs": [
    {
     "name": "stderr",
     "output_type": "stream",
     "text": [
      "/var/folders/tn/8lbbw7dn3f3b367scfqs7w3h0000gp/T/ipykernel_48961/3578771186.py:1: SettingWithCopyWarning: \n",
      "A value is trying to be set on a copy of a slice from a DataFrame.\n",
      "Try using .loc[row_indexer,col_indexer] = value instead\n",
      "\n",
      "See the caveats in the documentation: https://pandas.pydata.org/pandas-docs/stable/user_guide/indexing.html#returning-a-view-versus-a-copy\n",
      "  df['marginal_consumption'] = pd.concat(removed)\n"
     ]
    },
    {
     "data": {
      "text/plain": [
       "0"
      ]
     },
     "execution_count": 38,
     "metadata": {},
     "output_type": "execute_result"
    }
   ],
   "source": [
    "df['marginal_consumption'] = pd.concat(removed)\n",
    "df['marginal_consumption'].isna().sum()"
   ]
  },
  {
   "cell_type": "code",
   "execution_count": 39,
   "metadata": {},
   "outputs": [],
   "source": [
    "# for dataid, group in df.groupby('dataid'): \n",
    "#     plt.hist(group['marginal_consumption'])\n",
    "#     plt.show()"
   ]
  },
  {
   "cell_type": "code",
   "execution_count": 40,
   "metadata": {},
   "outputs": [],
   "source": [
    "from scipy import stats"
   ]
  },
  {
   "cell_type": "code",
   "execution_count": 41,
   "metadata": {},
   "outputs": [],
   "source": [
    "df.reset_index(inplace=True)"
   ]
  },
  {
   "cell_type": "code",
   "execution_count": 42,
   "metadata": {},
   "outputs": [
    {
     "name": "stderr",
     "output_type": "stream",
     "text": [
      "/var/folders/tn/8lbbw7dn3f3b367scfqs7w3h0000gp/T/ipykernel_48961/1795095638.py:1: SettingWithCopyWarning: \n",
      "A value is trying to be set on a copy of a slice from a DataFrame.\n",
      "Try using .loc[row_indexer,col_indexer] = value instead\n",
      "\n",
      "See the caveats in the documentation: https://pandas.pydata.org/pandas-docs/stable/user_guide/indexing.html#returning-a-view-versus-a-copy\n",
      "  df[\"marginal_diff\"] = df[\"marginal_consumption\"].diff()\n",
      "/var/folders/tn/8lbbw7dn3f3b367scfqs7w3h0000gp/T/ipykernel_48961/1795095638.py:2: SettingWithCopyWarning: \n",
      "A value is trying to be set on a copy of a slice from a DataFrame\n",
      "\n",
      "See the caveats in the documentation: https://pandas.pydata.org/pandas-docs/stable/user_guide/indexing.html#returning-a-view-versus-a-copy\n",
      "  df.fillna(0, inplace=True)\n"
     ]
    },
    {
     "data": {
      "text/html": [
       "<div>\n",
       "<style scoped>\n",
       "    .dataframe tbody tr th:only-of-type {\n",
       "        vertical-align: middle;\n",
       "    }\n",
       "\n",
       "    .dataframe tbody tr th {\n",
       "        vertical-align: top;\n",
       "    }\n",
       "\n",
       "    .dataframe thead th {\n",
       "        text-align: right;\n",
       "    }\n",
       "</style>\n",
       "<table border=\"1\" class=\"dataframe\">\n",
       "  <thead>\n",
       "    <tr style=\"text-align: right;\">\n",
       "      <th></th>\n",
       "      <th>localminute</th>\n",
       "      <th>marginal_consumption</th>\n",
       "      <th>dataid</th>\n",
       "      <th>DST</th>\n",
       "      <th>marginal_diff</th>\n",
       "    </tr>\n",
       "  </thead>\n",
       "  <tbody>\n",
       "    <tr>\n",
       "      <th>0</th>\n",
       "      <td>2015-10-01 00:00:00</td>\n",
       "      <td>0.0</td>\n",
       "      <td>35</td>\n",
       "      <td>1</td>\n",
       "      <td>0.0</td>\n",
       "    </tr>\n",
       "    <tr>\n",
       "      <th>1</th>\n",
       "      <td>2015-10-01 01:00:00</td>\n",
       "      <td>0.0</td>\n",
       "      <td>35</td>\n",
       "      <td>1</td>\n",
       "      <td>0.0</td>\n",
       "    </tr>\n",
       "    <tr>\n",
       "      <th>2</th>\n",
       "      <td>2015-10-01 02:00:00</td>\n",
       "      <td>0.0</td>\n",
       "      <td>35</td>\n",
       "      <td>1</td>\n",
       "      <td>0.0</td>\n",
       "    </tr>\n",
       "    <tr>\n",
       "      <th>3</th>\n",
       "      <td>2015-10-01 03:00:00</td>\n",
       "      <td>0.0</td>\n",
       "      <td>35</td>\n",
       "      <td>1</td>\n",
       "      <td>0.0</td>\n",
       "    </tr>\n",
       "    <tr>\n",
       "      <th>4</th>\n",
       "      <td>2015-10-01 04:00:00</td>\n",
       "      <td>0.0</td>\n",
       "      <td>35</td>\n",
       "      <td>1</td>\n",
       "      <td>0.0</td>\n",
       "    </tr>\n",
       "    <tr>\n",
       "      <th>...</th>\n",
       "      <td>...</td>\n",
       "      <td>...</td>\n",
       "      <td>...</td>\n",
       "      <td>...</td>\n",
       "      <td>...</td>\n",
       "    </tr>\n",
       "    <tr>\n",
       "      <th>525616</th>\n",
       "      <td>2016-02-08 12:00:00</td>\n",
       "      <td>0.0</td>\n",
       "      <td>9956</td>\n",
       "      <td>0</td>\n",
       "      <td>0.0</td>\n",
       "    </tr>\n",
       "    <tr>\n",
       "      <th>525617</th>\n",
       "      <td>2016-02-08 13:00:00</td>\n",
       "      <td>0.0</td>\n",
       "      <td>9956</td>\n",
       "      <td>0</td>\n",
       "      <td>0.0</td>\n",
       "    </tr>\n",
       "    <tr>\n",
       "      <th>525618</th>\n",
       "      <td>2016-02-08 14:00:00</td>\n",
       "      <td>0.0</td>\n",
       "      <td>9956</td>\n",
       "      <td>0</td>\n",
       "      <td>0.0</td>\n",
       "    </tr>\n",
       "    <tr>\n",
       "      <th>525619</th>\n",
       "      <td>2016-02-08 15:00:00</td>\n",
       "      <td>0.0</td>\n",
       "      <td>9956</td>\n",
       "      <td>0</td>\n",
       "      <td>0.0</td>\n",
       "    </tr>\n",
       "    <tr>\n",
       "      <th>525620</th>\n",
       "      <td>2016-02-08 16:00:00</td>\n",
       "      <td>0.0</td>\n",
       "      <td>9956</td>\n",
       "      <td>0</td>\n",
       "      <td>0.0</td>\n",
       "    </tr>\n",
       "  </tbody>\n",
       "</table>\n",
       "<p>525621 rows × 5 columns</p>\n",
       "</div>"
      ],
      "text/plain": [
       "               localminute  marginal_consumption  dataid  DST  marginal_diff\n",
       "0      2015-10-01 00:00:00                   0.0      35    1            0.0\n",
       "1      2015-10-01 01:00:00                   0.0      35    1            0.0\n",
       "2      2015-10-01 02:00:00                   0.0      35    1            0.0\n",
       "3      2015-10-01 03:00:00                   0.0      35    1            0.0\n",
       "4      2015-10-01 04:00:00                   0.0      35    1            0.0\n",
       "...                    ...                   ...     ...  ...            ...\n",
       "525616 2016-02-08 12:00:00                   0.0    9956    0            0.0\n",
       "525617 2016-02-08 13:00:00                   0.0    9956    0            0.0\n",
       "525618 2016-02-08 14:00:00                   0.0    9956    0            0.0\n",
       "525619 2016-02-08 15:00:00                   0.0    9956    0            0.0\n",
       "525620 2016-02-08 16:00:00                   0.0    9956    0            0.0\n",
       "\n",
       "[525621 rows x 5 columns]"
      ]
     },
     "execution_count": 42,
     "metadata": {},
     "output_type": "execute_result"
    }
   ],
   "source": [
    "df[\"marginal_diff\"] = df[\"marginal_consumption\"].diff()\n",
    "df.fillna(0, inplace=True)\n",
    "df"
   ]
  },
  {
   "cell_type": "code",
   "execution_count": 43,
   "metadata": {},
   "outputs": [
    {
     "data": {
      "text/plain": [
       "0         2015\n",
       "1         2015\n",
       "2         2015\n",
       "3         2015\n",
       "4         2015\n",
       "          ... \n",
       "525616    2016\n",
       "525617    2016\n",
       "525618    2016\n",
       "525619    2016\n",
       "525620    2016\n",
       "Name: localminute, Length: 525621, dtype: int32"
      ]
     },
     "execution_count": 43,
     "metadata": {},
     "output_type": "execute_result"
    }
   ],
   "source": [
    "df['localminute'].dt.year"
   ]
  },
  {
   "cell_type": "code",
   "execution_count": 44,
   "metadata": {},
   "outputs": [
    {
     "name": "stderr",
     "output_type": "stream",
     "text": [
      "/var/folders/tn/8lbbw7dn3f3b367scfqs7w3h0000gp/T/ipykernel_48961/2349163691.py:1: SettingWithCopyWarning: \n",
      "A value is trying to be set on a copy of a slice from a DataFrame.\n",
      "Try using .loc[row_indexer,col_indexer] = value instead\n",
      "\n",
      "See the caveats in the documentation: https://pandas.pydata.org/pandas-docs/stable/user_guide/indexing.html#returning-a-view-versus-a-copy\n",
      "  df['week'] = df['localminute'].dt.isocalendar().week\n"
     ]
    },
    {
     "data": {
      "text/plain": [
       "0         40\n",
       "1         40\n",
       "2         40\n",
       "3         40\n",
       "4         40\n",
       "          ..\n",
       "525616     6\n",
       "525617     6\n",
       "525618     6\n",
       "525619     6\n",
       "525620     6\n",
       "Name: week, Length: 525621, dtype: UInt32"
      ]
     },
     "execution_count": 44,
     "metadata": {},
     "output_type": "execute_result"
    }
   ],
   "source": [
    "df['week'] = df['localminute'].dt.isocalendar().week\n",
    "df['week']"
   ]
  },
  {
   "cell_type": "code",
   "execution_count": 45,
   "metadata": {},
   "outputs": [],
   "source": [
    "standardized = []\n",
    "for dataid, group in df.groupby('dataid'):\n",
    "    weekly_variance = group.groupby(group['localminute'].dt.isocalendar().week)['marginal_diff'].std()\n",
    "    mapped_weekly_variance = group['localminute'].map(lambda x: weekly_variance.loc[x.week])\n",
    "    group['marginal_diff'] = np.where(mapped_weekly_variance != 0, group['marginal_diff'] / mapped_weekly_variance, 0)\n",
    "    standardized.append(group['marginal_diff'])\n",
    "    # group.set_index('localminute')['marginal_diff'].plot(figsize=(15,5))\n",
    "    # plt.xlabel('Date')\n",
    "    # plt.ylabel('Standardized beer production rate')\n",
    "    # plt.grid()\n",
    "    # plt.show()"
   ]
  },
  {
   "cell_type": "code",
   "execution_count": 46,
   "metadata": {},
   "outputs": [
    {
     "name": "stderr",
     "output_type": "stream",
     "text": [
      "/var/folders/tn/8lbbw7dn3f3b367scfqs7w3h0000gp/T/ipykernel_48961/2381088770.py:1: SettingWithCopyWarning: \n",
      "A value is trying to be set on a copy of a slice from a DataFrame.\n",
      "Try using .loc[row_indexer,col_indexer] = value instead\n",
      "\n",
      "See the caveats in the documentation: https://pandas.pydata.org/pandas-docs/stable/user_guide/indexing.html#returning-a-view-versus-a-copy\n",
      "  df['marginal_diff'] = pd.concat(standardized)\n"
     ]
    },
    {
     "data": {
      "text/plain": [
       "0         0.0\n",
       "1         0.0\n",
       "2         0.0\n",
       "3         0.0\n",
       "4         0.0\n",
       "         ... \n",
       "525616    0.0\n",
       "525617    0.0\n",
       "525618    0.0\n",
       "525619    0.0\n",
       "525620    0.0\n",
       "Name: marginal_diff, Length: 525621, dtype: float64"
      ]
     },
     "execution_count": 46,
     "metadata": {},
     "output_type": "execute_result"
    }
   ],
   "source": [
    "df['marginal_diff'] = pd.concat(standardized)\n",
    "df['marginal_diff']"
   ]
  },
  {
   "cell_type": "code",
   "execution_count": 47,
   "metadata": {},
   "outputs": [
    {
     "data": {
      "text/plain": [
       "localminute             0\n",
       "marginal_consumption    0\n",
       "dataid                  0\n",
       "DST                     0\n",
       "marginal_diff           0\n",
       "week                    0\n",
       "dtype: int64"
      ]
     },
     "execution_count": 47,
     "metadata": {},
     "output_type": "execute_result"
    }
   ],
   "source": [
    "df.isna().sum()"
   ]
  },
  {
   "cell_type": "code",
   "execution_count": 48,
   "metadata": {},
   "outputs": [
    {
     "data": {
      "text/plain": [
       "0.09241104017679351"
      ]
     },
     "execution_count": 48,
     "metadata": {},
     "output_type": "execute_result"
    }
   ],
   "source": [
    "df['marginal_diff'].skew()"
   ]
  },
  {
   "cell_type": "code",
   "execution_count": 49,
   "metadata": {},
   "outputs": [
    {
     "name": "stderr",
     "output_type": "stream",
     "text": [
      "/var/folders/tn/8lbbw7dn3f3b367scfqs7w3h0000gp/T/ipykernel_48961/3429711195.py:1: SettingWithCopyWarning: \n",
      "A value is trying to be set on a copy of a slice from a DataFrame.\n",
      "Try using .loc[row_indexer,col_indexer] = value instead\n",
      "\n",
      "See the caveats in the documentation: https://pandas.pydata.org/pandas-docs/stable/user_guide/indexing.html#returning-a-view-versus-a-copy\n",
      "  df['year'] = df['localminute'].dt.year\n",
      "/var/folders/tn/8lbbw7dn3f3b367scfqs7w3h0000gp/T/ipykernel_48961/3429711195.py:2: SettingWithCopyWarning: \n",
      "A value is trying to be set on a copy of a slice from a DataFrame.\n",
      "Try using .loc[row_indexer,col_indexer] = value instead\n",
      "\n",
      "See the caveats in the documentation: https://pandas.pydata.org/pandas-docs/stable/user_guide/indexing.html#returning-a-view-versus-a-copy\n",
      "  df['month'] = df['localminute'].dt.month\n",
      "/var/folders/tn/8lbbw7dn3f3b367scfqs7w3h0000gp/T/ipykernel_48961/3429711195.py:3: SettingWithCopyWarning: \n",
      "A value is trying to be set on a copy of a slice from a DataFrame.\n",
      "Try using .loc[row_indexer,col_indexer] = value instead\n",
      "\n",
      "See the caveats in the documentation: https://pandas.pydata.org/pandas-docs/stable/user_guide/indexing.html#returning-a-view-versus-a-copy\n",
      "  df['day'] = df['localminute'].dt.day\n",
      "/var/folders/tn/8lbbw7dn3f3b367scfqs7w3h0000gp/T/ipykernel_48961/3429711195.py:4: SettingWithCopyWarning: \n",
      "A value is trying to be set on a copy of a slice from a DataFrame.\n",
      "Try using .loc[row_indexer,col_indexer] = value instead\n",
      "\n",
      "See the caveats in the documentation: https://pandas.pydata.org/pandas-docs/stable/user_guide/indexing.html#returning-a-view-versus-a-copy\n",
      "  df['hour'] = df['localminute'].dt.hour\n"
     ]
    },
    {
     "data": {
      "text/html": [
       "<div>\n",
       "<style scoped>\n",
       "    .dataframe tbody tr th:only-of-type {\n",
       "        vertical-align: middle;\n",
       "    }\n",
       "\n",
       "    .dataframe tbody tr th {\n",
       "        vertical-align: top;\n",
       "    }\n",
       "\n",
       "    .dataframe thead th {\n",
       "        text-align: right;\n",
       "    }\n",
       "</style>\n",
       "<table border=\"1\" class=\"dataframe\">\n",
       "  <thead>\n",
       "    <tr style=\"text-align: right;\">\n",
       "      <th></th>\n",
       "      <th>localminute</th>\n",
       "      <th>marginal_consumption</th>\n",
       "      <th>dataid</th>\n",
       "      <th>DST</th>\n",
       "      <th>marginal_diff</th>\n",
       "      <th>week</th>\n",
       "      <th>year</th>\n",
       "      <th>month</th>\n",
       "      <th>day</th>\n",
       "      <th>hour</th>\n",
       "    </tr>\n",
       "  </thead>\n",
       "  <tbody>\n",
       "    <tr>\n",
       "      <th>0</th>\n",
       "      <td>2015-10-01 00:00:00</td>\n",
       "      <td>0.0</td>\n",
       "      <td>35</td>\n",
       "      <td>1</td>\n",
       "      <td>0.0</td>\n",
       "      <td>40</td>\n",
       "      <td>2015</td>\n",
       "      <td>10</td>\n",
       "      <td>1</td>\n",
       "      <td>0</td>\n",
       "    </tr>\n",
       "    <tr>\n",
       "      <th>1</th>\n",
       "      <td>2015-10-01 01:00:00</td>\n",
       "      <td>0.0</td>\n",
       "      <td>35</td>\n",
       "      <td>1</td>\n",
       "      <td>0.0</td>\n",
       "      <td>40</td>\n",
       "      <td>2015</td>\n",
       "      <td>10</td>\n",
       "      <td>1</td>\n",
       "      <td>1</td>\n",
       "    </tr>\n",
       "    <tr>\n",
       "      <th>2</th>\n",
       "      <td>2015-10-01 02:00:00</td>\n",
       "      <td>0.0</td>\n",
       "      <td>35</td>\n",
       "      <td>1</td>\n",
       "      <td>0.0</td>\n",
       "      <td>40</td>\n",
       "      <td>2015</td>\n",
       "      <td>10</td>\n",
       "      <td>1</td>\n",
       "      <td>2</td>\n",
       "    </tr>\n",
       "    <tr>\n",
       "      <th>3</th>\n",
       "      <td>2015-10-01 03:00:00</td>\n",
       "      <td>0.0</td>\n",
       "      <td>35</td>\n",
       "      <td>1</td>\n",
       "      <td>0.0</td>\n",
       "      <td>40</td>\n",
       "      <td>2015</td>\n",
       "      <td>10</td>\n",
       "      <td>1</td>\n",
       "      <td>3</td>\n",
       "    </tr>\n",
       "    <tr>\n",
       "      <th>4</th>\n",
       "      <td>2015-10-01 04:00:00</td>\n",
       "      <td>0.0</td>\n",
       "      <td>35</td>\n",
       "      <td>1</td>\n",
       "      <td>0.0</td>\n",
       "      <td>40</td>\n",
       "      <td>2015</td>\n",
       "      <td>10</td>\n",
       "      <td>1</td>\n",
       "      <td>4</td>\n",
       "    </tr>\n",
       "    <tr>\n",
       "      <th>...</th>\n",
       "      <td>...</td>\n",
       "      <td>...</td>\n",
       "      <td>...</td>\n",
       "      <td>...</td>\n",
       "      <td>...</td>\n",
       "      <td>...</td>\n",
       "      <td>...</td>\n",
       "      <td>...</td>\n",
       "      <td>...</td>\n",
       "      <td>...</td>\n",
       "    </tr>\n",
       "    <tr>\n",
       "      <th>525616</th>\n",
       "      <td>2016-02-08 12:00:00</td>\n",
       "      <td>0.0</td>\n",
       "      <td>9956</td>\n",
       "      <td>0</td>\n",
       "      <td>0.0</td>\n",
       "      <td>6</td>\n",
       "      <td>2016</td>\n",
       "      <td>2</td>\n",
       "      <td>8</td>\n",
       "      <td>12</td>\n",
       "    </tr>\n",
       "    <tr>\n",
       "      <th>525617</th>\n",
       "      <td>2016-02-08 13:00:00</td>\n",
       "      <td>0.0</td>\n",
       "      <td>9956</td>\n",
       "      <td>0</td>\n",
       "      <td>0.0</td>\n",
       "      <td>6</td>\n",
       "      <td>2016</td>\n",
       "      <td>2</td>\n",
       "      <td>8</td>\n",
       "      <td>13</td>\n",
       "    </tr>\n",
       "    <tr>\n",
       "      <th>525618</th>\n",
       "      <td>2016-02-08 14:00:00</td>\n",
       "      <td>0.0</td>\n",
       "      <td>9956</td>\n",
       "      <td>0</td>\n",
       "      <td>0.0</td>\n",
       "      <td>6</td>\n",
       "      <td>2016</td>\n",
       "      <td>2</td>\n",
       "      <td>8</td>\n",
       "      <td>14</td>\n",
       "    </tr>\n",
       "    <tr>\n",
       "      <th>525619</th>\n",
       "      <td>2016-02-08 15:00:00</td>\n",
       "      <td>0.0</td>\n",
       "      <td>9956</td>\n",
       "      <td>0</td>\n",
       "      <td>0.0</td>\n",
       "      <td>6</td>\n",
       "      <td>2016</td>\n",
       "      <td>2</td>\n",
       "      <td>8</td>\n",
       "      <td>15</td>\n",
       "    </tr>\n",
       "    <tr>\n",
       "      <th>525620</th>\n",
       "      <td>2016-02-08 16:00:00</td>\n",
       "      <td>0.0</td>\n",
       "      <td>9956</td>\n",
       "      <td>0</td>\n",
       "      <td>0.0</td>\n",
       "      <td>6</td>\n",
       "      <td>2016</td>\n",
       "      <td>2</td>\n",
       "      <td>8</td>\n",
       "      <td>16</td>\n",
       "    </tr>\n",
       "  </tbody>\n",
       "</table>\n",
       "<p>525621 rows × 10 columns</p>\n",
       "</div>"
      ],
      "text/plain": [
       "               localminute  marginal_consumption  dataid  DST  marginal_diff  \\\n",
       "0      2015-10-01 00:00:00                   0.0      35    1            0.0   \n",
       "1      2015-10-01 01:00:00                   0.0      35    1            0.0   \n",
       "2      2015-10-01 02:00:00                   0.0      35    1            0.0   \n",
       "3      2015-10-01 03:00:00                   0.0      35    1            0.0   \n",
       "4      2015-10-01 04:00:00                   0.0      35    1            0.0   \n",
       "...                    ...                   ...     ...  ...            ...   \n",
       "525616 2016-02-08 12:00:00                   0.0    9956    0            0.0   \n",
       "525617 2016-02-08 13:00:00                   0.0    9956    0            0.0   \n",
       "525618 2016-02-08 14:00:00                   0.0    9956    0            0.0   \n",
       "525619 2016-02-08 15:00:00                   0.0    9956    0            0.0   \n",
       "525620 2016-02-08 16:00:00                   0.0    9956    0            0.0   \n",
       "\n",
       "        week  year  month  day  hour  \n",
       "0         40  2015     10    1     0  \n",
       "1         40  2015     10    1     1  \n",
       "2         40  2015     10    1     2  \n",
       "3         40  2015     10    1     3  \n",
       "4         40  2015     10    1     4  \n",
       "...      ...   ...    ...  ...   ...  \n",
       "525616     6  2016      2    8    12  \n",
       "525617     6  2016      2    8    13  \n",
       "525618     6  2016      2    8    14  \n",
       "525619     6  2016      2    8    15  \n",
       "525620     6  2016      2    8    16  \n",
       "\n",
       "[525621 rows x 10 columns]"
      ]
     },
     "execution_count": 49,
     "metadata": {},
     "output_type": "execute_result"
    }
   ],
   "source": [
    "df['year'] = df['localminute'].dt.year\n",
    "df['month'] = df['localminute'].dt.month\n",
    "df['day'] = df['localminute'].dt.day\n",
    "df['hour'] = df['localminute'].dt.hour\n",
    "df"
   ]
  },
  {
   "cell_type": "code",
   "execution_count": 50,
   "metadata": {},
   "outputs": [],
   "source": [
    "features = ['marginal_diff', 'DST', 'week', 'year', 'month', 'day', 'hour', 'dataid']"
   ]
  },
  {
   "cell_type": "code",
   "execution_count": 51,
   "metadata": {},
   "outputs": [],
   "source": [
    "from sklearn.model_selection import train_test_split"
   ]
  },
  {
   "cell_type": "code",
   "execution_count": 52,
   "metadata": {},
   "outputs": [],
   "source": [
    "train_data, test_val_data = train_test_split(df[features], test_size=0.4, random_state=42, shuffle=False)\n",
    "test_data, val_data = train_test_split(test_val_data, test_size=0.5, random_state=42, shuffle=False)"
   ]
  },
  {
   "cell_type": "code",
   "execution_count": 53,
   "metadata": {},
   "outputs": [],
   "source": [
    "X_train = train_data\n",
    "y_train = train_data['marginal_diff'].copy()\n",
    "X_test = test_data\n",
    "y_test = test_data['marginal_diff'].copy()\n",
    "X_val = val_data\n",
    "y_val = val_data['marginal_diff'].copy()"
   ]
  },
  {
   "cell_type": "code",
   "execution_count": 54,
   "metadata": {},
   "outputs": [],
   "source": [
    "# Step 3: Define the missing value rate\n",
    "missing_rate = 0.8  # Introduce NaNs in 80% of the marginal_diff data\n",
    "\n",
    "# Step 4: Randomly assign NaNs in X_train's marginal_diff column\n",
    "n_train_missing = int(len(X_train) * missing_rate)\n",
    "train_indices = np.random.choice(X_train.index, n_train_missing, replace=False)\n",
    "X_train.loc[train_indices, 'marginal_diff'] = np.nan"
   ]
  },
  {
   "cell_type": "code",
   "execution_count": 55,
   "metadata": {},
   "outputs": [],
   "source": [
    "# Introduce NaNs in X_test's marginal_diff column\n",
    "n_test_missing = int(len(X_test) * missing_rate)\n",
    "test_indices = np.random.choice(X_test.index, n_test_missing, replace=False)\n",
    "X_test.loc[test_indices, 'marginal_diff'] = np.nan"
   ]
  },
  {
   "cell_type": "code",
   "execution_count": 56,
   "metadata": {},
   "outputs": [],
   "source": [
    "n_val_missing = int(len(X_val) * missing_rate)\n",
    "val_indices = np.random.choice(X_val.index, n_val_missing, replace=False)\n",
    "X_val.loc[val_indices, 'marginal_diff'] = np.nan"
   ]
  },
  {
   "cell_type": "code",
   "execution_count": 57,
   "metadata": {},
   "outputs": [],
   "source": [
    "mask_train = np.where(np.isnan(X_train['marginal_diff']), 0, 1)  # Mask based on original data shape\n",
    "mask_test = np.where(np.isnan(X_test['marginal_diff']), 0, 1)\n",
    "mask_val = np.where(np.isnan(X_val['marginal_diff']), 0, 1)"
   ]
  },
  {
   "cell_type": "code",
   "execution_count": 58,
   "metadata": {},
   "outputs": [
    {
     "name": "stderr",
     "output_type": "stream",
     "text": [
      "/var/folders/tn/8lbbw7dn3f3b367scfqs7w3h0000gp/T/ipykernel_48961/3897026729.py:3: FutureWarning: DataFrame.fillna with 'method' is deprecated and will raise in a future version. Use obj.ffill() or obj.bfill() instead.\n",
      "  X_train_filled = pd.DataFrame(X_train).fillna(method='ffill')\n"
     ]
    }
   ],
   "source": [
    "from sklearn.preprocessing import MinMaxScaler\n",
    "scaler = MinMaxScaler()\n",
    "X_train_filled = pd.DataFrame(X_train).fillna(method='ffill')\n",
    "scaled_X_train = scaler.fit_transform(X_train_filled)"
   ]
  },
  {
   "cell_type": "code",
   "execution_count": 59,
   "metadata": {},
   "outputs": [
    {
     "name": "stderr",
     "output_type": "stream",
     "text": [
      "/var/folders/tn/8lbbw7dn3f3b367scfqs7w3h0000gp/T/ipykernel_48961/2740955589.py:1: FutureWarning: DataFrame.fillna with 'method' is deprecated and will raise in a future version. Use obj.ffill() or obj.bfill() instead.\n",
      "  X_test_filled = pd.DataFrame(X_test).fillna(method='ffill')\n",
      "/var/folders/tn/8lbbw7dn3f3b367scfqs7w3h0000gp/T/ipykernel_48961/2740955589.py:3: FutureWarning: DataFrame.fillna with 'method' is deprecated and will raise in a future version. Use obj.ffill() or obj.bfill() instead.\n",
      "  X_val_filled = pd.DataFrame(X_val).fillna(method='ffill')\n"
     ]
    }
   ],
   "source": [
    "X_test_filled = pd.DataFrame(X_test).fillna(method='ffill')\n",
    "scaled_X_test = scaler.transform(X_test_filled)\n",
    "X_val_filled = pd.DataFrame(X_val).fillna(method='ffill')\n",
    "scaled_X_val = scaler.transform(X_val_filled)"
   ]
  },
  {
   "cell_type": "code",
   "execution_count": 60,
   "metadata": {},
   "outputs": [],
   "source": [
    "def create_sequences(data, seq_length):\n",
    "    sequences = []\n",
    "    for i in range(len(data) - seq_length + 1):\n",
    "        seq = data[i:i + seq_length]\n",
    "        sequences.append(seq)\n",
    "    return np.array(sequences)"
   ]
  },
  {
   "cell_type": "code",
   "execution_count": 61,
   "metadata": {},
   "outputs": [],
   "source": [
    "sequence_length = 24\n",
    "X_train_seq = create_sequences(scaled_X_train, sequence_length)\n",
    "X_test_seq = create_sequences(scaled_X_test, sequence_length)\n",
    "X_val_seq = create_sequences(scaled_X_val, sequence_length)\n",
    "y_train_seq = create_sequences(y_train, sequence_length)\n",
    "y_test_seq = create_sequences(y_test, sequence_length)\n",
    "y_val_seq = create_sequences(y_val, sequence_length)"
   ]
  },
  {
   "cell_type": "code",
   "execution_count": 62,
   "metadata": {},
   "outputs": [],
   "source": [
    "mask_train_seq = create_sequences(mask_train, sequence_length)\n",
    "mask_test_seq = create_sequences(mask_test, sequence_length)\n",
    "mask_val_seq = create_sequences(mask_val, sequence_length)"
   ]
  },
  {
   "cell_type": "code",
   "execution_count": 63,
   "metadata": {},
   "outputs": [],
   "source": [
    "import torch"
   ]
  },
  {
   "cell_type": "code",
   "execution_count": 64,
   "metadata": {},
   "outputs": [],
   "source": [
    "X_train_tensor = torch.from_numpy(X_train_seq).float()\n",
    "X_test_tensor = torch.from_numpy(X_test_seq).float()\n",
    "X_val_tensor = torch.from_numpy(X_val_seq).float()\n",
    "mask_train_tensor = torch.from_numpy(mask_train_seq).float()\n",
    "mask_test_tensor = torch.from_numpy(mask_test_seq).float()\n",
    "mask_val_tensor = torch.from_numpy(mask_val_seq).float()"
   ]
  },
  {
   "cell_type": "code",
   "execution_count": 65,
   "metadata": {},
   "outputs": [],
   "source": [
    "y_train_tensor = torch.from_numpy(y_train_seq).float()\n",
    "y_test_tensor = torch.from_numpy(y_test_seq).float()\n",
    "y_val_tensor = torch.from_numpy(y_val_seq).float()"
   ]
  },
  {
   "cell_type": "code",
   "execution_count": 66,
   "metadata": {},
   "outputs": [],
   "source": [
    "import torch.nn as nn\n",
    "from torch.utils.data import DataLoader, TensorDataset"
   ]
  },
  {
   "cell_type": "code",
   "execution_count": 81,
   "metadata": {},
   "outputs": [],
   "source": [
    "train_dataset = TensorDataset(X_train_tensor, mask_train_tensor, y_train_tensor)\n",
    "val_dataset = TensorDataset(X_val_tensor, mask_val_tensor, y_val_tensor)\n",
    "test_dataset = TensorDataset(X_test_tensor, mask_test_tensor, y_test_tensor)\n",
    "train_loader = DataLoader(train_dataset, batch_size=64, shuffle=True)\n",
    "val_loader = DataLoader(val_dataset, batch_size=64)\n",
    "test_loader = DataLoader(test_dataset, batch_size=64)"
   ]
  },
  {
   "cell_type": "code",
   "execution_count": 82,
   "metadata": {},
   "outputs": [],
   "source": [
    "class LSTMImputer(nn.Module):\n",
    "    def __init__(self, input_size, hidden_size, num_layers):\n",
    "        super(LSTMImputer, self).__init__()\n",
    "        self.lstm = nn.LSTM(input_size + 1, hidden_size, num_layers=num_layers, batch_first=True)  # +1 for mask channel\n",
    "        self.fc = nn.Linear(hidden_size, 1)  # Change to output a single value\n",
    "\n",
    "    def forward(self, x, mask):\n",
    "        mask = mask.unsqueeze(-1)  # Change shape from (batch_size, seq_length) to (batch_size, seq_length, 1)\n",
    "        x_masked = torch.cat((x, mask), dim=2)  # Concatenate along feature dimension\n",
    "        \n",
    "        h0 = torch.zeros(num_layers, x.size(0), hidden_size).to(x.device)\n",
    "        c0 = torch.zeros(num_layers, x.size(0), hidden_size).to(x.device)\n",
    "        \n",
    "        out, _ = self.lstm(x_masked, (h0, c0))\n",
    "        imputed = self.fc(out)  # Output imputed values\n",
    "        \n",
    "        return imputed"
   ]
  },
  {
   "cell_type": "code",
   "execution_count": 83,
   "metadata": {},
   "outputs": [],
   "source": [
    "input_size = X_train_tensor.shape[2]\n",
    "hidden_size = 64            \n",
    "num_layers = 2"
   ]
  },
  {
   "cell_type": "code",
   "execution_count": 89,
   "metadata": {},
   "outputs": [],
   "source": [
    "model = LSTMImputer(input_size=input_size, hidden_size=hidden_size, num_layers=num_layers)\n",
    "optimizer = torch.optim.Adam(model.parameters(), lr=0.01)\n",
    "criterion = nn.MSELoss(reduction=\"none\")"
   ]
  },
  {
   "cell_type": "code",
   "execution_count": 90,
   "metadata": {},
   "outputs": [
    {
     "data": {
      "text/plain": [
       "torch.Size([315349, 24, 8])"
      ]
     },
     "execution_count": 90,
     "metadata": {},
     "output_type": "execute_result"
    }
   ],
   "source": [
    "X_train_tensor.shape"
   ]
  },
  {
   "cell_type": "code",
   "execution_count": 91,
   "metadata": {},
   "outputs": [
    {
     "data": {
      "text/plain": [
       "torch.Size([315349, 24])"
      ]
     },
     "execution_count": 91,
     "metadata": {},
     "output_type": "execute_result"
    }
   ],
   "source": [
    "y_train_tensor.shape"
   ]
  },
  {
   "cell_type": "code",
   "execution_count": 92,
   "metadata": {},
   "outputs": [
    {
     "data": {
      "text/plain": [
       "torch.Size([315349, 24])"
      ]
     },
     "execution_count": 92,
     "metadata": {},
     "output_type": "execute_result"
    }
   ],
   "source": [
    "mask_train_tensor.shape"
   ]
  },
  {
   "cell_type": "code",
   "execution_count": 93,
   "metadata": {},
   "outputs": [
    {
     "name": "stdout",
     "output_type": "stream",
     "text": [
      "Epoch [1/100], Train Loss: 0.7252, Validation Loss: 0.6699\n",
      "Epoch [2/100], Train Loss: 0.5417, Validation Loss: 0.6779\n",
      "Epoch [3/100], Train Loss: 0.5129, Validation Loss: 0.6890\n",
      "Epoch [4/100], Train Loss: 0.8223, Validation Loss: 0.7420\n",
      "Epoch [5/100], Train Loss: 0.6491, Validation Loss: 0.7542\n",
      "Epoch [6/100], Train Loss: 0.8176, Validation Loss: 0.8299\n",
      "Epoch [7/100], Train Loss: 0.6290, Validation Loss: 0.8401\n",
      "Epoch [8/100], Train Loss: 0.6665, Validation Loss: 0.7613\n",
      "Epoch [9/100], Train Loss: 0.6624, Validation Loss: 0.8526\n",
      "Epoch [10/100], Train Loss: 0.6035, Validation Loss: 0.8688\n",
      "Epoch [11/100], Train Loss: 0.5742, Validation Loss: 0.8553\n",
      "Epoch [12/100], Train Loss: 0.8237, Validation Loss: 0.8672\n",
      "Epoch [13/100], Train Loss: 0.6404, Validation Loss: 0.8881\n",
      "Epoch [14/100], Train Loss: 1.0310, Validation Loss: 0.8991\n",
      "Epoch [15/100], Train Loss: 1.1855, Validation Loss: 0.8997\n",
      "Epoch [16/100], Train Loss: 0.8532, Validation Loss: 0.8904\n",
      "Epoch [17/100], Train Loss: 1.1602, Validation Loss: 0.8989\n",
      "Epoch [18/100], Train Loss: 0.8239, Validation Loss: 0.8928\n",
      "Epoch [19/100], Train Loss: 0.8460, Validation Loss: 0.9047\n",
      "Epoch [20/100], Train Loss: 0.8752, Validation Loss: 0.9077\n",
      "Epoch [21/100], Train Loss: 1.5024, Validation Loss: 0.9059\n",
      "Epoch [22/100], Train Loss: 0.9915, Validation Loss: 0.8999\n",
      "Epoch [23/100], Train Loss: 1.1207, Validation Loss: 0.8969\n",
      "Epoch [24/100], Train Loss: 1.2036, Validation Loss: 0.9056\n",
      "Epoch [25/100], Train Loss: 0.8756, Validation Loss: 0.9052\n",
      "Epoch [26/100], Train Loss: 0.9058, Validation Loss: 0.9416\n",
      "Epoch [27/100], Train Loss: 0.7496, Validation Loss: 0.9103\n",
      "Epoch [28/100], Train Loss: 1.2379, Validation Loss: 0.9349\n",
      "Epoch [29/100], Train Loss: 1.1997, Validation Loss: 0.9243\n",
      "Epoch [30/100], Train Loss: 0.7599, Validation Loss: 0.9165\n",
      "Epoch [31/100], Train Loss: 1.2525, Validation Loss: 0.9013\n",
      "Epoch [32/100], Train Loss: 0.6799, Validation Loss: 0.9030\n",
      "Epoch [33/100], Train Loss: 0.6638, Validation Loss: 0.9067\n",
      "Epoch [34/100], Train Loss: 1.0969, Validation Loss: 0.8999\n",
      "Epoch [35/100], Train Loss: 0.6431, Validation Loss: 0.8961\n",
      "Epoch [36/100], Train Loss: 1.0561, Validation Loss: 0.9052\n",
      "Epoch [37/100], Train Loss: 0.7225, Validation Loss: 0.9145\n",
      "Epoch [38/100], Train Loss: 1.1509, Validation Loss: 0.8804\n",
      "Epoch [39/100], Train Loss: 0.7619, Validation Loss: 0.8775\n",
      "Epoch [40/100], Train Loss: 0.7713, Validation Loss: 0.9324\n",
      "Epoch [41/100], Train Loss: 0.8397, Validation Loss: 0.9114\n",
      "Epoch [42/100], Train Loss: 1.5634, Validation Loss: 0.9040\n",
      "Epoch [43/100], Train Loss: 0.7884, Validation Loss: 0.9006\n",
      "Epoch [44/100], Train Loss: 1.1269, Validation Loss: 0.9058\n",
      "Epoch [45/100], Train Loss: 0.6830, Validation Loss: 0.9472\n",
      "Epoch [46/100], Train Loss: 0.8492, Validation Loss: 0.9087\n",
      "Epoch [47/100], Train Loss: 0.9617, Validation Loss: 0.8991\n",
      "Epoch [48/100], Train Loss: 0.7196, Validation Loss: 0.9024\n",
      "Epoch [49/100], Train Loss: 1.1828, Validation Loss: 0.8958\n",
      "Epoch [50/100], Train Loss: 0.9603, Validation Loss: 0.8393\n",
      "Epoch [51/100], Train Loss: 0.6605, Validation Loss: 0.7115\n",
      "Epoch [52/100], Train Loss: 0.9602, Validation Loss: 0.6606\n",
      "Epoch [53/100], Train Loss: 0.5642, Validation Loss: 0.6520\n",
      "Epoch [54/100], Train Loss: 0.6759, Validation Loss: 0.6501\n",
      "Epoch [55/100], Train Loss: 0.4775, Validation Loss: 0.6510\n",
      "Epoch [56/100], Train Loss: 0.7252, Validation Loss: 0.6480\n",
      "Epoch [57/100], Train Loss: 0.6635, Validation Loss: 0.6509\n",
      "Epoch [58/100], Train Loss: 0.7910, Validation Loss: 0.6492\n",
      "Epoch [59/100], Train Loss: 0.5377, Validation Loss: 0.6491\n",
      "Epoch [60/100], Train Loss: 0.5439, Validation Loss: 0.6499\n",
      "Epoch [61/100], Train Loss: 0.7137, Validation Loss: 0.6487\n",
      "Epoch [62/100], Train Loss: 0.6853, Validation Loss: 0.6602\n",
      "Epoch [63/100], Train Loss: 0.4960, Validation Loss: 0.6530\n",
      "Epoch [64/100], Train Loss: 0.6887, Validation Loss: 0.6740\n",
      "Epoch [65/100], Train Loss: 0.8308, Validation Loss: 0.6775\n",
      "Epoch [66/100], Train Loss: 0.7222, Validation Loss: 0.6489\n",
      "Epoch [67/100], Train Loss: 0.8833, Validation Loss: 0.6796\n",
      "Epoch [68/100], Train Loss: 0.7757, Validation Loss: 0.6765\n",
      "Epoch [69/100], Train Loss: 0.5565, Validation Loss: 0.7260\n",
      "Epoch [70/100], Train Loss: 0.7224, Validation Loss: 0.6762\n",
      "Epoch [71/100], Train Loss: 0.5654, Validation Loss: 0.6594\n",
      "Epoch [72/100], Train Loss: 0.6923, Validation Loss: 0.6884\n",
      "Epoch [73/100], Train Loss: 0.6435, Validation Loss: 0.6509\n",
      "Epoch [74/100], Train Loss: 0.6530, Validation Loss: 0.6605\n",
      "Epoch [75/100], Train Loss: 0.6232, Validation Loss: 0.6888\n",
      "Epoch [76/100], Train Loss: 0.5786, Validation Loss: 0.6616\n",
      "Epoch [77/100], Train Loss: 0.8953, Validation Loss: 0.6927\n",
      "Epoch [78/100], Train Loss: 0.9370, Validation Loss: 0.6876\n",
      "Epoch [79/100], Train Loss: 0.6689, Validation Loss: 0.6880\n",
      "Epoch [80/100], Train Loss: 0.6213, Validation Loss: 0.6784\n",
      "Epoch [81/100], Train Loss: 0.7454, Validation Loss: 0.6882\n",
      "Epoch [82/100], Train Loss: 0.7308, Validation Loss: 0.6738\n",
      "Epoch [83/100], Train Loss: 1.2557, Validation Loss: 0.7466\n",
      "Epoch [84/100], Train Loss: 0.5803, Validation Loss: 0.7014\n",
      "Epoch [85/100], Train Loss: 0.4449, Validation Loss: 0.7040\n",
      "Epoch [86/100], Train Loss: 0.6016, Validation Loss: 0.7557\n",
      "Epoch [87/100], Train Loss: 0.9257, Validation Loss: 0.7273\n",
      "Epoch [88/100], Train Loss: 0.8048, Validation Loss: 0.7716\n",
      "Epoch [89/100], Train Loss: 0.7163, Validation Loss: 0.7262\n",
      "Epoch [90/100], Train Loss: 0.6283, Validation Loss: 0.7161\n",
      "Epoch [91/100], Train Loss: 0.6838, Validation Loss: 0.7214\n",
      "Epoch [92/100], Train Loss: 0.5398, Validation Loss: 0.7125\n",
      "Epoch [93/100], Train Loss: 0.6370, Validation Loss: 0.6959\n",
      "Epoch [94/100], Train Loss: 0.8152, Validation Loss: 0.7125\n",
      "Epoch [95/100], Train Loss: 0.6847, Validation Loss: 0.6980\n",
      "Epoch [96/100], Train Loss: 0.7213, Validation Loss: 0.7209\n",
      "Epoch [97/100], Train Loss: 0.7219, Validation Loss: 0.7424\n",
      "Epoch [98/100], Train Loss: 0.6289, Validation Loss: 0.7084\n",
      "Epoch [99/100], Train Loss: 0.8787, Validation Loss: 0.7443\n",
      "Epoch [100/100], Train Loss: 1.0517, Validation Loss: 0.6774\n"
     ]
    }
   ],
   "source": [
    "# Training Loop\n",
    "for epoch in range(num_epochs):\n",
    "    model.train()  # Set model to training mode\n",
    "    \n",
    "    for inputs, mask, targets in train_loader:  # Assuming train_loader is defined\n",
    "        optimizer.zero_grad()  # Clear gradients\n",
    "        \n",
    "        # Forward pass through the model\n",
    "        outputs = model(inputs.float(), mask.float())  # Model predicts missing values\n",
    "        \n",
    "        # Calculate individual losses against original targets\n",
    "        individual_losses = criterion(outputs.squeeze(), targets.squeeze())\n",
    "        \n",
    "        # Apply mask to ignore losses for entries where inputs were NaN\n",
    "        masked_losses = individual_losses * mask.squeeze()  \n",
    "        \n",
    "        # Keep only valid losses (those where inputs were not NaN)\n",
    "        masked_losses_valid_entries = masked_losses[masked_losses > 0] \n",
    "        \n",
    "        if len(masked_losses_valid_entries) > 0:\n",
    "            final_loss = masked_losses_valid_entries.mean()  # Average over valid entries\n",
    "            \n",
    "            final_loss.backward()  # Backpropagation\n",
    "            optimizer.step()       # Update weights       \n",
    "\n",
    "    # Validation Phase after each epoch\n",
    "    model.eval()   # Set model to evaluation mode\n",
    "    val_loss_total = 0 \n",
    "    num_val_entries = 0 \n",
    "\n",
    "    with torch.no_grad():  # Disable gradient calculation for validation\n",
    "        for inputs_val, mask_val, targets_val in val_loader:  # Assuming val_loader is defined\n",
    "            outputs_val = model(inputs_val.float(), mask_val.float())  \n",
    "            \n",
    "            individual_val_losses = criterion(outputs_val.squeeze(), targets_val.squeeze())\n",
    "            \n",
    "            # Apply mask to ignore losses for entries where inputs were NaN\n",
    "            masked_val_losses = individual_val_losses * mask_val.squeeze()  \n",
    "            \n",
    "            # Keep only valid losses (those where inputs were not NaN)\n",
    "            masked_val_losses_valid_entries = masked_val_losses[masked_val_losses > 0]  \n",
    "            \n",
    "            if len(masked_val_losses_valid_entries) > 0:\n",
    "                val_loss_total += masked_val_losses_valid_entries.sum().item() \n",
    "                num_val_entries += len(masked_val_losses_valid_entries)  \n",
    "\n",
    "    if num_val_entries > 0:\n",
    "        average_val_loss = val_loss_total / num_val_entries \n",
    "        print(f'Epoch [{epoch + 1}/{num_epochs}], Train Loss: {final_loss.item():.4f}, Validation Loss: {average_val_loss:.4f}')\n",
    "    else:\n",
    "        print(f'Epoch [{epoch + 1}/{num_epochs}], Train Loss: {final_loss.item():.4f}, Validation Loss: No valid entries')"
   ]
  },
  {
   "cell_type": "code",
   "execution_count": 94,
   "metadata": {},
   "outputs": [
    {
     "name": "stdout",
     "output_type": "stream",
     "text": [
      "Test Loss: 0.6985\n"
     ]
    }
   ],
   "source": [
    "model.eval()   # Set model to evaluation mode for testing\n",
    "test_loss_total = 0 \n",
    "num_test_entries = 0 \n",
    "\n",
    "with torch.no_grad():  # Disable gradient calculation for testing\n",
    "    for inputs_test, mask_test, targets_test in test_loader:  # Assuming test_loader is defined\n",
    "        outputs_test = model(inputs_test.float(), mask_test.float())  \n",
    "        \n",
    "        loss_test = criterion(outputs_test.squeeze(), targets_test.squeeze())\n",
    "        \n",
    "        masked_loss_test = loss_test * mask_test.squeeze()  \n",
    "        \n",
    "        masked_loss_valid_entries_test = masked_loss_test[masked_loss_test > 0]  \n",
    "        \n",
    "        if len(masked_loss_valid_entries_test) > 0:\n",
    "            test_loss_total += masked_loss_valid_entries_test.sum().item() \n",
    "            num_test_entries += len(masked_loss_valid_entries_test)  \n",
    "\n",
    "if num_test_entries > 0:\n",
    "    average_test_loss = test_loss_total / num_test_entries \n",
    "    print(f'Test Loss: {average_test_loss:.4f}')\n",
    "else:\n",
    "    print('Test Loss: No valid entries')"
   ]
  },
  {
   "cell_type": "code",
   "execution_count": 95,
   "metadata": {},
   "outputs": [
    {
     "name": "stdout",
     "output_type": "stream",
     "text": [
      "Predictions: [[-1.009304    0.3300531  -0.10948193 -0.06023717 -0.01133454 -0.02260661\n",
      "  -0.006387   -0.01076937  0.6691034  -0.5662863   0.13865292 -0.03847718\n",
      "  -0.03748238 -0.03860855 -0.07480574  0.01669717  0.34008455 -0.16769564\n",
      "   0.02594924  0.02194691  0.05841386  0.21294701  0.04580498 -0.11238205]\n",
      " [-0.02042544 -0.00105667 -0.08381426 -0.04583704  0.00192249 -0.00653434\n",
      "  -0.01107407  0.66873145 -0.5673814   0.13955021 -0.03757584 -0.03748155\n",
      "  -0.03859186 -0.07411909  0.01747     0.33965898 -0.16603565  0.02673149\n",
      "   0.02278876  0.05991924  0.21734118  0.04790688 -0.11330092 -0.16419888]\n",
      " [-0.01586473  0.00199747 -0.06324947 -0.01716888  0.00617373 -0.00973678\n",
      "   0.6688061  -0.5673833   0.13956094 -0.03757    -0.03748178 -0.03859115\n",
      "  -0.07418716  0.01742482  0.33967686 -0.16619623  0.02673626  0.02279317\n",
      "   0.05993056  0.21736753  0.04788506 -0.11329925 -0.1642214  -0.11617446]\n",
      " [ 0.00439906  0.00789726 -0.03110492  0.00119257 -0.00508213  0.66894937\n",
      "  -0.5673981   0.1395824  -0.0375644  -0.03748202 -0.03859162 -0.07425559\n",
      "   0.01737916  0.33969355 -0.16635787  0.02674031  0.02279699  0.05994081\n",
      "   0.21739483  0.04786289 -0.11329746 -0.16424441 -0.11620212  0.00960493]\n",
      " [ 0.03168428  0.01243377  0.01278937 -0.00815845  0.66742134 -0.5675099\n",
      "   0.13971198 -0.0375669  -0.03748167 -0.0385921  -0.07432568  0.01733315\n",
      "   0.33971143 -0.16652179  0.02674532  0.02280092  0.05995238  0.2174207\n",
      "   0.04784143 -0.11329615 -0.16426909 -0.11622965  0.00959969  0.1756314 ]\n",
      " [ 0.05581212  0.01488769 -0.00517297  0.7001531  -0.5708647   0.13807786\n",
      "  -0.03741896 -0.03749716 -0.03859115 -0.07441425  0.0172869   0.3397274\n",
      "  -0.16668665  0.02674961  0.02280462  0.05996346  0.21744812  0.04781938\n",
      "  -0.11329484 -0.16429341 -0.11625898  0.00959611  0.17563808  0.31127834]\n",
      " [ 0.07288718 -0.05991709  0.5896504  -0.53101206  0.1437186  -0.03769529\n",
      "  -0.03742278 -0.03859389 -0.07446539  0.01723909  0.33974624 -0.1668539\n",
      "   0.0267545   0.02280843  0.05997419  0.2174747   0.04779577 -0.1132915\n",
      "  -0.16431451 -0.11628699  0.00959063  0.17564523  0.31128    -0.21881509]\n",
      " [ 0.00312471  0.62756455 -0.5897486   0.13209176 -0.03827524 -0.03753126\n",
      "  -0.03861296 -0.07650733  0.01562941  0.3405254  -0.17090559  0.02563477\n",
      "   0.02158141  0.05777764  0.21107996  0.04462314 -0.11228168 -0.16096723\n",
      "  -0.11688292  0.00909686  0.17508769  0.3113773  -0.22253013  0.00509739]\n",
      " [ 0.5751462  -0.8731868   0.04748404 -0.04465032 -0.03726435 -0.03865087\n",
      "  -0.07739282  0.01506627  0.34076715 -0.17250836  0.02541149  0.02132702\n",
      "   0.0573194   0.20975661  0.04391909 -0.11223853 -0.16073358 -0.11718762\n",
      "   0.00896573  0.17493582  0.31139445 -0.2232585   0.00488007 -0.0011487 ]\n",
      " [-0.6983359   0.31637204 -0.03840458 -0.03705168 -0.03863871 -0.07577467\n",
      "   0.01602089  0.34034753 -0.16988277  0.0258739   0.02184832  0.05827212\n",
      "   0.21249187  0.04525208 -0.11232591 -0.16126943 -0.11668003  0.00920796\n",
      "   0.17525864  0.3113656  -0.22175169  0.00537264 -0.0012033   0.02728081]]\n",
      "Actual Values: [[-0.9515365   0.          0.          0.          0.          1.5858941\n",
      "  -1.5858941   0.          0.63435763 -0.63435763  0.          0.\n",
      "   0.          0.31717882 -0.31717882  0.          0.31717882 -0.31717882\n",
      "   0.          0.          0.          0.          0.31717882 -0.31717882]\n",
      " [ 0.          0.          0.          0.          1.5858941  -1.5858941\n",
      "   0.          0.63435763 -0.63435763  0.          0.          0.\n",
      "   0.31717882 -0.31717882  0.          0.31717882 -0.31717882  0.\n",
      "   0.          0.          0.          0.31717882 -0.31717882  0.        ]\n",
      " [ 0.          0.          0.          1.5858941  -1.5858941   0.\n",
      "   0.63435763 -0.63435763  0.          0.          0.          0.31717882\n",
      "  -0.31717882  0.          0.31717882 -0.31717882  0.          0.\n",
      "   0.          0.          0.31717882 -0.31717882  0.          0.        ]\n",
      " [ 0.          0.          1.5858941  -1.5858941   0.          0.63435763\n",
      "  -0.63435763  0.          0.          0.          0.31717882 -0.31717882\n",
      "   0.          0.31717882 -0.31717882  0.          0.          0.\n",
      "   0.          0.31717882 -0.31717882  0.          0.          0.        ]\n",
      " [ 0.          1.5858941  -1.5858941   0.          0.63435763 -0.63435763\n",
      "   0.          0.          0.          0.31717882 -0.31717882  0.\n",
      "   0.31717882 -0.31717882  0.          0.          0.          0.\n",
      "   0.31717882 -0.31717882  0.          0.          0.          0.        ]\n",
      " [ 1.5858941  -1.5858941   0.          0.63435763 -0.63435763  0.\n",
      "   0.          0.          0.31717882 -0.31717882  0.          0.31717882\n",
      "  -0.31717882  0.          0.          0.          0.          0.31717882\n",
      "  -0.31717882  0.          0.          0.          0.          0.31717882]\n",
      " [-1.5858941   0.          0.63435763 -0.63435763  0.          0.\n",
      "   0.          0.31717882 -0.31717882  0.          0.31717882 -0.31717882\n",
      "   0.          0.          0.          0.          0.31717882 -0.31717882\n",
      "   0.          0.          0.          0.          0.31717882 -0.31717882]\n",
      " [ 0.          0.63435763 -0.63435763  0.          0.          0.\n",
      "   0.31717882 -0.31717882  0.          0.31717882 -0.31717882  0.\n",
      "   0.          0.          0.          0.31717882 -0.31717882  0.\n",
      "   0.          0.          0.          0.31717882 -0.31717882  0.        ]\n",
      " [ 0.63435763 -0.63435763  0.          0.          0.          0.31717882\n",
      "  -0.31717882  0.          0.31717882 -0.31717882  0.          0.\n",
      "   0.          0.          0.31717882 -0.31717882  0.          0.\n",
      "   0.          0.          0.31717882 -0.31717882  0.          0.        ]\n",
      " [-0.63435763  0.          0.          0.          0.31717882 -0.31717882\n",
      "   0.          0.31717882 -0.31717882  0.          0.          0.\n",
      "   0.          0.31717882 -0.31717882  0.          0.          0.\n",
      "   0.          0.31717882 -0.31717882  0.          0.          0.        ]]\n"
     ]
    }
   ],
   "source": [
    "with torch.no_grad():\n",
    "    predictions = model(X_test_tensor.float(), mask_test_tensor.float()).squeeze()\n",
    "    print(\"Predictions:\", predictions[:10].numpy())\n",
    "    print(\"Actual Values:\", y_test_tensor[:10].numpy())"
   ]
  },
  {
   "cell_type": "code",
   "execution_count": null,
   "metadata": {},
   "outputs": [],
   "source": []
  }
 ],
 "metadata": {
  "kernelspec": {
   "display_name": "Python 3 (ipykernel)",
   "language": "python",
   "name": "python3"
  },
  "language_info": {
   "codemirror_mode": {
    "name": "ipython",
    "version": 3
   },
   "file_extension": ".py",
   "mimetype": "text/x-python",
   "name": "python",
   "nbconvert_exporter": "python",
   "pygments_lexer": "ipython3",
   "version": "3.10.14"
  }
 },
 "nbformat": 4,
 "nbformat_minor": 4
}
