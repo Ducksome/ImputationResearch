{
 "cells": [
  {
   "cell_type": "code",
   "execution_count": 1,
   "metadata": {},
   "outputs": [],
   "source": [
    "import matplotlib.pyplot as plt\n",
    "import seaborn as sns\n",
    "import numpy as np\n",
    "import pandas as pd"
   ]
  },
  {
   "cell_type": "code",
   "execution_count": 2,
   "metadata": {},
   "outputs": [],
   "source": [
    "df = pd.read_csv(\"dataport-export_gas_oct2015-mar2016.csv\")"
   ]
  },
  {
   "cell_type": "code",
   "execution_count": 3,
   "metadata": {},
   "outputs": [
    {
     "data": {
      "text/html": [
       "<div>\n",
       "<style scoped>\n",
       "    .dataframe tbody tr th:only-of-type {\n",
       "        vertical-align: middle;\n",
       "    }\n",
       "\n",
       "    .dataframe tbody tr th {\n",
       "        vertical-align: top;\n",
       "    }\n",
       "\n",
       "    .dataframe thead th {\n",
       "        text-align: right;\n",
       "    }\n",
       "</style>\n",
       "<table border=\"1\" class=\"dataframe\">\n",
       "  <thead>\n",
       "    <tr style=\"text-align: right;\">\n",
       "      <th></th>\n",
       "      <th>localminute</th>\n",
       "      <th>dataid</th>\n",
       "      <th>meter_value</th>\n",
       "    </tr>\n",
       "  </thead>\n",
       "  <tbody>\n",
       "    <tr>\n",
       "      <th>0</th>\n",
       "      <td>2015-10-01 00:00:10-05</td>\n",
       "      <td>739</td>\n",
       "      <td>88858</td>\n",
       "    </tr>\n",
       "    <tr>\n",
       "      <th>1</th>\n",
       "      <td>2015-10-01 00:00:13-05</td>\n",
       "      <td>8890</td>\n",
       "      <td>197164</td>\n",
       "    </tr>\n",
       "    <tr>\n",
       "      <th>2</th>\n",
       "      <td>2015-10-01 00:00:20-05</td>\n",
       "      <td>6910</td>\n",
       "      <td>179118</td>\n",
       "    </tr>\n",
       "    <tr>\n",
       "      <th>3</th>\n",
       "      <td>2015-10-01 00:00:22-05</td>\n",
       "      <td>3635</td>\n",
       "      <td>151318</td>\n",
       "    </tr>\n",
       "    <tr>\n",
       "      <th>4</th>\n",
       "      <td>2015-10-01 00:00:22-05</td>\n",
       "      <td>1507</td>\n",
       "      <td>390354</td>\n",
       "    </tr>\n",
       "  </tbody>\n",
       "</table>\n",
       "</div>"
      ],
      "text/plain": [
       "              localminute  dataid  meter_value\n",
       "0  2015-10-01 00:00:10-05     739        88858\n",
       "1  2015-10-01 00:00:13-05    8890       197164\n",
       "2  2015-10-01 00:00:20-05    6910       179118\n",
       "3  2015-10-01 00:00:22-05    3635       151318\n",
       "4  2015-10-01 00:00:22-05    1507       390354"
      ]
     },
     "execution_count": 3,
     "metadata": {},
     "output_type": "execute_result"
    }
   ],
   "source": [
    "df.head()"
   ]
  },
  {
   "cell_type": "code",
   "execution_count": 4,
   "metadata": {},
   "outputs": [
    {
     "data": {
      "text/plain": [
       "localminute    object\n",
       "dataid          int64\n",
       "meter_value     int64\n",
       "dtype: object"
      ]
     },
     "execution_count": 4,
     "metadata": {},
     "output_type": "execute_result"
    }
   ],
   "source": [
    "df.dtypes"
   ]
  },
  {
   "cell_type": "code",
   "execution_count": 5,
   "metadata": {},
   "outputs": [
    {
     "data": {
      "text/html": [
       "<div>\n",
       "<style scoped>\n",
       "    .dataframe tbody tr th:only-of-type {\n",
       "        vertical-align: middle;\n",
       "    }\n",
       "\n",
       "    .dataframe tbody tr th {\n",
       "        vertical-align: top;\n",
       "    }\n",
       "\n",
       "    .dataframe thead th {\n",
       "        text-align: right;\n",
       "    }\n",
       "</style>\n",
       "<table border=\"1\" class=\"dataframe\">\n",
       "  <thead>\n",
       "    <tr style=\"text-align: right;\">\n",
       "      <th></th>\n",
       "      <th>count</th>\n",
       "      <th>mean</th>\n",
       "      <th>std</th>\n",
       "      <th>min</th>\n",
       "      <th>25%</th>\n",
       "      <th>50%</th>\n",
       "      <th>75%</th>\n",
       "      <th>max</th>\n",
       "    </tr>\n",
       "    <tr>\n",
       "      <th>dataid</th>\n",
       "      <th></th>\n",
       "      <th></th>\n",
       "      <th></th>\n",
       "      <th></th>\n",
       "      <th></th>\n",
       "      <th></th>\n",
       "      <th></th>\n",
       "      <th></th>\n",
       "    </tr>\n",
       "  </thead>\n",
       "  <tbody>\n",
       "    <tr>\n",
       "      <th>35</th>\n",
       "      <td>11872.0</td>\n",
       "      <td>98799.541779</td>\n",
       "      <td>3585.696685</td>\n",
       "      <td>93470.0</td>\n",
       "      <td>95402.0</td>\n",
       "      <td>98397.0</td>\n",
       "      <td>102309.0</td>\n",
       "      <td>104692.0</td>\n",
       "    </tr>\n",
       "    <tr>\n",
       "      <th>44</th>\n",
       "      <td>1549.0</td>\n",
       "      <td>168857.252421</td>\n",
       "      <td>1621.907607</td>\n",
       "      <td>165674.0</td>\n",
       "      <td>167868.0</td>\n",
       "      <td>168188.0</td>\n",
       "      <td>169672.0</td>\n",
       "      <td>175070.0</td>\n",
       "    </tr>\n",
       "    <tr>\n",
       "      <th>77</th>\n",
       "      <td>10683.0</td>\n",
       "      <td>61162.735748</td>\n",
       "      <td>1655.197037</td>\n",
       "      <td>58832.0</td>\n",
       "      <td>59790.0</td>\n",
       "      <td>60742.0</td>\n",
       "      <td>62590.0</td>\n",
       "      <td>64652.0</td>\n",
       "    </tr>\n",
       "    <tr>\n",
       "      <th>94</th>\n",
       "      <td>36335.0</td>\n",
       "      <td>126452.122086</td>\n",
       "      <td>8260.652894</td>\n",
       "      <td>116642.0</td>\n",
       "      <td>117894.0</td>\n",
       "      <td>124482.0</td>\n",
       "      <td>134538.0</td>\n",
       "      <td>140358.0</td>\n",
       "    </tr>\n",
       "    <tr>\n",
       "      <th>114</th>\n",
       "      <td>2597.0</td>\n",
       "      <td>136067.471698</td>\n",
       "      <td>6187.644319</td>\n",
       "      <td>128294.0</td>\n",
       "      <td>129930.0</td>\n",
       "      <td>134774.0</td>\n",
       "      <td>143072.0</td>\n",
       "      <td>145298.0</td>\n",
       "    </tr>\n",
       "    <tr>\n",
       "      <th>...</th>\n",
       "      <td>...</td>\n",
       "      <td>...</td>\n",
       "      <td>...</td>\n",
       "      <td>...</td>\n",
       "      <td>...</td>\n",
       "      <td>...</td>\n",
       "      <td>...</td>\n",
       "      <td>...</td>\n",
       "    </tr>\n",
       "    <tr>\n",
       "      <th>9729</th>\n",
       "      <td>12361.0</td>\n",
       "      <td>129427.883019</td>\n",
       "      <td>5794.697171</td>\n",
       "      <td>122186.0</td>\n",
       "      <td>123380.0</td>\n",
       "      <td>128152.0</td>\n",
       "      <td>135684.0</td>\n",
       "      <td>138146.0</td>\n",
       "    </tr>\n",
       "    <tr>\n",
       "      <th>9766</th>\n",
       "      <td>2282.0</td>\n",
       "      <td>171690.504820</td>\n",
       "      <td>7682.217141</td>\n",
       "      <td>158512.0</td>\n",
       "      <td>161656.0</td>\n",
       "      <td>176406.0</td>\n",
       "      <td>177428.0</td>\n",
       "      <td>179902.0</td>\n",
       "    </tr>\n",
       "    <tr>\n",
       "      <th>9849</th>\n",
       "      <td>2741.0</td>\n",
       "      <td>35566.648668</td>\n",
       "      <td>1675.226417</td>\n",
       "      <td>33632.0</td>\n",
       "      <td>34070.0</td>\n",
       "      <td>35172.0</td>\n",
       "      <td>36632.0</td>\n",
       "      <td>39292.0</td>\n",
       "    </tr>\n",
       "    <tr>\n",
       "      <th>9956</th>\n",
       "      <td>1292.0</td>\n",
       "      <td>99377.100619</td>\n",
       "      <td>2762.759712</td>\n",
       "      <td>95860.0</td>\n",
       "      <td>96164.0</td>\n",
       "      <td>100438.0</td>\n",
       "      <td>101822.5</td>\n",
       "      <td>107042.0</td>\n",
       "    </tr>\n",
       "    <tr>\n",
       "      <th>9982</th>\n",
       "      <td>1540.0</td>\n",
       "      <td>111574.022078</td>\n",
       "      <td>3887.218866</td>\n",
       "      <td>105946.0</td>\n",
       "      <td>108470.5</td>\n",
       "      <td>110451.0</td>\n",
       "      <td>115046.5</td>\n",
       "      <td>123708.0</td>\n",
       "    </tr>\n",
       "  </tbody>\n",
       "</table>\n",
       "<p>157 rows × 8 columns</p>\n",
       "</div>"
      ],
      "text/plain": [
       "          count           mean          std       min       25%       50%  \\\n",
       "dataid                                                                      \n",
       "35      11872.0   98799.541779  3585.696685   93470.0   95402.0   98397.0   \n",
       "44       1549.0  168857.252421  1621.907607  165674.0  167868.0  168188.0   \n",
       "77      10683.0   61162.735748  1655.197037   58832.0   59790.0   60742.0   \n",
       "94      36335.0  126452.122086  8260.652894  116642.0  117894.0  124482.0   \n",
       "114      2597.0  136067.471698  6187.644319  128294.0  129930.0  134774.0   \n",
       "...         ...            ...          ...       ...       ...       ...   \n",
       "9729    12361.0  129427.883019  5794.697171  122186.0  123380.0  128152.0   \n",
       "9766     2282.0  171690.504820  7682.217141  158512.0  161656.0  176406.0   \n",
       "9849     2741.0   35566.648668  1675.226417   33632.0   34070.0   35172.0   \n",
       "9956     1292.0   99377.100619  2762.759712   95860.0   96164.0  100438.0   \n",
       "9982     1540.0  111574.022078  3887.218866  105946.0  108470.5  110451.0   \n",
       "\n",
       "             75%       max  \n",
       "dataid                      \n",
       "35      102309.0  104692.0  \n",
       "44      169672.0  175070.0  \n",
       "77       62590.0   64652.0  \n",
       "94      134538.0  140358.0  \n",
       "114     143072.0  145298.0  \n",
       "...          ...       ...  \n",
       "9729    135684.0  138146.0  \n",
       "9766    177428.0  179902.0  \n",
       "9849     36632.0   39292.0  \n",
       "9956    101822.5  107042.0  \n",
       "9982    115046.5  123708.0  \n",
       "\n",
       "[157 rows x 8 columns]"
      ]
     },
     "execution_count": 5,
     "metadata": {},
     "output_type": "execute_result"
    }
   ],
   "source": [
    "df.groupby('dataid')['meter_value'].describe()"
   ]
  },
  {
   "cell_type": "code",
   "execution_count": 6,
   "metadata": {},
   "outputs": [
    {
     "data": {
      "text/plain": [
       "0    2015-10-01 00:00:10-05\n",
       "1    2015-10-01 00:00:13-05\n",
       "2    2015-10-01 00:00:20-05\n",
       "3    2015-10-01 00:00:22-05\n",
       "4    2015-10-01 00:00:22-05\n",
       "Name: localminute, dtype: object"
      ]
     },
     "execution_count": 6,
     "metadata": {},
     "output_type": "execute_result"
    }
   ],
   "source": [
    "df['localminute'].head()"
   ]
  },
  {
   "cell_type": "markdown",
   "metadata": {},
   "source": [
    "As we can see, the localminute column containing the timestamp for each meter reading is:\n",
    "1. Incorrectly formatted - the the \"-05\" or \"-06\" at the end is timezone data, indicating when Daylight Savings Time begins and ends. We can extract this to create a new feature\n",
    "2. Not in the datetime datatype"
   ]
  },
  {
   "cell_type": "code",
   "execution_count": 7,
   "metadata": {},
   "outputs": [
    {
     "data": {
      "text/html": [
       "<div>\n",
       "<style scoped>\n",
       "    .dataframe tbody tr th:only-of-type {\n",
       "        vertical-align: middle;\n",
       "    }\n",
       "\n",
       "    .dataframe tbody tr th {\n",
       "        vertical-align: top;\n",
       "    }\n",
       "\n",
       "    .dataframe thead th {\n",
       "        text-align: right;\n",
       "    }\n",
       "</style>\n",
       "<table border=\"1\" class=\"dataframe\">\n",
       "  <thead>\n",
       "    <tr style=\"text-align: right;\">\n",
       "      <th></th>\n",
       "      <th>localminute</th>\n",
       "      <th>dataid</th>\n",
       "      <th>meter_value</th>\n",
       "      <th>DST</th>\n",
       "    </tr>\n",
       "  </thead>\n",
       "  <tbody>\n",
       "    <tr>\n",
       "      <th>0</th>\n",
       "      <td>2015-10-01 00:00:10-05</td>\n",
       "      <td>739</td>\n",
       "      <td>88858</td>\n",
       "      <td>True</td>\n",
       "    </tr>\n",
       "    <tr>\n",
       "      <th>1</th>\n",
       "      <td>2015-10-01 00:00:13-05</td>\n",
       "      <td>8890</td>\n",
       "      <td>197164</td>\n",
       "      <td>True</td>\n",
       "    </tr>\n",
       "    <tr>\n",
       "      <th>2</th>\n",
       "      <td>2015-10-01 00:00:20-05</td>\n",
       "      <td>6910</td>\n",
       "      <td>179118</td>\n",
       "      <td>True</td>\n",
       "    </tr>\n",
       "    <tr>\n",
       "      <th>3</th>\n",
       "      <td>2015-10-01 00:00:22-05</td>\n",
       "      <td>3635</td>\n",
       "      <td>151318</td>\n",
       "      <td>True</td>\n",
       "    </tr>\n",
       "    <tr>\n",
       "      <th>4</th>\n",
       "      <td>2015-10-01 00:00:22-05</td>\n",
       "      <td>1507</td>\n",
       "      <td>390354</td>\n",
       "      <td>True</td>\n",
       "    </tr>\n",
       "    <tr>\n",
       "      <th>...</th>\n",
       "      <td>...</td>\n",
       "      <td>...</td>\n",
       "      <td>...</td>\n",
       "      <td>...</td>\n",
       "    </tr>\n",
       "    <tr>\n",
       "      <th>1584818</th>\n",
       "      <td>2016-03-31 23:59:14.336743-05</td>\n",
       "      <td>2129</td>\n",
       "      <td>201726</td>\n",
       "      <td>True</td>\n",
       "    </tr>\n",
       "    <tr>\n",
       "      <th>1584819</th>\n",
       "      <td>2016-03-31 23:59:17.427165-05</td>\n",
       "      <td>2945</td>\n",
       "      <td>161232</td>\n",
       "      <td>True</td>\n",
       "    </tr>\n",
       "    <tr>\n",
       "      <th>1584820</th>\n",
       "      <td>2016-03-31 23:59:35.370782-05</td>\n",
       "      <td>9729</td>\n",
       "      <td>138146</td>\n",
       "      <td>True</td>\n",
       "    </tr>\n",
       "    <tr>\n",
       "      <th>1584821</th>\n",
       "      <td>2016-03-31 23:59:47.816286-05</td>\n",
       "      <td>5129</td>\n",
       "      <td>166488</td>\n",
       "      <td>True</td>\n",
       "    </tr>\n",
       "    <tr>\n",
       "      <th>1584822</th>\n",
       "      <td>2016-03-31 23:59:58.92308-05</td>\n",
       "      <td>484</td>\n",
       "      <td>114174</td>\n",
       "      <td>True</td>\n",
       "    </tr>\n",
       "  </tbody>\n",
       "</table>\n",
       "<p>1584823 rows × 4 columns</p>\n",
       "</div>"
      ],
      "text/plain": [
       "                           localminute  dataid  meter_value   DST\n",
       "0               2015-10-01 00:00:10-05     739        88858  True\n",
       "1               2015-10-01 00:00:13-05    8890       197164  True\n",
       "2               2015-10-01 00:00:20-05    6910       179118  True\n",
       "3               2015-10-01 00:00:22-05    3635       151318  True\n",
       "4               2015-10-01 00:00:22-05    1507       390354  True\n",
       "...                                ...     ...          ...   ...\n",
       "1584818  2016-03-31 23:59:14.336743-05    2129       201726  True\n",
       "1584819  2016-03-31 23:59:17.427165-05    2945       161232  True\n",
       "1584820  2016-03-31 23:59:35.370782-05    9729       138146  True\n",
       "1584821  2016-03-31 23:59:47.816286-05    5129       166488  True\n",
       "1584822   2016-03-31 23:59:58.92308-05     484       114174  True\n",
       "\n",
       "[1584823 rows x 4 columns]"
      ]
     },
     "execution_count": 7,
     "metadata": {},
     "output_type": "execute_result"
    }
   ],
   "source": [
    "df['DST'] = pd.to_numeric(df['localminute'].str[-2:]) == 5\n",
    "df"
   ]
  },
  {
   "cell_type": "code",
   "execution_count": 8,
   "metadata": {},
   "outputs": [],
   "source": [
    "df['localminute'] = df['localminute'].str[:-3]\n",
    "df['localminute'] = pd.to_datetime(df['localminute'], format='mixed').dt.strftime('%Y-%m-%d %H:%M:%S')\n",
    "df['localminute'] = pd.to_datetime(df['localminute'])"
   ]
  },
  {
   "cell_type": "code",
   "execution_count": 9,
   "metadata": {},
   "outputs": [
    {
     "data": {
      "text/html": [
       "<div>\n",
       "<style scoped>\n",
       "    .dataframe tbody tr th:only-of-type {\n",
       "        vertical-align: middle;\n",
       "    }\n",
       "\n",
       "    .dataframe tbody tr th {\n",
       "        vertical-align: top;\n",
       "    }\n",
       "\n",
       "    .dataframe thead th {\n",
       "        text-align: right;\n",
       "    }\n",
       "</style>\n",
       "<table border=\"1\" class=\"dataframe\">\n",
       "  <thead>\n",
       "    <tr style=\"text-align: right;\">\n",
       "      <th></th>\n",
       "      <th>localminute</th>\n",
       "      <th>dataid</th>\n",
       "      <th>meter_value</th>\n",
       "      <th>DST</th>\n",
       "    </tr>\n",
       "  </thead>\n",
       "  <tbody>\n",
       "    <tr>\n",
       "      <th>0</th>\n",
       "      <td>2015-10-01 00:00:10</td>\n",
       "      <td>739</td>\n",
       "      <td>88858</td>\n",
       "      <td>True</td>\n",
       "    </tr>\n",
       "    <tr>\n",
       "      <th>1</th>\n",
       "      <td>2015-10-01 00:00:13</td>\n",
       "      <td>8890</td>\n",
       "      <td>197164</td>\n",
       "      <td>True</td>\n",
       "    </tr>\n",
       "    <tr>\n",
       "      <th>2</th>\n",
       "      <td>2015-10-01 00:00:20</td>\n",
       "      <td>6910</td>\n",
       "      <td>179118</td>\n",
       "      <td>True</td>\n",
       "    </tr>\n",
       "    <tr>\n",
       "      <th>3</th>\n",
       "      <td>2015-10-01 00:00:22</td>\n",
       "      <td>3635</td>\n",
       "      <td>151318</td>\n",
       "      <td>True</td>\n",
       "    </tr>\n",
       "    <tr>\n",
       "      <th>4</th>\n",
       "      <td>2015-10-01 00:00:22</td>\n",
       "      <td>1507</td>\n",
       "      <td>390354</td>\n",
       "      <td>True</td>\n",
       "    </tr>\n",
       "    <tr>\n",
       "      <th>...</th>\n",
       "      <td>...</td>\n",
       "      <td>...</td>\n",
       "      <td>...</td>\n",
       "      <td>...</td>\n",
       "    </tr>\n",
       "    <tr>\n",
       "      <th>1584818</th>\n",
       "      <td>2016-03-31 23:59:14</td>\n",
       "      <td>2129</td>\n",
       "      <td>201726</td>\n",
       "      <td>True</td>\n",
       "    </tr>\n",
       "    <tr>\n",
       "      <th>1584819</th>\n",
       "      <td>2016-03-31 23:59:17</td>\n",
       "      <td>2945</td>\n",
       "      <td>161232</td>\n",
       "      <td>True</td>\n",
       "    </tr>\n",
       "    <tr>\n",
       "      <th>1584820</th>\n",
       "      <td>2016-03-31 23:59:35</td>\n",
       "      <td>9729</td>\n",
       "      <td>138146</td>\n",
       "      <td>True</td>\n",
       "    </tr>\n",
       "    <tr>\n",
       "      <th>1584821</th>\n",
       "      <td>2016-03-31 23:59:47</td>\n",
       "      <td>5129</td>\n",
       "      <td>166488</td>\n",
       "      <td>True</td>\n",
       "    </tr>\n",
       "    <tr>\n",
       "      <th>1584822</th>\n",
       "      <td>2016-03-31 23:59:58</td>\n",
       "      <td>484</td>\n",
       "      <td>114174</td>\n",
       "      <td>True</td>\n",
       "    </tr>\n",
       "  </tbody>\n",
       "</table>\n",
       "<p>1584823 rows × 4 columns</p>\n",
       "</div>"
      ],
      "text/plain": [
       "                localminute  dataid  meter_value   DST\n",
       "0       2015-10-01 00:00:10     739        88858  True\n",
       "1       2015-10-01 00:00:13    8890       197164  True\n",
       "2       2015-10-01 00:00:20    6910       179118  True\n",
       "3       2015-10-01 00:00:22    3635       151318  True\n",
       "4       2015-10-01 00:00:22    1507       390354  True\n",
       "...                     ...     ...          ...   ...\n",
       "1584818 2016-03-31 23:59:14    2129       201726  True\n",
       "1584819 2016-03-31 23:59:17    2945       161232  True\n",
       "1584820 2016-03-31 23:59:35    9729       138146  True\n",
       "1584821 2016-03-31 23:59:47    5129       166488  True\n",
       "1584822 2016-03-31 23:59:58     484       114174  True\n",
       "\n",
       "[1584823 rows x 4 columns]"
      ]
     },
     "execution_count": 9,
     "metadata": {},
     "output_type": "execute_result"
    }
   ],
   "source": [
    "df"
   ]
  },
  {
   "cell_type": "code",
   "execution_count": 10,
   "metadata": {},
   "outputs": [
    {
     "data": {
      "text/plain": [
       "localminute    datetime64[ns]\n",
       "dataid                  int64\n",
       "meter_value             int64\n",
       "DST                      bool\n",
       "dtype: object"
      ]
     },
     "execution_count": 10,
     "metadata": {},
     "output_type": "execute_result"
    }
   ],
   "source": [
    "df.dtypes"
   ]
  },
  {
   "cell_type": "code",
   "execution_count": 11,
   "metadata": {},
   "outputs": [
    {
     "data": {
      "text/plain": [
       "dataid\n",
       "2034    75991\n",
       "6910    69349\n",
       "484     44034\n",
       "5814    42424\n",
       "5810    42234\n",
       "        ...  \n",
       "7566       32\n",
       "9620       23\n",
       "4671       21\n",
       "6101        3\n",
       "4874        2\n",
       "Name: count, Length: 157, dtype: int64"
      ]
     },
     "execution_count": 11,
     "metadata": {},
     "output_type": "execute_result"
    }
   ],
   "source": [
    "df['dataid'].value_counts()"
   ]
  },
  {
   "cell_type": "markdown",
   "metadata": {},
   "source": [
    "Let's plot a time series graph for each dataid and try to see if there are any outliers, anomalies, or any patterns in the data. The meter values we have currently measure cumulative consumption and not marginal consumption."
   ]
  },
  {
   "cell_type": "code",
   "execution_count": 12,
   "metadata": {},
   "outputs": [],
   "source": [
    "df = df.set_index(df['dataid'])\n",
    "df = df.drop(columns='dataid')"
   ]
  },
  {
   "cell_type": "code",
   "execution_count": 13,
   "metadata": {},
   "outputs": [
    {
     "data": {
      "text/plain": [
       "dataid\n",
       "2034    75991\n",
       "6910    69349\n",
       "484     44034\n",
       "5814    42424\n",
       "5810    42234\n",
       "        ...  \n",
       "7566       32\n",
       "9620       23\n",
       "4671       21\n",
       "6101        3\n",
       "4874        2\n",
       "Name: count, Length: 157, dtype: int64"
      ]
     },
     "execution_count": 13,
     "metadata": {},
     "output_type": "execute_result"
    }
   ],
   "source": [
    "df.index.value_counts()"
   ]
  },
  {
   "cell_type": "code",
   "execution_count": 14,
   "metadata": {},
   "outputs": [
    {
     "data": {
      "text/plain": [
       "dataid\n",
       "2034    75991\n",
       "6910    69349\n",
       "484     44034\n",
       "5814    42424\n",
       "5810    42234\n",
       "        ...  \n",
       "8059      529\n",
       "5658      493\n",
       "3036      336\n",
       "9600      330\n",
       "8703      258\n",
       "Name: count, Length: 144, dtype: int64"
      ]
     },
     "execution_count": 14,
     "metadata": {},
     "output_type": "execute_result"
    }
   ],
   "source": [
    "df = df.drop([7566, 9620, 4671, 6101, 4874, 9160, 2755, 2946, 2814, 5545, 2645, 6685, 1403])\n",
    "df.index.value_counts()"
   ]
  },
  {
   "cell_type": "markdown",
   "metadata": {},
   "source": [
    "I've gone ahead and dropped all the dataids that have less than 250 readings. I've seen later that these end up being quite problematic and irregular, so I've decided that they don't have enough data to be included in our investigation"
   ]
  },
  {
   "cell_type": "code",
   "execution_count": 15,
   "metadata": {},
   "outputs": [
    {
     "data": {
      "text/html": [
       "<div>\n",
       "<style scoped>\n",
       "    .dataframe tbody tr th:only-of-type {\n",
       "        vertical-align: middle;\n",
       "    }\n",
       "\n",
       "    .dataframe tbody tr th {\n",
       "        vertical-align: top;\n",
       "    }\n",
       "\n",
       "    .dataframe thead th {\n",
       "        text-align: right;\n",
       "    }\n",
       "</style>\n",
       "<table border=\"1\" class=\"dataframe\">\n",
       "  <thead>\n",
       "    <tr style=\"text-align: right;\">\n",
       "      <th></th>\n",
       "      <th>dataid</th>\n",
       "      <th>localminute</th>\n",
       "      <th>meter_value</th>\n",
       "      <th>DST</th>\n",
       "    </tr>\n",
       "  </thead>\n",
       "  <tbody>\n",
       "    <tr>\n",
       "      <th>0</th>\n",
       "      <td>739</td>\n",
       "      <td>2015-10-01 00:00:10</td>\n",
       "      <td>88858</td>\n",
       "      <td>True</td>\n",
       "    </tr>\n",
       "    <tr>\n",
       "      <th>1</th>\n",
       "      <td>8890</td>\n",
       "      <td>2015-10-01 00:00:13</td>\n",
       "      <td>197164</td>\n",
       "      <td>True</td>\n",
       "    </tr>\n",
       "    <tr>\n",
       "      <th>2</th>\n",
       "      <td>6910</td>\n",
       "      <td>2015-10-01 00:00:20</td>\n",
       "      <td>179118</td>\n",
       "      <td>True</td>\n",
       "    </tr>\n",
       "    <tr>\n",
       "      <th>3</th>\n",
       "      <td>3635</td>\n",
       "      <td>2015-10-01 00:00:22</td>\n",
       "      <td>151318</td>\n",
       "      <td>True</td>\n",
       "    </tr>\n",
       "    <tr>\n",
       "      <th>4</th>\n",
       "      <td>1507</td>\n",
       "      <td>2015-10-01 00:00:22</td>\n",
       "      <td>390354</td>\n",
       "      <td>True</td>\n",
       "    </tr>\n",
       "    <tr>\n",
       "      <th>...</th>\n",
       "      <td>...</td>\n",
       "      <td>...</td>\n",
       "      <td>...</td>\n",
       "      <td>...</td>\n",
       "    </tr>\n",
       "    <tr>\n",
       "      <th>1584128</th>\n",
       "      <td>2129</td>\n",
       "      <td>2016-03-31 23:59:14</td>\n",
       "      <td>201726</td>\n",
       "      <td>True</td>\n",
       "    </tr>\n",
       "    <tr>\n",
       "      <th>1584129</th>\n",
       "      <td>2945</td>\n",
       "      <td>2016-03-31 23:59:17</td>\n",
       "      <td>161232</td>\n",
       "      <td>True</td>\n",
       "    </tr>\n",
       "    <tr>\n",
       "      <th>1584130</th>\n",
       "      <td>9729</td>\n",
       "      <td>2016-03-31 23:59:35</td>\n",
       "      <td>138146</td>\n",
       "      <td>True</td>\n",
       "    </tr>\n",
       "    <tr>\n",
       "      <th>1584131</th>\n",
       "      <td>5129</td>\n",
       "      <td>2016-03-31 23:59:47</td>\n",
       "      <td>166488</td>\n",
       "      <td>True</td>\n",
       "    </tr>\n",
       "    <tr>\n",
       "      <th>1584132</th>\n",
       "      <td>484</td>\n",
       "      <td>2016-03-31 23:59:58</td>\n",
       "      <td>114174</td>\n",
       "      <td>True</td>\n",
       "    </tr>\n",
       "  </tbody>\n",
       "</table>\n",
       "<p>1584133 rows × 4 columns</p>\n",
       "</div>"
      ],
      "text/plain": [
       "         dataid         localminute  meter_value   DST\n",
       "0           739 2015-10-01 00:00:10        88858  True\n",
       "1          8890 2015-10-01 00:00:13       197164  True\n",
       "2          6910 2015-10-01 00:00:20       179118  True\n",
       "3          3635 2015-10-01 00:00:22       151318  True\n",
       "4          1507 2015-10-01 00:00:22       390354  True\n",
       "...         ...                 ...          ...   ...\n",
       "1584128    2129 2016-03-31 23:59:14       201726  True\n",
       "1584129    2945 2016-03-31 23:59:17       161232  True\n",
       "1584130    9729 2016-03-31 23:59:35       138146  True\n",
       "1584131    5129 2016-03-31 23:59:47       166488  True\n",
       "1584132     484 2016-03-31 23:59:58       114174  True\n",
       "\n",
       "[1584133 rows x 4 columns]"
      ]
     },
     "execution_count": 15,
     "metadata": {},
     "output_type": "execute_result"
    }
   ],
   "source": [
    "df = df.reset_index()\n",
    "df"
   ]
  },
  {
   "cell_type": "code",
   "execution_count": 16,
   "metadata": {},
   "outputs": [],
   "source": [
    "df = df.sort_values(by=['dataid', 'localminute'])"
   ]
  },
  {
   "cell_type": "raw",
   "metadata": {},
   "source": [
    "df"
   ]
  },
  {
   "cell_type": "markdown",
   "metadata": {},
   "source": [
    "As we can see, the data is irregularly sampled, which is inconvenient to handle and creates a lot of uneccesary noise, especially as there is barely any difference at small intervals. Therefore we will extract the marginal consumption per hour from the cumulative readings using resampling."
   ]
  },
  {
   "cell_type": "code",
   "execution_count": 17,
   "metadata": {},
   "outputs": [],
   "source": [
    "# for dataid, group in df.groupby('dataid'):\n",
    "#     fig, ax = plt.subplots(figsize=(10,5))\n",
    "#     plt.plot(df[df['dataid'] == dataid].set_index(\"localminute\")['meter_value'].diff())\n",
    "#     ax.set_title(f'meter value by time for dataid {dataid}')\n",
    "#     plt.show()"
   ]
  },
  {
   "cell_type": "code",
   "execution_count": 18,
   "metadata": {},
   "outputs": [],
   "source": [
    "marginal_consumption = []\n",
    "for dataid, group in df.groupby('dataid'):\n",
    "    meter_value_diff = group['meter_value'].diff()\n",
    "    marginal_consumption.append(meter_value_diff)\n"
   ]
  },
  {
   "cell_type": "code",
   "execution_count": 19,
   "metadata": {},
   "outputs": [
    {
     "data": {
      "text/plain": [
       "83          NaN\n",
       "244         0.0\n",
       "723         0.0\n",
       "790         0.0\n",
       "829         0.0\n",
       "           ... \n",
       "1560987     0.0\n",
       "1561582     2.0\n",
       "1566451    48.0\n",
       "1576619    68.0\n",
       "1580897    72.0\n",
       "Name: marginal_consumption, Length: 1584133, dtype: float64"
      ]
     },
     "execution_count": 19,
     "metadata": {},
     "output_type": "execute_result"
    }
   ],
   "source": [
    "marginal_consumption = pd.concat(marginal_consumption)\n",
    "df['marginal_consumption'] = marginal_consumption\n",
    "df['marginal_consumption']"
   ]
  },
  {
   "cell_type": "code",
   "execution_count": 20,
   "metadata": {},
   "outputs": [],
   "source": [
    "df['marginal_consumption'] = df['marginal_consumption'].fillna(0)"
   ]
  },
  {
   "cell_type": "code",
   "execution_count": 21,
   "metadata": {},
   "outputs": [
    {
     "data": {
      "text/html": [
       "<div>\n",
       "<style scoped>\n",
       "    .dataframe tbody tr th:only-of-type {\n",
       "        vertical-align: middle;\n",
       "    }\n",
       "\n",
       "    .dataframe tbody tr th {\n",
       "        vertical-align: top;\n",
       "    }\n",
       "\n",
       "    .dataframe thead th {\n",
       "        text-align: right;\n",
       "    }\n",
       "</style>\n",
       "<table border=\"1\" class=\"dataframe\">\n",
       "  <thead>\n",
       "    <tr style=\"text-align: right;\">\n",
       "      <th></th>\n",
       "      <th>dataid</th>\n",
       "      <th>localminute</th>\n",
       "      <th>meter_value</th>\n",
       "      <th>DST</th>\n",
       "      <th>marginal_consumption</th>\n",
       "    </tr>\n",
       "  </thead>\n",
       "  <tbody>\n",
       "    <tr>\n",
       "      <th>83</th>\n",
       "      <td>35</td>\n",
       "      <td>2015-10-01 00:14:44</td>\n",
       "      <td>93470</td>\n",
       "      <td>True</td>\n",
       "      <td>0.0</td>\n",
       "    </tr>\n",
       "    <tr>\n",
       "      <th>244</th>\n",
       "      <td>35</td>\n",
       "      <td>2015-10-01 00:42:34</td>\n",
       "      <td>93470</td>\n",
       "      <td>True</td>\n",
       "      <td>0.0</td>\n",
       "    </tr>\n",
       "    <tr>\n",
       "      <th>723</th>\n",
       "      <td>35</td>\n",
       "      <td>2015-10-01 02:02:37</td>\n",
       "      <td>93470</td>\n",
       "      <td>True</td>\n",
       "      <td>0.0</td>\n",
       "    </tr>\n",
       "    <tr>\n",
       "      <th>790</th>\n",
       "      <td>35</td>\n",
       "      <td>2015-10-01 02:12:38</td>\n",
       "      <td>93470</td>\n",
       "      <td>True</td>\n",
       "      <td>0.0</td>\n",
       "    </tr>\n",
       "    <tr>\n",
       "      <th>829</th>\n",
       "      <td>35</td>\n",
       "      <td>2015-10-01 02:20:36</td>\n",
       "      <td>93470</td>\n",
       "      <td>True</td>\n",
       "      <td>0.0</td>\n",
       "    </tr>\n",
       "    <tr>\n",
       "      <th>...</th>\n",
       "      <td>...</td>\n",
       "      <td>...</td>\n",
       "      <td>...</td>\n",
       "      <td>...</td>\n",
       "      <td>...</td>\n",
       "    </tr>\n",
       "    <tr>\n",
       "      <th>1560987</th>\n",
       "      <td>9982</td>\n",
       "      <td>2016-03-28 09:25:54</td>\n",
       "      <td>119734</td>\n",
       "      <td>True</td>\n",
       "      <td>0.0</td>\n",
       "    </tr>\n",
       "    <tr>\n",
       "      <th>1561582</th>\n",
       "      <td>9982</td>\n",
       "      <td>2016-03-28 11:29:41</td>\n",
       "      <td>119736</td>\n",
       "      <td>True</td>\n",
       "      <td>2.0</td>\n",
       "    </tr>\n",
       "    <tr>\n",
       "      <th>1566451</th>\n",
       "      <td>9982</td>\n",
       "      <td>2016-03-29 04:38:38</td>\n",
       "      <td>119784</td>\n",
       "      <td>True</td>\n",
       "      <td>48.0</td>\n",
       "    </tr>\n",
       "    <tr>\n",
       "      <th>1576619</th>\n",
       "      <td>9982</td>\n",
       "      <td>2016-03-30 17:46:42</td>\n",
       "      <td>119852</td>\n",
       "      <td>True</td>\n",
       "      <td>68.0</td>\n",
       "    </tr>\n",
       "    <tr>\n",
       "      <th>1580897</th>\n",
       "      <td>9982</td>\n",
       "      <td>2016-03-31 11:09:42</td>\n",
       "      <td>119924</td>\n",
       "      <td>True</td>\n",
       "      <td>72.0</td>\n",
       "    </tr>\n",
       "  </tbody>\n",
       "</table>\n",
       "<p>1584133 rows × 5 columns</p>\n",
       "</div>"
      ],
      "text/plain": [
       "         dataid         localminute  meter_value   DST  marginal_consumption\n",
       "83           35 2015-10-01 00:14:44        93470  True                   0.0\n",
       "244          35 2015-10-01 00:42:34        93470  True                   0.0\n",
       "723          35 2015-10-01 02:02:37        93470  True                   0.0\n",
       "790          35 2015-10-01 02:12:38        93470  True                   0.0\n",
       "829          35 2015-10-01 02:20:36        93470  True                   0.0\n",
       "...         ...                 ...          ...   ...                   ...\n",
       "1560987    9982 2016-03-28 09:25:54       119734  True                   0.0\n",
       "1561582    9982 2016-03-28 11:29:41       119736  True                   2.0\n",
       "1566451    9982 2016-03-29 04:38:38       119784  True                  48.0\n",
       "1576619    9982 2016-03-30 17:46:42       119852  True                  68.0\n",
       "1580897    9982 2016-03-31 11:09:42       119924  True                  72.0\n",
       "\n",
       "[1584133 rows x 5 columns]"
      ]
     },
     "execution_count": 21,
     "metadata": {},
     "output_type": "execute_result"
    }
   ],
   "source": [
    "df"
   ]
  },
  {
   "cell_type": "code",
   "execution_count": 22,
   "metadata": {},
   "outputs": [],
   "source": [
    "resampled_consumption = []\n",
    "dataid_column = []\n",
    "table = []\n",
    "\n",
    "for dataid, group in df.groupby('dataid'):\n",
    "    resample = group.resample('h', on='localminute')['marginal_consumption'].sum()\n",
    "    resampled_consumption.append(resample)\n",
    "    for i in range(len(resample)):\n",
    "        dataid_column.append(dataid)"
   ]
  },
  {
   "cell_type": "code",
   "execution_count": 23,
   "metadata": {},
   "outputs": [
    {
     "data": {
      "text/plain": [
       "localminute\n",
       "2015-10-01 00:00:00     0.0\n",
       "2015-10-01 01:00:00     0.0\n",
       "2015-10-01 02:00:00     0.0\n",
       "2015-10-01 03:00:00     0.0\n",
       "2015-10-01 04:00:00     0.0\n",
       "                       ... \n",
       "2016-03-31 07:00:00     0.0\n",
       "2016-03-31 08:00:00     0.0\n",
       "2016-03-31 09:00:00     0.0\n",
       "2016-03-31 10:00:00     0.0\n",
       "2016-03-31 11:00:00    72.0\n",
       "Name: marginal_consumption, Length: 591478, dtype: float64"
      ]
     },
     "execution_count": 23,
     "metadata": {},
     "output_type": "execute_result"
    }
   ],
   "source": [
    "consumption_series = pd.concat(resampled_consumption)\n",
    "consumption_series"
   ]
  },
  {
   "cell_type": "code",
   "execution_count": 24,
   "metadata": {},
   "outputs": [],
   "source": [
    "df = pd.DataFrame(consumption_series)"
   ]
  },
  {
   "cell_type": "code",
   "execution_count": 25,
   "metadata": {},
   "outputs": [
    {
     "data": {
      "text/plain": [
       "591478"
      ]
     },
     "execution_count": 25,
     "metadata": {},
     "output_type": "execute_result"
    }
   ],
   "source": [
    "len(dataid_column)"
   ]
  },
  {
   "cell_type": "code",
   "execution_count": 26,
   "metadata": {},
   "outputs": [
    {
     "data": {
      "text/html": [
       "<div>\n",
       "<style scoped>\n",
       "    .dataframe tbody tr th:only-of-type {\n",
       "        vertical-align: middle;\n",
       "    }\n",
       "\n",
       "    .dataframe tbody tr th {\n",
       "        vertical-align: top;\n",
       "    }\n",
       "\n",
       "    .dataframe thead th {\n",
       "        text-align: right;\n",
       "    }\n",
       "</style>\n",
       "<table border=\"1\" class=\"dataframe\">\n",
       "  <thead>\n",
       "    <tr style=\"text-align: right;\">\n",
       "      <th></th>\n",
       "      <th>marginal_consumption</th>\n",
       "      <th>dataid</th>\n",
       "    </tr>\n",
       "    <tr>\n",
       "      <th>localminute</th>\n",
       "      <th></th>\n",
       "      <th></th>\n",
       "    </tr>\n",
       "  </thead>\n",
       "  <tbody>\n",
       "    <tr>\n",
       "      <th>2015-10-01 00:00:00</th>\n",
       "      <td>0.0</td>\n",
       "      <td>35</td>\n",
       "    </tr>\n",
       "    <tr>\n",
       "      <th>2015-10-01 01:00:00</th>\n",
       "      <td>0.0</td>\n",
       "      <td>35</td>\n",
       "    </tr>\n",
       "    <tr>\n",
       "      <th>2015-10-01 02:00:00</th>\n",
       "      <td>0.0</td>\n",
       "      <td>35</td>\n",
       "    </tr>\n",
       "    <tr>\n",
       "      <th>2015-10-01 03:00:00</th>\n",
       "      <td>0.0</td>\n",
       "      <td>35</td>\n",
       "    </tr>\n",
       "    <tr>\n",
       "      <th>2015-10-01 04:00:00</th>\n",
       "      <td>0.0</td>\n",
       "      <td>35</td>\n",
       "    </tr>\n",
       "    <tr>\n",
       "      <th>...</th>\n",
       "      <td>...</td>\n",
       "      <td>...</td>\n",
       "    </tr>\n",
       "    <tr>\n",
       "      <th>2016-03-31 07:00:00</th>\n",
       "      <td>0.0</td>\n",
       "      <td>9982</td>\n",
       "    </tr>\n",
       "    <tr>\n",
       "      <th>2016-03-31 08:00:00</th>\n",
       "      <td>0.0</td>\n",
       "      <td>9982</td>\n",
       "    </tr>\n",
       "    <tr>\n",
       "      <th>2016-03-31 09:00:00</th>\n",
       "      <td>0.0</td>\n",
       "      <td>9982</td>\n",
       "    </tr>\n",
       "    <tr>\n",
       "      <th>2016-03-31 10:00:00</th>\n",
       "      <td>0.0</td>\n",
       "      <td>9982</td>\n",
       "    </tr>\n",
       "    <tr>\n",
       "      <th>2016-03-31 11:00:00</th>\n",
       "      <td>72.0</td>\n",
       "      <td>9982</td>\n",
       "    </tr>\n",
       "  </tbody>\n",
       "</table>\n",
       "<p>591478 rows × 2 columns</p>\n",
       "</div>"
      ],
      "text/plain": [
       "                     marginal_consumption  dataid\n",
       "localminute                                      \n",
       "2015-10-01 00:00:00                   0.0      35\n",
       "2015-10-01 01:00:00                   0.0      35\n",
       "2015-10-01 02:00:00                   0.0      35\n",
       "2015-10-01 03:00:00                   0.0      35\n",
       "2015-10-01 04:00:00                   0.0      35\n",
       "...                                   ...     ...\n",
       "2016-03-31 07:00:00                   0.0    9982\n",
       "2016-03-31 08:00:00                   0.0    9982\n",
       "2016-03-31 09:00:00                   0.0    9982\n",
       "2016-03-31 10:00:00                   0.0    9982\n",
       "2016-03-31 11:00:00                  72.0    9982\n",
       "\n",
       "[591478 rows x 2 columns]"
      ]
     },
     "execution_count": 26,
     "metadata": {},
     "output_type": "execute_result"
    }
   ],
   "source": [
    "df['dataid'] = dataid_column\n",
    "df"
   ]
  },
  {
   "cell_type": "code",
   "execution_count": 27,
   "metadata": {},
   "outputs": [],
   "source": [
    "df['DST'] = df.index.map( lambda x: 1 if x < pd.to_datetime('2015-11-01 01:00:00', format='mixed') or x > pd.to_datetime('2016-03-13 02:00:00', format='mixed') else 0 )"
   ]
  },
  {
   "cell_type": "code",
   "execution_count": 28,
   "metadata": {},
   "outputs": [
    {
     "data": {
      "text/html": [
       "<div>\n",
       "<style scoped>\n",
       "    .dataframe tbody tr th:only-of-type {\n",
       "        vertical-align: middle;\n",
       "    }\n",
       "\n",
       "    .dataframe tbody tr th {\n",
       "        vertical-align: top;\n",
       "    }\n",
       "\n",
       "    .dataframe thead th {\n",
       "        text-align: right;\n",
       "    }\n",
       "</style>\n",
       "<table border=\"1\" class=\"dataframe\">\n",
       "  <thead>\n",
       "    <tr style=\"text-align: right;\">\n",
       "      <th></th>\n",
       "      <th>marginal_consumption</th>\n",
       "      <th>dataid</th>\n",
       "      <th>DST</th>\n",
       "    </tr>\n",
       "    <tr>\n",
       "      <th>localminute</th>\n",
       "      <th></th>\n",
       "      <th></th>\n",
       "      <th></th>\n",
       "    </tr>\n",
       "  </thead>\n",
       "  <tbody>\n",
       "    <tr>\n",
       "      <th>2015-10-01 00:00:00</th>\n",
       "      <td>0.0</td>\n",
       "      <td>35</td>\n",
       "      <td>1</td>\n",
       "    </tr>\n",
       "    <tr>\n",
       "      <th>2015-10-01 01:00:00</th>\n",
       "      <td>0.0</td>\n",
       "      <td>35</td>\n",
       "      <td>1</td>\n",
       "    </tr>\n",
       "    <tr>\n",
       "      <th>2015-10-01 02:00:00</th>\n",
       "      <td>0.0</td>\n",
       "      <td>35</td>\n",
       "      <td>1</td>\n",
       "    </tr>\n",
       "    <tr>\n",
       "      <th>2015-10-01 03:00:00</th>\n",
       "      <td>0.0</td>\n",
       "      <td>35</td>\n",
       "      <td>1</td>\n",
       "    </tr>\n",
       "    <tr>\n",
       "      <th>2015-10-01 04:00:00</th>\n",
       "      <td>0.0</td>\n",
       "      <td>35</td>\n",
       "      <td>1</td>\n",
       "    </tr>\n",
       "    <tr>\n",
       "      <th>...</th>\n",
       "      <td>...</td>\n",
       "      <td>...</td>\n",
       "      <td>...</td>\n",
       "    </tr>\n",
       "    <tr>\n",
       "      <th>2016-03-31 07:00:00</th>\n",
       "      <td>0.0</td>\n",
       "      <td>9982</td>\n",
       "      <td>1</td>\n",
       "    </tr>\n",
       "    <tr>\n",
       "      <th>2016-03-31 08:00:00</th>\n",
       "      <td>0.0</td>\n",
       "      <td>9982</td>\n",
       "      <td>1</td>\n",
       "    </tr>\n",
       "    <tr>\n",
       "      <th>2016-03-31 09:00:00</th>\n",
       "      <td>0.0</td>\n",
       "      <td>9982</td>\n",
       "      <td>1</td>\n",
       "    </tr>\n",
       "    <tr>\n",
       "      <th>2016-03-31 10:00:00</th>\n",
       "      <td>0.0</td>\n",
       "      <td>9982</td>\n",
       "      <td>1</td>\n",
       "    </tr>\n",
       "    <tr>\n",
       "      <th>2016-03-31 11:00:00</th>\n",
       "      <td>72.0</td>\n",
       "      <td>9982</td>\n",
       "      <td>1</td>\n",
       "    </tr>\n",
       "  </tbody>\n",
       "</table>\n",
       "<p>591478 rows × 3 columns</p>\n",
       "</div>"
      ],
      "text/plain": [
       "                     marginal_consumption  dataid  DST\n",
       "localminute                                           \n",
       "2015-10-01 00:00:00                   0.0      35    1\n",
       "2015-10-01 01:00:00                   0.0      35    1\n",
       "2015-10-01 02:00:00                   0.0      35    1\n",
       "2015-10-01 03:00:00                   0.0      35    1\n",
       "2015-10-01 04:00:00                   0.0      35    1\n",
       "...                                   ...     ...  ...\n",
       "2016-03-31 07:00:00                   0.0    9982    1\n",
       "2016-03-31 08:00:00                   0.0    9982    1\n",
       "2016-03-31 09:00:00                   0.0    9982    1\n",
       "2016-03-31 10:00:00                   0.0    9982    1\n",
       "2016-03-31 11:00:00                  72.0    9982    1\n",
       "\n",
       "[591478 rows x 3 columns]"
      ]
     },
     "execution_count": 28,
     "metadata": {},
     "output_type": "execute_result"
    }
   ],
   "source": [
    "df"
   ]
  },
  {
   "cell_type": "markdown",
   "metadata": {},
   "source": [
    "Now we have our new dataset resampled by the hour, with marginal consumption extracted. Let's have a look at the time series graphs now."
   ]
  },
  {
   "cell_type": "markdown",
   "metadata": {},
   "source": [
    "It seems there are outliers present that could hamper our model performance. Let us try and remove them. Firstly, let's start with the ones with a large negative marginal consumption. Since our meter value data is cumulative, the marginal consumption cannot be negative"
   ]
  },
  {
   "cell_type": "code",
   "execution_count": 29,
   "metadata": {},
   "outputs": [],
   "source": [
    "df = df[~df['dataid'].isin(df[df['marginal_consumption'] < -50]['dataid'].unique())]   "
   ]
  },
  {
   "cell_type": "code",
   "execution_count": 30,
   "metadata": {},
   "outputs": [
    {
     "data": {
      "text/plain": [
       "0"
      ]
     },
     "execution_count": 30,
     "metadata": {},
     "output_type": "execute_result"
    }
   ],
   "source": [
    "len(df[df['marginal_consumption'] < -50]['dataid'].unique())"
   ]
  },
  {
   "cell_type": "code",
   "execution_count": 31,
   "metadata": {},
   "outputs": [
    {
     "data": {
      "text/plain": [
       "129"
      ]
     },
     "execution_count": 31,
     "metadata": {},
     "output_type": "execute_result"
    }
   ],
   "source": [
    "len(df['dataid'].unique())"
   ]
  },
  {
   "cell_type": "code",
   "execution_count": 32,
   "metadata": {},
   "outputs": [],
   "source": [
    "extreme = df[df['marginal_consumption'] > 5000]['dataid'].unique()"
   ]
  },
  {
   "cell_type": "code",
   "execution_count": 33,
   "metadata": {},
   "outputs": [
    {
     "data": {
      "text/plain": [
       "0"
      ]
     },
     "execution_count": 33,
     "metadata": {},
     "output_type": "execute_result"
    }
   ],
   "source": [
    "len(df[df['dataid'] == 4874])"
   ]
  },
  {
   "cell_type": "code",
   "execution_count": 34,
   "metadata": {},
   "outputs": [
    {
     "data": {
      "text/plain": [
       "0.0"
      ]
     },
     "execution_count": 34,
     "metadata": {},
     "output_type": "execute_result"
    }
   ],
   "source": [
    "df['marginal_consumption'].min()"
   ]
  },
  {
   "cell_type": "code",
   "execution_count": 35,
   "metadata": {},
   "outputs": [
    {
     "data": {
      "text/plain": [
       "22"
      ]
     },
     "execution_count": 35,
     "metadata": {},
     "output_type": "execute_result"
    }
   ],
   "source": [
    "len(df[df['marginal_consumption'] > 1000]['dataid'].unique())"
   ]
  },
  {
   "cell_type": "code",
   "execution_count": 36,
   "metadata": {},
   "outputs": [
    {
     "data": {
      "text/plain": [
       "13982.0"
      ]
     },
     "execution_count": 36,
     "metadata": {},
     "output_type": "execute_result"
    }
   ],
   "source": [
    "df['marginal_consumption'].max()"
   ]
  },
  {
   "cell_type": "code",
   "execution_count": 37,
   "metadata": {},
   "outputs": [],
   "source": [
    "removed = []\n",
    "for dataid, group in df.groupby('dataid'): \n",
    "    ub = group['marginal_consumption'].quantile(0.99)\n",
    "    # outliers = group['marginal_consumption'][group['marginal_consumption'] > ub]\n",
    "    group.loc[group['marginal_consumption'] > ub] = np.nan\n",
    "    group = group.interpolate()\n",
    "    removed.append(group['marginal_consumption'])"
   ]
  },
  {
   "cell_type": "code",
   "execution_count": 38,
   "metadata": {},
   "outputs": [
    {
     "name": "stderr",
     "output_type": "stream",
     "text": [
      "/var/folders/tn/8lbbw7dn3f3b367scfqs7w3h0000gp/T/ipykernel_21223/3578771186.py:1: SettingWithCopyWarning: \n",
      "A value is trying to be set on a copy of a slice from a DataFrame.\n",
      "Try using .loc[row_indexer,col_indexer] = value instead\n",
      "\n",
      "See the caveats in the documentation: https://pandas.pydata.org/pandas-docs/stable/user_guide/indexing.html#returning-a-view-versus-a-copy\n",
      "  df['marginal_consumption'] = pd.concat(removed)\n"
     ]
    },
    {
     "data": {
      "text/plain": [
       "0"
      ]
     },
     "execution_count": 38,
     "metadata": {},
     "output_type": "execute_result"
    }
   ],
   "source": [
    "df['marginal_consumption'] = pd.concat(removed)\n",
    "df['marginal_consumption'].isna().sum()"
   ]
  },
  {
   "cell_type": "code",
   "execution_count": 39,
   "metadata": {},
   "outputs": [],
   "source": [
    "# for dataid, group in df.groupby('dataid'): \n",
    "#     plt.hist(group['marginal_consumption'])\n",
    "#     plt.show()"
   ]
  },
  {
   "cell_type": "code",
   "execution_count": 40,
   "metadata": {},
   "outputs": [],
   "source": [
    "from scipy import stats"
   ]
  },
  {
   "cell_type": "code",
   "execution_count": 41,
   "metadata": {},
   "outputs": [],
   "source": [
    "df.reset_index(inplace=True)"
   ]
  },
  {
   "cell_type": "code",
   "execution_count": 42,
   "metadata": {},
   "outputs": [
    {
     "name": "stderr",
     "output_type": "stream",
     "text": [
      "/var/folders/tn/8lbbw7dn3f3b367scfqs7w3h0000gp/T/ipykernel_21223/1795095638.py:1: SettingWithCopyWarning: \n",
      "A value is trying to be set on a copy of a slice from a DataFrame.\n",
      "Try using .loc[row_indexer,col_indexer] = value instead\n",
      "\n",
      "See the caveats in the documentation: https://pandas.pydata.org/pandas-docs/stable/user_guide/indexing.html#returning-a-view-versus-a-copy\n",
      "  df[\"marginal_diff\"] = df[\"marginal_consumption\"].diff()\n",
      "/var/folders/tn/8lbbw7dn3f3b367scfqs7w3h0000gp/T/ipykernel_21223/1795095638.py:2: SettingWithCopyWarning: \n",
      "A value is trying to be set on a copy of a slice from a DataFrame\n",
      "\n",
      "See the caveats in the documentation: https://pandas.pydata.org/pandas-docs/stable/user_guide/indexing.html#returning-a-view-versus-a-copy\n",
      "  df.fillna(0, inplace=True)\n"
     ]
    },
    {
     "data": {
      "text/html": [
       "<div>\n",
       "<style scoped>\n",
       "    .dataframe tbody tr th:only-of-type {\n",
       "        vertical-align: middle;\n",
       "    }\n",
       "\n",
       "    .dataframe tbody tr th {\n",
       "        vertical-align: top;\n",
       "    }\n",
       "\n",
       "    .dataframe thead th {\n",
       "        text-align: right;\n",
       "    }\n",
       "</style>\n",
       "<table border=\"1\" class=\"dataframe\">\n",
       "  <thead>\n",
       "    <tr style=\"text-align: right;\">\n",
       "      <th></th>\n",
       "      <th>localminute</th>\n",
       "      <th>marginal_consumption</th>\n",
       "      <th>dataid</th>\n",
       "      <th>DST</th>\n",
       "      <th>marginal_diff</th>\n",
       "    </tr>\n",
       "  </thead>\n",
       "  <tbody>\n",
       "    <tr>\n",
       "      <th>0</th>\n",
       "      <td>2015-10-01 00:00:00</td>\n",
       "      <td>0.0</td>\n",
       "      <td>35</td>\n",
       "      <td>1</td>\n",
       "      <td>0.0</td>\n",
       "    </tr>\n",
       "    <tr>\n",
       "      <th>1</th>\n",
       "      <td>2015-10-01 01:00:00</td>\n",
       "      <td>0.0</td>\n",
       "      <td>35</td>\n",
       "      <td>1</td>\n",
       "      <td>0.0</td>\n",
       "    </tr>\n",
       "    <tr>\n",
       "      <th>2</th>\n",
       "      <td>2015-10-01 02:00:00</td>\n",
       "      <td>0.0</td>\n",
       "      <td>35</td>\n",
       "      <td>1</td>\n",
       "      <td>0.0</td>\n",
       "    </tr>\n",
       "    <tr>\n",
       "      <th>3</th>\n",
       "      <td>2015-10-01 03:00:00</td>\n",
       "      <td>0.0</td>\n",
       "      <td>35</td>\n",
       "      <td>1</td>\n",
       "      <td>0.0</td>\n",
       "    </tr>\n",
       "    <tr>\n",
       "      <th>4</th>\n",
       "      <td>2015-10-01 04:00:00</td>\n",
       "      <td>0.0</td>\n",
       "      <td>35</td>\n",
       "      <td>1</td>\n",
       "      <td>0.0</td>\n",
       "    </tr>\n",
       "    <tr>\n",
       "      <th>...</th>\n",
       "      <td>...</td>\n",
       "      <td>...</td>\n",
       "      <td>...</td>\n",
       "      <td>...</td>\n",
       "      <td>...</td>\n",
       "    </tr>\n",
       "    <tr>\n",
       "      <th>525616</th>\n",
       "      <td>2016-02-08 12:00:00</td>\n",
       "      <td>0.0</td>\n",
       "      <td>9956</td>\n",
       "      <td>0</td>\n",
       "      <td>0.0</td>\n",
       "    </tr>\n",
       "    <tr>\n",
       "      <th>525617</th>\n",
       "      <td>2016-02-08 13:00:00</td>\n",
       "      <td>0.0</td>\n",
       "      <td>9956</td>\n",
       "      <td>0</td>\n",
       "      <td>0.0</td>\n",
       "    </tr>\n",
       "    <tr>\n",
       "      <th>525618</th>\n",
       "      <td>2016-02-08 14:00:00</td>\n",
       "      <td>0.0</td>\n",
       "      <td>9956</td>\n",
       "      <td>0</td>\n",
       "      <td>0.0</td>\n",
       "    </tr>\n",
       "    <tr>\n",
       "      <th>525619</th>\n",
       "      <td>2016-02-08 15:00:00</td>\n",
       "      <td>0.0</td>\n",
       "      <td>9956</td>\n",
       "      <td>0</td>\n",
       "      <td>0.0</td>\n",
       "    </tr>\n",
       "    <tr>\n",
       "      <th>525620</th>\n",
       "      <td>2016-02-08 16:00:00</td>\n",
       "      <td>0.0</td>\n",
       "      <td>9956</td>\n",
       "      <td>0</td>\n",
       "      <td>0.0</td>\n",
       "    </tr>\n",
       "  </tbody>\n",
       "</table>\n",
       "<p>525621 rows × 5 columns</p>\n",
       "</div>"
      ],
      "text/plain": [
       "               localminute  marginal_consumption  dataid  DST  marginal_diff\n",
       "0      2015-10-01 00:00:00                   0.0      35    1            0.0\n",
       "1      2015-10-01 01:00:00                   0.0      35    1            0.0\n",
       "2      2015-10-01 02:00:00                   0.0      35    1            0.0\n",
       "3      2015-10-01 03:00:00                   0.0      35    1            0.0\n",
       "4      2015-10-01 04:00:00                   0.0      35    1            0.0\n",
       "...                    ...                   ...     ...  ...            ...\n",
       "525616 2016-02-08 12:00:00                   0.0    9956    0            0.0\n",
       "525617 2016-02-08 13:00:00                   0.0    9956    0            0.0\n",
       "525618 2016-02-08 14:00:00                   0.0    9956    0            0.0\n",
       "525619 2016-02-08 15:00:00                   0.0    9956    0            0.0\n",
       "525620 2016-02-08 16:00:00                   0.0    9956    0            0.0\n",
       "\n",
       "[525621 rows x 5 columns]"
      ]
     },
     "execution_count": 42,
     "metadata": {},
     "output_type": "execute_result"
    }
   ],
   "source": [
    "df[\"marginal_diff\"] = df[\"marginal_consumption\"].diff()\n",
    "df.fillna(0, inplace=True)\n",
    "df"
   ]
  },
  {
   "cell_type": "code",
   "execution_count": 43,
   "metadata": {},
   "outputs": [
    {
     "data": {
      "text/plain": [
       "0         2015\n",
       "1         2015\n",
       "2         2015\n",
       "3         2015\n",
       "4         2015\n",
       "          ... \n",
       "525616    2016\n",
       "525617    2016\n",
       "525618    2016\n",
       "525619    2016\n",
       "525620    2016\n",
       "Name: localminute, Length: 525621, dtype: int32"
      ]
     },
     "execution_count": 43,
     "metadata": {},
     "output_type": "execute_result"
    }
   ],
   "source": [
    "df['localminute'].dt.year"
   ]
  },
  {
   "cell_type": "code",
   "execution_count": 44,
   "metadata": {},
   "outputs": [
    {
     "name": "stderr",
     "output_type": "stream",
     "text": [
      "/var/folders/tn/8lbbw7dn3f3b367scfqs7w3h0000gp/T/ipykernel_21223/2349163691.py:1: SettingWithCopyWarning: \n",
      "A value is trying to be set on a copy of a slice from a DataFrame.\n",
      "Try using .loc[row_indexer,col_indexer] = value instead\n",
      "\n",
      "See the caveats in the documentation: https://pandas.pydata.org/pandas-docs/stable/user_guide/indexing.html#returning-a-view-versus-a-copy\n",
      "  df['week'] = df['localminute'].dt.isocalendar().week\n"
     ]
    },
    {
     "data": {
      "text/plain": [
       "0         40\n",
       "1         40\n",
       "2         40\n",
       "3         40\n",
       "4         40\n",
       "          ..\n",
       "525616     6\n",
       "525617     6\n",
       "525618     6\n",
       "525619     6\n",
       "525620     6\n",
       "Name: week, Length: 525621, dtype: UInt32"
      ]
     },
     "execution_count": 44,
     "metadata": {},
     "output_type": "execute_result"
    }
   ],
   "source": [
    "df['week'] = df['localminute'].dt.isocalendar().week\n",
    "df['week']"
   ]
  },
  {
   "cell_type": "code",
   "execution_count": 45,
   "metadata": {},
   "outputs": [],
   "source": [
    "standardized = []\n",
    "for dataid, group in df.groupby('dataid'):\n",
    "    weekly_variance = group.groupby(group['localminute'].dt.isocalendar().week)['marginal_diff'].std()\n",
    "    mapped_weekly_variance = group['localminute'].map(lambda x: weekly_variance.loc[x.week])\n",
    "    group['marginal_diff'] = np.where(mapped_weekly_variance != 0, group['marginal_diff'] / mapped_weekly_variance, 0)\n",
    "    standardized.append(group['marginal_diff'])\n",
    "    # group.set_index('localminute')['marginal_diff'].plot(figsize=(15,5))\n",
    "    # plt.xlabel('Date')\n",
    "    # plt.ylabel('Standardized beer production rate')\n",
    "    # plt.grid()\n",
    "    # plt.show()"
   ]
  },
  {
   "cell_type": "code",
   "execution_count": 46,
   "metadata": {},
   "outputs": [
    {
     "name": "stderr",
     "output_type": "stream",
     "text": [
      "/var/folders/tn/8lbbw7dn3f3b367scfqs7w3h0000gp/T/ipykernel_21223/2381088770.py:1: SettingWithCopyWarning: \n",
      "A value is trying to be set on a copy of a slice from a DataFrame.\n",
      "Try using .loc[row_indexer,col_indexer] = value instead\n",
      "\n",
      "See the caveats in the documentation: https://pandas.pydata.org/pandas-docs/stable/user_guide/indexing.html#returning-a-view-versus-a-copy\n",
      "  df['marginal_diff'] = pd.concat(standardized)\n"
     ]
    },
    {
     "data": {
      "text/plain": [
       "0         0.0\n",
       "1         0.0\n",
       "2         0.0\n",
       "3         0.0\n",
       "4         0.0\n",
       "         ... \n",
       "525616    0.0\n",
       "525617    0.0\n",
       "525618    0.0\n",
       "525619    0.0\n",
       "525620    0.0\n",
       "Name: marginal_diff, Length: 525621, dtype: float64"
      ]
     },
     "execution_count": 46,
     "metadata": {},
     "output_type": "execute_result"
    }
   ],
   "source": [
    "df['marginal_diff'] = pd.concat(standardized)\n",
    "df['marginal_diff']"
   ]
  },
  {
   "cell_type": "code",
   "execution_count": 47,
   "metadata": {},
   "outputs": [
    {
     "data": {
      "text/plain": [
       "localminute             0\n",
       "marginal_consumption    0\n",
       "dataid                  0\n",
       "DST                     0\n",
       "marginal_diff           0\n",
       "week                    0\n",
       "dtype: int64"
      ]
     },
     "execution_count": 47,
     "metadata": {},
     "output_type": "execute_result"
    }
   ],
   "source": [
    "df.isna().sum()"
   ]
  },
  {
   "cell_type": "code",
   "execution_count": 48,
   "metadata": {},
   "outputs": [
    {
     "name": "stdout",
     "output_type": "stream",
     "text": [
      "Stationary\n",
      "Stationary\n",
      "Stationary\n",
      "Stationary\n",
      "Stationary\n",
      "Stationary\n",
      "Stationary\n",
      "Stationary\n",
      "Stationary\n",
      "Stationary\n",
      "Stationary\n",
      "Stationary\n",
      "Stationary\n",
      "Stationary\n",
      "Stationary\n",
      "Stationary\n",
      "Stationary\n",
      "Stationary\n",
      "Stationary\n",
      "Stationary\n",
      "Stationary\n",
      "Stationary\n",
      "Stationary\n",
      "Stationary\n",
      "Stationary\n",
      "Stationary\n",
      "Stationary\n",
      "Stationary\n",
      "Stationary\n",
      "Stationary\n",
      "Stationary\n",
      "Stationary\n",
      "Stationary\n",
      "Stationary\n",
      "Stationary\n",
      "Stationary\n",
      "Stationary\n",
      "Stationary\n",
      "Stationary\n",
      "Stationary\n",
      "Stationary\n",
      "Stationary\n",
      "Stationary\n",
      "Stationary\n",
      "Stationary\n",
      "Stationary\n",
      "Stationary\n",
      "Stationary\n",
      "Stationary\n",
      "Stationary\n",
      "Stationary\n",
      "Stationary\n",
      "Stationary\n",
      "Stationary\n",
      "Stationary\n",
      "Stationary\n",
      "Stationary\n",
      "Stationary\n",
      "Stationary\n",
      "Stationary\n",
      "Stationary\n",
      "Stationary\n",
      "Stationary\n",
      "Stationary\n",
      "Stationary\n",
      "Stationary\n",
      "Stationary\n",
      "Stationary\n",
      "Stationary\n",
      "Stationary\n",
      "Stationary\n",
      "Stationary\n",
      "Stationary\n",
      "Stationary\n",
      "Stationary\n",
      "Stationary\n",
      "Stationary\n",
      "Stationary\n",
      "Stationary\n",
      "Stationary\n",
      "Stationary\n",
      "Stationary\n",
      "Stationary\n",
      "Stationary\n",
      "Stationary\n",
      "Stationary\n",
      "Stationary\n",
      "Stationary\n",
      "Stationary\n",
      "Stationary\n",
      "Stationary\n",
      "Stationary\n",
      "Stationary\n",
      "Stationary\n",
      "Stationary\n",
      "Stationary\n",
      "Stationary\n",
      "Stationary\n",
      "Stationary\n",
      "Stationary\n",
      "Stationary\n",
      "Stationary\n",
      "Stationary\n",
      "Stationary\n",
      "Stationary\n",
      "Stationary\n",
      "Stationary\n",
      "Stationary\n",
      "Stationary\n",
      "Stationary\n",
      "Stationary\n",
      "Stationary\n",
      "Stationary\n",
      "Stationary\n",
      "Stationary\n",
      "Stationary\n",
      "Stationary\n",
      "Stationary\n",
      "Stationary\n",
      "Stationary\n",
      "Stationary\n",
      "Stationary\n",
      "Stationary\n",
      "Stationary\n",
      "Stationary\n",
      "Stationary\n",
      "Stationary\n",
      "Stationary\n",
      "Stationary\n"
     ]
    }
   ],
   "source": [
    "from statsmodels.tsa.stattools import adfuller\n",
    "\n",
    "for dataid, group in df.groupby('dataid'):\n",
    "    result = adfuller(group[\"marginal_diff\"].values)\n",
    "    if result[1] <= 0.05:\n",
    "        print(\"Stationary\")\n",
    "    else:\n",
    "        print(f\"Not stationary: {dataid}\")"
   ]
  },
  {
   "cell_type": "code",
   "execution_count": 49,
   "metadata": {},
   "outputs": [],
   "source": [
    "import warnings\n",
    "from statsmodels.tools.sm_exceptions import InterpolationWarning\n",
    "warnings.simplefilter('ignore', InterpolationWarning)\n"
   ]
  },
  {
   "cell_type": "code",
   "execution_count": 50,
   "metadata": {},
   "outputs": [
    {
     "name": "stdout",
     "output_type": "stream",
     "text": [
      "Not stationary: 35\n",
      "Stationary\n",
      "Stationary\n",
      "Stationary\n",
      "Stationary\n",
      "Stationary\n",
      "Stationary\n",
      "Stationary\n",
      "Stationary\n",
      "Stationary\n",
      "Stationary\n",
      "Not stationary: 661\n",
      "Stationary\n",
      "Stationary\n",
      "Stationary\n",
      "Stationary\n",
      "Stationary\n",
      "Stationary\n",
      "Stationary\n",
      "Stationary\n",
      "Stationary\n",
      "Stationary\n",
      "Stationary\n",
      "Stationary\n",
      "Stationary\n",
      "Stationary\n",
      "Stationary\n",
      "Stationary\n",
      "Stationary\n",
      "Not stationary: 1800\n",
      "Stationary\n",
      "Stationary\n",
      "Stationary\n",
      "Stationary\n",
      "Stationary\n",
      "Stationary\n",
      "Stationary\n",
      "Stationary\n",
      "Stationary\n",
      "Stationary\n",
      "Stationary\n",
      "Stationary\n",
      "Stationary\n",
      "Stationary\n",
      "Stationary\n",
      "Stationary\n",
      "Stationary\n",
      "Stationary\n",
      "Stationary\n",
      "Stationary\n",
      "Stationary\n",
      "Stationary\n",
      "Stationary\n",
      "Not stationary: 3723\n",
      "Stationary\n",
      "Stationary\n",
      "Stationary\n",
      "Stationary\n",
      "Stationary\n",
      "Stationary\n",
      "Stationary\n",
      "Stationary\n",
      "Stationary\n",
      "Stationary\n",
      "Stationary\n",
      "Stationary\n",
      "Stationary\n",
      "Stationary\n",
      "Stationary\n",
      "Stationary\n",
      "Stationary\n",
      "Stationary\n",
      "Stationary\n",
      "Not stationary: 5275\n",
      "Stationary\n",
      "Stationary\n",
      "Stationary\n",
      "Stationary\n",
      "Stationary\n",
      "Stationary\n",
      "Stationary\n",
      "Stationary\n",
      "Stationary\n",
      "Stationary\n",
      "Stationary\n",
      "Stationary\n",
      "Stationary\n",
      "Stationary\n",
      "Stationary\n",
      "Stationary\n",
      "Stationary\n",
      "Stationary\n",
      "Stationary\n",
      "Stationary\n",
      "Not stationary: 7287\n",
      "Stationary\n",
      "Stationary\n",
      "Stationary\n",
      "Stationary\n",
      "Stationary\n",
      "Stationary\n",
      "Stationary\n",
      "Stationary\n",
      "Not stationary: 7919\n",
      "Stationary\n",
      "Not stationary: 7989\n",
      "Stationary\n",
      "Stationary\n",
      "Stationary\n",
      "Stationary\n",
      "Stationary\n",
      "Stationary\n",
      "Stationary\n",
      "Stationary\n",
      "Stationary\n",
      "Stationary\n",
      "Stationary\n",
      "Stationary\n",
      "Stationary\n",
      "Stationary\n",
      "Stationary\n",
      "Stationary\n",
      "Stationary\n",
      "Stationary\n",
      "Stationary\n",
      "Stationary\n",
      "Not stationary: 9766\n",
      "Stationary\n",
      "Stationary\n"
     ]
    }
   ],
   "source": [
    "from statsmodels.tsa.stattools import kpss\n",
    "for dataid, group in df.groupby('dataid'):\n",
    "    result = kpss(group[\"marginal_diff\"].values, regression = \"ct\")\n",
    "    if result[1] > 0.05:\n",
    "        print(\"Stationary\")\n",
    "    else:\n",
    "        print(f\"Not stationary: {dataid}\")"
   ]
  },
  {
   "cell_type": "code",
   "execution_count": 51,
   "metadata": {},
   "outputs": [
    {
     "data": {
      "text/plain": [
       "0.09241104017679351"
      ]
     },
     "execution_count": 51,
     "metadata": {},
     "output_type": "execute_result"
    }
   ],
   "source": [
    "df['marginal_diff'].skew()"
   ]
  },
  {
   "cell_type": "code",
   "execution_count": 52,
   "metadata": {},
   "outputs": [
    {
     "name": "stderr",
     "output_type": "stream",
     "text": [
      "/var/folders/tn/8lbbw7dn3f3b367scfqs7w3h0000gp/T/ipykernel_21223/3429711195.py:1: SettingWithCopyWarning: \n",
      "A value is trying to be set on a copy of a slice from a DataFrame.\n",
      "Try using .loc[row_indexer,col_indexer] = value instead\n",
      "\n",
      "See the caveats in the documentation: https://pandas.pydata.org/pandas-docs/stable/user_guide/indexing.html#returning-a-view-versus-a-copy\n",
      "  df['year'] = df['localminute'].dt.year\n",
      "/var/folders/tn/8lbbw7dn3f3b367scfqs7w3h0000gp/T/ipykernel_21223/3429711195.py:2: SettingWithCopyWarning: \n",
      "A value is trying to be set on a copy of a slice from a DataFrame.\n",
      "Try using .loc[row_indexer,col_indexer] = value instead\n",
      "\n",
      "See the caveats in the documentation: https://pandas.pydata.org/pandas-docs/stable/user_guide/indexing.html#returning-a-view-versus-a-copy\n",
      "  df['month'] = df['localminute'].dt.month\n",
      "/var/folders/tn/8lbbw7dn3f3b367scfqs7w3h0000gp/T/ipykernel_21223/3429711195.py:3: SettingWithCopyWarning: \n",
      "A value is trying to be set on a copy of a slice from a DataFrame.\n",
      "Try using .loc[row_indexer,col_indexer] = value instead\n",
      "\n",
      "See the caveats in the documentation: https://pandas.pydata.org/pandas-docs/stable/user_guide/indexing.html#returning-a-view-versus-a-copy\n",
      "  df['day'] = df['localminute'].dt.day\n",
      "/var/folders/tn/8lbbw7dn3f3b367scfqs7w3h0000gp/T/ipykernel_21223/3429711195.py:4: SettingWithCopyWarning: \n",
      "A value is trying to be set on a copy of a slice from a DataFrame.\n",
      "Try using .loc[row_indexer,col_indexer] = value instead\n",
      "\n",
      "See the caveats in the documentation: https://pandas.pydata.org/pandas-docs/stable/user_guide/indexing.html#returning-a-view-versus-a-copy\n",
      "  df['hour'] = df['localminute'].dt.hour\n"
     ]
    },
    {
     "data": {
      "text/html": [
       "<div>\n",
       "<style scoped>\n",
       "    .dataframe tbody tr th:only-of-type {\n",
       "        vertical-align: middle;\n",
       "    }\n",
       "\n",
       "    .dataframe tbody tr th {\n",
       "        vertical-align: top;\n",
       "    }\n",
       "\n",
       "    .dataframe thead th {\n",
       "        text-align: right;\n",
       "    }\n",
       "</style>\n",
       "<table border=\"1\" class=\"dataframe\">\n",
       "  <thead>\n",
       "    <tr style=\"text-align: right;\">\n",
       "      <th></th>\n",
       "      <th>localminute</th>\n",
       "      <th>marginal_consumption</th>\n",
       "      <th>dataid</th>\n",
       "      <th>DST</th>\n",
       "      <th>marginal_diff</th>\n",
       "      <th>week</th>\n",
       "      <th>year</th>\n",
       "      <th>month</th>\n",
       "      <th>day</th>\n",
       "      <th>hour</th>\n",
       "    </tr>\n",
       "  </thead>\n",
       "  <tbody>\n",
       "    <tr>\n",
       "      <th>0</th>\n",
       "      <td>2015-10-01 00:00:00</td>\n",
       "      <td>0.0</td>\n",
       "      <td>35</td>\n",
       "      <td>1</td>\n",
       "      <td>0.0</td>\n",
       "      <td>40</td>\n",
       "      <td>2015</td>\n",
       "      <td>10</td>\n",
       "      <td>1</td>\n",
       "      <td>0</td>\n",
       "    </tr>\n",
       "    <tr>\n",
       "      <th>1</th>\n",
       "      <td>2015-10-01 01:00:00</td>\n",
       "      <td>0.0</td>\n",
       "      <td>35</td>\n",
       "      <td>1</td>\n",
       "      <td>0.0</td>\n",
       "      <td>40</td>\n",
       "      <td>2015</td>\n",
       "      <td>10</td>\n",
       "      <td>1</td>\n",
       "      <td>1</td>\n",
       "    </tr>\n",
       "    <tr>\n",
       "      <th>2</th>\n",
       "      <td>2015-10-01 02:00:00</td>\n",
       "      <td>0.0</td>\n",
       "      <td>35</td>\n",
       "      <td>1</td>\n",
       "      <td>0.0</td>\n",
       "      <td>40</td>\n",
       "      <td>2015</td>\n",
       "      <td>10</td>\n",
       "      <td>1</td>\n",
       "      <td>2</td>\n",
       "    </tr>\n",
       "    <tr>\n",
       "      <th>3</th>\n",
       "      <td>2015-10-01 03:00:00</td>\n",
       "      <td>0.0</td>\n",
       "      <td>35</td>\n",
       "      <td>1</td>\n",
       "      <td>0.0</td>\n",
       "      <td>40</td>\n",
       "      <td>2015</td>\n",
       "      <td>10</td>\n",
       "      <td>1</td>\n",
       "      <td>3</td>\n",
       "    </tr>\n",
       "    <tr>\n",
       "      <th>4</th>\n",
       "      <td>2015-10-01 04:00:00</td>\n",
       "      <td>0.0</td>\n",
       "      <td>35</td>\n",
       "      <td>1</td>\n",
       "      <td>0.0</td>\n",
       "      <td>40</td>\n",
       "      <td>2015</td>\n",
       "      <td>10</td>\n",
       "      <td>1</td>\n",
       "      <td>4</td>\n",
       "    </tr>\n",
       "    <tr>\n",
       "      <th>...</th>\n",
       "      <td>...</td>\n",
       "      <td>...</td>\n",
       "      <td>...</td>\n",
       "      <td>...</td>\n",
       "      <td>...</td>\n",
       "      <td>...</td>\n",
       "      <td>...</td>\n",
       "      <td>...</td>\n",
       "      <td>...</td>\n",
       "      <td>...</td>\n",
       "    </tr>\n",
       "    <tr>\n",
       "      <th>525616</th>\n",
       "      <td>2016-02-08 12:00:00</td>\n",
       "      <td>0.0</td>\n",
       "      <td>9956</td>\n",
       "      <td>0</td>\n",
       "      <td>0.0</td>\n",
       "      <td>6</td>\n",
       "      <td>2016</td>\n",
       "      <td>2</td>\n",
       "      <td>8</td>\n",
       "      <td>12</td>\n",
       "    </tr>\n",
       "    <tr>\n",
       "      <th>525617</th>\n",
       "      <td>2016-02-08 13:00:00</td>\n",
       "      <td>0.0</td>\n",
       "      <td>9956</td>\n",
       "      <td>0</td>\n",
       "      <td>0.0</td>\n",
       "      <td>6</td>\n",
       "      <td>2016</td>\n",
       "      <td>2</td>\n",
       "      <td>8</td>\n",
       "      <td>13</td>\n",
       "    </tr>\n",
       "    <tr>\n",
       "      <th>525618</th>\n",
       "      <td>2016-02-08 14:00:00</td>\n",
       "      <td>0.0</td>\n",
       "      <td>9956</td>\n",
       "      <td>0</td>\n",
       "      <td>0.0</td>\n",
       "      <td>6</td>\n",
       "      <td>2016</td>\n",
       "      <td>2</td>\n",
       "      <td>8</td>\n",
       "      <td>14</td>\n",
       "    </tr>\n",
       "    <tr>\n",
       "      <th>525619</th>\n",
       "      <td>2016-02-08 15:00:00</td>\n",
       "      <td>0.0</td>\n",
       "      <td>9956</td>\n",
       "      <td>0</td>\n",
       "      <td>0.0</td>\n",
       "      <td>6</td>\n",
       "      <td>2016</td>\n",
       "      <td>2</td>\n",
       "      <td>8</td>\n",
       "      <td>15</td>\n",
       "    </tr>\n",
       "    <tr>\n",
       "      <th>525620</th>\n",
       "      <td>2016-02-08 16:00:00</td>\n",
       "      <td>0.0</td>\n",
       "      <td>9956</td>\n",
       "      <td>0</td>\n",
       "      <td>0.0</td>\n",
       "      <td>6</td>\n",
       "      <td>2016</td>\n",
       "      <td>2</td>\n",
       "      <td>8</td>\n",
       "      <td>16</td>\n",
       "    </tr>\n",
       "  </tbody>\n",
       "</table>\n",
       "<p>525621 rows × 10 columns</p>\n",
       "</div>"
      ],
      "text/plain": [
       "               localminute  marginal_consumption  dataid  DST  marginal_diff  \\\n",
       "0      2015-10-01 00:00:00                   0.0      35    1            0.0   \n",
       "1      2015-10-01 01:00:00                   0.0      35    1            0.0   \n",
       "2      2015-10-01 02:00:00                   0.0      35    1            0.0   \n",
       "3      2015-10-01 03:00:00                   0.0      35    1            0.0   \n",
       "4      2015-10-01 04:00:00                   0.0      35    1            0.0   \n",
       "...                    ...                   ...     ...  ...            ...   \n",
       "525616 2016-02-08 12:00:00                   0.0    9956    0            0.0   \n",
       "525617 2016-02-08 13:00:00                   0.0    9956    0            0.0   \n",
       "525618 2016-02-08 14:00:00                   0.0    9956    0            0.0   \n",
       "525619 2016-02-08 15:00:00                   0.0    9956    0            0.0   \n",
       "525620 2016-02-08 16:00:00                   0.0    9956    0            0.0   \n",
       "\n",
       "        week  year  month  day  hour  \n",
       "0         40  2015     10    1     0  \n",
       "1         40  2015     10    1     1  \n",
       "2         40  2015     10    1     2  \n",
       "3         40  2015     10    1     3  \n",
       "4         40  2015     10    1     4  \n",
       "...      ...   ...    ...  ...   ...  \n",
       "525616     6  2016      2    8    12  \n",
       "525617     6  2016      2    8    13  \n",
       "525618     6  2016      2    8    14  \n",
       "525619     6  2016      2    8    15  \n",
       "525620     6  2016      2    8    16  \n",
       "\n",
       "[525621 rows x 10 columns]"
      ]
     },
     "execution_count": 52,
     "metadata": {},
     "output_type": "execute_result"
    }
   ],
   "source": [
    "df['year'] = df['localminute'].dt.year\n",
    "df['month'] = df['localminute'].dt.month\n",
    "df['day'] = df['localminute'].dt.day\n",
    "df['hour'] = df['localminute'].dt.hour\n",
    "df"
   ]
  },
  {
   "cell_type": "code",
   "execution_count": 53,
   "metadata": {},
   "outputs": [],
   "source": [
    "from sklearn.model_selection import train_test_split"
   ]
  },
  {
   "cell_type": "code",
   "execution_count": 54,
   "metadata": {},
   "outputs": [
    {
     "data": {
      "text/plain": [
       "(        marginal_consumption  dataid  DST  marginal_diff  week  year  month  \\\n",
       " 0                        0.0      35    1            0.0    40  2015     10   \n",
       " 1                        0.0      35    1            0.0    40  2015     10   \n",
       " 2                        0.0      35    1            0.0    40  2015     10   \n",
       " 3                        0.0      35    1            0.0    40  2015     10   \n",
       " 4                        0.0      35    1            0.0    40  2015     10   \n",
       " ...                      ...     ...  ...            ...   ...   ...    ...   \n",
       " 525616                   0.0    9956    0            0.0     6  2016      2   \n",
       " 525617                   0.0    9956    0            0.0     6  2016      2   \n",
       " 525618                   0.0    9956    0            0.0     6  2016      2   \n",
       " 525619                   0.0    9956    0            0.0     6  2016      2   \n",
       " 525620                   0.0    9956    0            0.0     6  2016      2   \n",
       " \n",
       "         day  hour  \n",
       " 0         1     0  \n",
       " 1         1     1  \n",
       " 2         1     2  \n",
       " 3         1     3  \n",
       " 4         1     4  \n",
       " ...     ...   ...  \n",
       " 525616    8    12  \n",
       " 525617    8    13  \n",
       " 525618    8    14  \n",
       " 525619    8    15  \n",
       " 525620    8    16  \n",
       " \n",
       " [525621 rows x 9 columns],\n",
       " 0         0.0\n",
       " 1         0.0\n",
       " 2         0.0\n",
       " 3         0.0\n",
       " 4         0.0\n",
       "          ... \n",
       " 525616    0.0\n",
       " 525617    0.0\n",
       " 525618    0.0\n",
       " 525619    0.0\n",
       " 525620    0.0\n",
       " Name: marginal_diff, Length: 525621, dtype: float64)"
      ]
     },
     "execution_count": 54,
     "metadata": {},
     "output_type": "execute_result"
    }
   ],
   "source": [
    "X = df.drop('localminute', axis=1)\n",
    "y = df['marginal_diff']\n",
    "X, y"
   ]
  },
  {
   "cell_type": "code",
   "execution_count": 55,
   "metadata": {},
   "outputs": [
    {
     "data": {
      "text/plain": [
       "11.003368192908635"
      ]
     },
     "execution_count": 55,
     "metadata": {},
     "output_type": "execute_result"
    }
   ],
   "source": [
    "df['marginal_diff'].max()"
   ]
  },
  {
   "cell_type": "code",
   "execution_count": 56,
   "metadata": {},
   "outputs": [],
   "source": [
    "X_train, X_test, y_train, y_test = train_test_split(X, y, random_state=42, train_size =0.8)"
   ]
  },
  {
   "cell_type": "code",
   "execution_count": 57,
   "metadata": {},
   "outputs": [],
   "source": [
    "def introduce_missing_values(data, missing_percentage):\n",
    "    data_with_missing = data.copy()\n",
    "    n_missing = int(np.floor(missing_percentage * data_with_missing.shape[0]))\n",
    "    missing_indices = np.random.choice(data_with_missing.index, n_missing, replace=False)\n",
    "    data_with_missing.loc[missing_indices, 'marginal_diff'] = np.nan\n",
    "    return data_with_missing"
   ]
  },
  {
   "cell_type": "code",
   "execution_count": 58,
   "metadata": {},
   "outputs": [],
   "source": [
    "missing_prob = 0.05  # Adjust the probability as needed\n",
    "X_train = introduce_missing_values(X_train, missing_prob)\n",
    "X_test = introduce_missing_values(X_test, missing_prob)"
   ]
  },
  {
   "cell_type": "code",
   "execution_count": 59,
   "metadata": {},
   "outputs": [],
   "source": [
    "from sklearn.preprocessing import RobustScaler\n",
    "scaler = RobustScaler()"
   ]
  },
  {
   "cell_type": "code",
   "execution_count": 60,
   "metadata": {},
   "outputs": [],
   "source": [
    "train_values = X_train['marginal_diff'].values\n",
    "test_values = X_test['marginal_diff'].values\n",
    "X_train_scaled = scaler.fit_transform(train_values.reshape((len(train_values), 1)))\n",
    "X_test_scaled = scaler.transform(test_values.reshape((len(test_values), 1)))"
   ]
  },
  {
   "cell_type": "code",
   "execution_count": 61,
   "metadata": {},
   "outputs": [
    {
     "data": {
      "text/plain": [
       "array([[ 0.        ],\n",
       "       [-0.32408555],\n",
       "       [-0.34825087],\n",
       "       ...,\n",
       "       [ 0.        ],\n",
       "       [ 1.11711569],\n",
       "       [ 0.        ]])"
      ]
     },
     "execution_count": 61,
     "metadata": {},
     "output_type": "execute_result"
    }
   ],
   "source": [
    "X_train_scaled"
   ]
  },
  {
   "cell_type": "code",
   "execution_count": 62,
   "metadata": {},
   "outputs": [],
   "source": [
    "X_train['marginal_diff'] = X_train_scaled\n",
    "X_test['marginal_diff'] = X_test_scaled"
   ]
  },
  {
   "cell_type": "code",
   "execution_count": 63,
   "metadata": {},
   "outputs": [],
   "source": [
    "# def create_sequences(X, y, seq_length):\n",
    "#   \"\"\"\n",
    "#   Creates sequences of data for time series modeling.\n",
    "\n",
    "#   Args:\n",
    "#     X: NumPy array of features with shape (num_samples, num_features).\n",
    "#     y: NumPy array of target values with shape (num_samples,).\n",
    "#     seq_length: Desired length of the sequences.\n",
    "\n",
    "#   Returns:\n",
    "#     A tuple of two NumPy arrays:\n",
    "#       - X_seq: Input sequences with shape (num_samples - seq_length, seq_length, num_features)\n",
    "#       - y_seq: Target values for each sequence with shape (num_samples - seq_length,)\n",
    "#   \"\"\"\n",
    "\n",
    "#   x_seq, y_seq = [], []\n",
    "#   for i in range(len(X) - seq_length):\n",
    "#     x_seq.append(X[i:i+seq_length])\n",
    "#     y_seq.append(y[i+seq_length])\n",
    "#   return np.array(x_seq), np.array(y_seq)\n",
    "\n",
    "def create_sequences(X, y, n_steps):\n",
    "    X_out, y_out = [], []\n",
    "    for i in range(len(X) - n_steps):\n",
    "        seq_x, seq_y = X[i:(i + n_steps)], y[i + n_steps]\n",
    "        X_out.append(seq_x)\n",
    "        y_out.append(seq_y)\n",
    "    return np.array(X_out), np.array(y_out)"
   ]
  },
  {
   "cell_type": "code",
   "execution_count": 64,
   "metadata": {},
   "outputs": [
    {
     "name": "stdout",
     "output_type": "stream",
     "text": [
      "(420496, 9) (420496,)\n",
      "(420472, 24, 9) (420472,)\n"
     ]
    }
   ],
   "source": [
    "seq_length = 24\n",
    "\n",
    "print(X_train.shape, y_train.shape)\n",
    "\n",
    "X_train_seq, y_train_seq = create_sequences(X_train.values, y_train.values, seq_length)\n",
    "X_test_seq, y_test_seq = create_sequences(X_test.values, y_test.values, seq_length)\n",
    "\n",
    "print(X_train_seq.shape, y_train_seq.shape)"
   ]
  },
  {
   "cell_type": "code",
   "execution_count": 65,
   "metadata": {},
   "outputs": [],
   "source": [
    "X_train_seq = X_train_seq.astype(np.float64)\n",
    "X_test_seq = X_test_seq.astype(np.float64)"
   ]
  },
  {
   "cell_type": "code",
   "execution_count": 66,
   "metadata": {},
   "outputs": [],
   "source": [
    "X_train_seq[np.isnan(X_train_seq)] = 50\n",
    "X_test_seq[np.isnan(X_test_seq)] = 50"
   ]
  },
  {
   "cell_type": "code",
   "execution_count": 67,
   "metadata": {},
   "outputs": [],
   "source": [
    "mask_train = X_train_seq == 50\n",
    "mask_test = X_test_seq == 50"
   ]
  },
  {
   "cell_type": "code",
   "execution_count": 68,
   "metadata": {},
   "outputs": [],
   "source": [
    "mask_train = mask_train.astype(np.int32)\n",
    "mask_test = mask_test.astype(np.int32)"
   ]
  },
  {
   "cell_type": "code",
   "execution_count": 69,
   "metadata": {},
   "outputs": [],
   "source": [
    "from tensorflow.keras.models import Sequential\n",
    "from tensorflow.keras.layers import LSTM, Dense, Masking\n",
    "from tensorflow.keras.losses import MeanSquaredError\n",
    "import tensorflow as tf"
   ]
  },
  {
   "cell_type": "code",
   "execution_count": 70,
   "metadata": {},
   "outputs": [
    {
     "name": "stderr",
     "output_type": "stream",
     "text": [
      "2024-08-26 22:53:12.698802: I metal_plugin/src/device/metal_device.cc:1154] Metal device set to: Apple M3\n",
      "2024-08-26 22:53:12.698827: I metal_plugin/src/device/metal_device.cc:296] systemMemory: 16.00 GB\n",
      "2024-08-26 22:53:12.698834: I metal_plugin/src/device/metal_device.cc:313] maxCacheSize: 5.33 GB\n",
      "2024-08-26 22:53:12.698855: I tensorflow/core/common_runtime/pluggable_device/pluggable_device_factory.cc:305] Could not identify NUMA node of platform GPU ID 0, defaulting to 0. Your kernel may not have been built with NUMA support.\n",
      "2024-08-26 22:53:12.698869: I tensorflow/core/common_runtime/pluggable_device/pluggable_device_factory.cc:271] Created TensorFlow device (/job:localhost/replica:0/task:0/device:GPU:0 with 0 MB memory) -> physical PluggableDevice (device: 0, name: METAL, pci bus id: <undefined>)\n",
      "/Users/Dev/Documents/Projects/imputation-research/Tensorflow/env/lib/python3.10/site-packages/keras/src/layers/rnn/rnn.py:204: UserWarning: Do not pass an `input_shape`/`input_dim` argument to a layer. When using Sequential models, prefer using an `Input(shape)` object as the first layer in the model instead.\n",
      "  super().__init__(**kwargs)\n"
     ]
    }
   ],
   "source": [
    "model = Sequential([\n",
    "    Masking(mask_value=50),\n",
    "    LSTM(units=64, return_sequences=True, input_shape=(X_train_seq.shape[1], X_train_seq.shape[2])),\n",
    "    Dense(1)\n",
    "])"
   ]
  },
  {
   "cell_type": "code",
   "execution_count": 71,
   "metadata": {},
   "outputs": [],
   "source": [
    "def custom_loss(y_true, y_pred):\n",
    "  mask = tf.cast(mask_train, tf.float32)\n",
    "  return tf.reduce_mean(mask * tf.square(y_true - y_pred))"
   ]
  },
  {
   "cell_type": "code",
   "execution_count": 72,
   "metadata": {},
   "outputs": [],
   "source": [
    "model.compile(loss=custom_loss, optimizer='adam')"
   ]
  },
  {
   "cell_type": "code",
   "execution_count": null,
   "metadata": {},
   "outputs": [
    {
     "name": "stdout",
     "output_type": "stream",
     "text": [
      "Epoch 1/100\n"
     ]
    }
   ],
   "source": [
    "model.fit(X_train_seq, y_train_seq, epochs=100, batch_size=32)"
   ]
  },
  {
   "cell_type": "code",
   "execution_count": 112,
   "metadata": {},
   "outputs": [
    {
     "data": {
      "text/plain": [
       "array([dtype('float64')], dtype=object)"
      ]
     },
     "execution_count": 112,
     "metadata": {},
     "output_type": "execute_result"
    }
   ],
   "source": [
    "np.unique(y_train_seq.dtype)"
   ]
  },
  {
   "cell_type": "code",
   "execution_count": null,
   "metadata": {},
   "outputs": [],
   "source": []
  }
 ],
 "metadata": {
  "kernelspec": {
   "display_name": "Python 3 (ipykernel)",
   "language": "python",
   "name": "python3"
  },
  "language_info": {
   "codemirror_mode": {
    "name": "ipython",
    "version": 3
   },
   "file_extension": ".py",
   "mimetype": "text/x-python",
   "name": "python",
   "nbconvert_exporter": "python",
   "pygments_lexer": "ipython3",
   "version": "3.10.14"
  }
 },
 "nbformat": 4,
 "nbformat_minor": 4
}
