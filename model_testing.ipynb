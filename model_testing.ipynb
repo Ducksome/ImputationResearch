{
 "cells": [
  {
   "cell_type": "code",
   "execution_count": 31,
   "id": "0ca310a0-d132-438d-985f-9361a79db1a1",
   "metadata": {},
   "outputs": [],
   "source": [
    "import pmdarima as pm"
   ]
  },
  {
   "cell_type": "code",
   "execution_count": 32,
   "id": "b16d2ac5-98cd-4f09-9633-a4a5dab7a479",
   "metadata": {},
   "outputs": [],
   "source": [
    "import matplotlib.pyplot as plt\n",
    "import seaborn as sns\n",
    "import numpy as np\n",
    "import pandas as pd"
   ]
  },
  {
   "cell_type": "code",
   "execution_count": 33,
   "id": "e4d84039-98a0-4f16-a4d2-59ac11a8f954",
   "metadata": {},
   "outputs": [],
   "source": [
    "df = pd.read_csv(\"formatted_data.csv\")"
   ]
  },
  {
   "cell_type": "code",
   "execution_count": 34,
   "id": "d61171d1-e79b-46cc-acbc-17f18d6697da",
   "metadata": {},
   "outputs": [
    {
     "data": {
      "text/html": [
       "<div>\n",
       "<style scoped>\n",
       "    .dataframe tbody tr th:only-of-type {\n",
       "        vertical-align: middle;\n",
       "    }\n",
       "\n",
       "    .dataframe tbody tr th {\n",
       "        vertical-align: top;\n",
       "    }\n",
       "\n",
       "    .dataframe thead th {\n",
       "        text-align: right;\n",
       "    }\n",
       "</style>\n",
       "<table border=\"1\" class=\"dataframe\">\n",
       "  <thead>\n",
       "    <tr style=\"text-align: right;\">\n",
       "      <th></th>\n",
       "      <th>Unnamed: 0</th>\n",
       "      <th>localminute</th>\n",
       "      <th>marginal_consumption</th>\n",
       "      <th>dataid</th>\n",
       "      <th>DST</th>\n",
       "      <th>transformed</th>\n",
       "    </tr>\n",
       "  </thead>\n",
       "  <tbody>\n",
       "    <tr>\n",
       "      <th>0</th>\n",
       "      <td>0</td>\n",
       "      <td>2015-10-01 00:00:00</td>\n",
       "      <td>0.0</td>\n",
       "      <td>35</td>\n",
       "      <td>1</td>\n",
       "      <td>0.00000</td>\n",
       "    </tr>\n",
       "    <tr>\n",
       "      <th>1</th>\n",
       "      <td>1</td>\n",
       "      <td>2015-10-01 01:00:00</td>\n",
       "      <td>0.0</td>\n",
       "      <td>35</td>\n",
       "      <td>1</td>\n",
       "      <td>0.00000</td>\n",
       "    </tr>\n",
       "    <tr>\n",
       "      <th>2</th>\n",
       "      <td>2</td>\n",
       "      <td>2015-10-01 02:00:00</td>\n",
       "      <td>0.0</td>\n",
       "      <td>35</td>\n",
       "      <td>1</td>\n",
       "      <td>0.00000</td>\n",
       "    </tr>\n",
       "    <tr>\n",
       "      <th>3</th>\n",
       "      <td>3</td>\n",
       "      <td>2015-10-01 03:00:00</td>\n",
       "      <td>0.0</td>\n",
       "      <td>35</td>\n",
       "      <td>1</td>\n",
       "      <td>0.00000</td>\n",
       "    </tr>\n",
       "    <tr>\n",
       "      <th>4</th>\n",
       "      <td>4</td>\n",
       "      <td>2015-10-01 04:00:00</td>\n",
       "      <td>0.0</td>\n",
       "      <td>35</td>\n",
       "      <td>1</td>\n",
       "      <td>0.00000</td>\n",
       "    </tr>\n",
       "    <tr>\n",
       "      <th>...</th>\n",
       "      <td>...</td>\n",
       "      <td>...</td>\n",
       "      <td>...</td>\n",
       "      <td>...</td>\n",
       "      <td>...</td>\n",
       "      <td>...</td>\n",
       "    </tr>\n",
       "    <tr>\n",
       "      <th>525616</th>\n",
       "      <td>525616</td>\n",
       "      <td>2016-02-08 12:00:00</td>\n",
       "      <td>0.0</td>\n",
       "      <td>9956</td>\n",
       "      <td>0</td>\n",
       "      <td>0.00000</td>\n",
       "    </tr>\n",
       "    <tr>\n",
       "      <th>525617</th>\n",
       "      <td>525617</td>\n",
       "      <td>2016-02-08 13:00:00</td>\n",
       "      <td>0.0</td>\n",
       "      <td>9956</td>\n",
       "      <td>0</td>\n",
       "      <td>0.00000</td>\n",
       "    </tr>\n",
       "    <tr>\n",
       "      <th>525618</th>\n",
       "      <td>525618</td>\n",
       "      <td>2016-02-08 14:00:00</td>\n",
       "      <td>0.0</td>\n",
       "      <td>9956</td>\n",
       "      <td>0</td>\n",
       "      <td>0.00000</td>\n",
       "    </tr>\n",
       "    <tr>\n",
       "      <th>525619</th>\n",
       "      <td>525619</td>\n",
       "      <td>2016-02-08 15:00:00</td>\n",
       "      <td>0.0</td>\n",
       "      <td>9956</td>\n",
       "      <td>0</td>\n",
       "      <td>0.00000</td>\n",
       "    </tr>\n",
       "    <tr>\n",
       "      <th>525620</th>\n",
       "      <td>525620</td>\n",
       "      <td>2016-02-08 16:00:00</td>\n",
       "      <td>14.0</td>\n",
       "      <td>9956</td>\n",
       "      <td>0</td>\n",
       "      <td>2.70805</td>\n",
       "    </tr>\n",
       "  </tbody>\n",
       "</table>\n",
       "<p>525621 rows × 6 columns</p>\n",
       "</div>"
      ],
      "text/plain": [
       "        Unnamed: 0          localminute  marginal_consumption  dataid  DST  \\\n",
       "0                0  2015-10-01 00:00:00                   0.0      35    1   \n",
       "1                1  2015-10-01 01:00:00                   0.0      35    1   \n",
       "2                2  2015-10-01 02:00:00                   0.0      35    1   \n",
       "3                3  2015-10-01 03:00:00                   0.0      35    1   \n",
       "4                4  2015-10-01 04:00:00                   0.0      35    1   \n",
       "...            ...                  ...                   ...     ...  ...   \n",
       "525616      525616  2016-02-08 12:00:00                   0.0    9956    0   \n",
       "525617      525617  2016-02-08 13:00:00                   0.0    9956    0   \n",
       "525618      525618  2016-02-08 14:00:00                   0.0    9956    0   \n",
       "525619      525619  2016-02-08 15:00:00                   0.0    9956    0   \n",
       "525620      525620  2016-02-08 16:00:00                  14.0    9956    0   \n",
       "\n",
       "        transformed  \n",
       "0           0.00000  \n",
       "1           0.00000  \n",
       "2           0.00000  \n",
       "3           0.00000  \n",
       "4           0.00000  \n",
       "...             ...  \n",
       "525616      0.00000  \n",
       "525617      0.00000  \n",
       "525618      0.00000  \n",
       "525619      0.00000  \n",
       "525620      2.70805  \n",
       "\n",
       "[525621 rows x 6 columns]"
      ]
     },
     "execution_count": 34,
     "metadata": {},
     "output_type": "execute_result"
    }
   ],
   "source": [
    "df"
   ]
  },
  {
   "cell_type": "code",
   "execution_count": 11,
   "id": "15cbefea-d175-4eeb-ae87-a4d1ab9a3d0d",
   "metadata": {},
   "outputs": [],
   "source": [
    "# from scipy.stats import boxcox\n",
    "# df['transformed_diff'], lam = boxcox(df['marginal_diff'])\n",
    "# print('Lambda: %f' % lam)"
   ]
  },
  {
   "cell_type": "code",
   "execution_count": 35,
   "id": "8a0bf761-c6e0-486e-a92a-ea0ef74702d0",
   "metadata": {},
   "outputs": [
    {
     "data": {
      "text/plain": [
       "0.0"
      ]
     },
     "execution_count": 35,
     "metadata": {},
     "output_type": "execute_result"
    }
   ],
   "source": [
    "df['marginal_consumption'].min()"
   ]
  },
  {
   "cell_type": "code",
   "execution_count": null,
   "id": "fdf523ab-e819-4635-aebd-26d85e198eab",
   "metadata": {},
   "outputs": [],
   "source": []
  }
 ],
 "metadata": {
  "kernelspec": {
   "display_name": "Python 3 (ipykernel)",
   "language": "python",
   "name": "python3"
  },
  "language_info": {
   "codemirror_mode": {
    "name": "ipython",
    "version": 3
   },
   "file_extension": ".py",
   "mimetype": "text/x-python",
   "name": "python",
   "nbconvert_exporter": "python",
   "pygments_lexer": "ipython3",
   "version": "3.12.4"
  }
 },
 "nbformat": 4,
 "nbformat_minor": 5
}
